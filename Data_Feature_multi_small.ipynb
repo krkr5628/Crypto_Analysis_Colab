{
  "cells": [
    {
      "cell_type": "code",
      "source": [
        "pip install pandas_ta"
      ],
      "metadata": {
        "id": "7C4TdopDE0Z-",
        "colab": {
          "base_uri": "https://localhost:8080/"
        },
        "outputId": "ab8f2ffd-d159-4dbd-f0e5-718e4580ad43"
      },
      "execution_count": null,
      "outputs": [
        {
          "output_type": "stream",
          "name": "stdout",
          "text": [
            "Collecting pandas_ta\n",
            "  Downloading pandas_ta-0.3.14b.tar.gz (115 kB)\n",
            "\u001b[2K     \u001b[90m━━━━━━━━━━━━━━━━━━━━━━━━━━━━━━━━━━━━━━━━\u001b[0m \u001b[32m115.1/115.1 kB\u001b[0m \u001b[31m1.1 MB/s\u001b[0m eta \u001b[36m0:00:00\u001b[0m\n",
            "\u001b[?25h  Preparing metadata (setup.py) ... \u001b[?25l\u001b[?25hdone\n",
            "Requirement already satisfied: pandas in /usr/local/lib/python3.10/dist-packages (from pandas_ta) (2.0.3)\n",
            "Requirement already satisfied: python-dateutil>=2.8.2 in /usr/local/lib/python3.10/dist-packages (from pandas->pandas_ta) (2.9.0.post0)\n",
            "Requirement already satisfied: pytz>=2020.1 in /usr/local/lib/python3.10/dist-packages (from pandas->pandas_ta) (2024.1)\n",
            "Requirement already satisfied: tzdata>=2022.1 in /usr/local/lib/python3.10/dist-packages (from pandas->pandas_ta) (2024.1)\n",
            "Requirement already satisfied: numpy>=1.21.0 in /usr/local/lib/python3.10/dist-packages (from pandas->pandas_ta) (1.25.2)\n",
            "Requirement already satisfied: six>=1.5 in /usr/local/lib/python3.10/dist-packages (from python-dateutil>=2.8.2->pandas->pandas_ta) (1.16.0)\n",
            "Building wheels for collected packages: pandas_ta\n",
            "  Building wheel for pandas_ta (setup.py) ... \u001b[?25l\u001b[?25hdone\n",
            "  Created wheel for pandas_ta: filename=pandas_ta-0.3.14b0-py3-none-any.whl size=218907 sha256=f3bc40de265ca54bb467edf3a75d6489207bbc545f2cbf4739244e32fd9b2855\n",
            "  Stored in directory: /root/.cache/pip/wheels/69/00/ac/f7fa862c34b0e2ef320175100c233377b4c558944f12474cf0\n",
            "Successfully built pandas_ta\n",
            "Installing collected packages: pandas_ta\n",
            "Successfully installed pandas_ta-0.3.14b0\n"
          ]
        }
      ]
    },
    {
      "cell_type": "code",
      "execution_count": null,
      "metadata": {
        "colab": {
          "base_uri": "https://localhost:8080/"
        },
        "id": "D9z29BkFNolf",
        "outputId": "a9d78098-dbdf-40ad-ce1d-fd452a79fc16"
      },
      "outputs": [
        {
          "output_type": "stream",
          "name": "stdout",
          "text": [
            "Collecting ta\n",
            "  Downloading ta-0.11.0.tar.gz (25 kB)\n",
            "  Preparing metadata (setup.py) ... \u001b[?25l\u001b[?25hdone\n",
            "Requirement already satisfied: numpy in /usr/local/lib/python3.10/dist-packages (from ta) (1.25.2)\n",
            "Requirement already satisfied: pandas in /usr/local/lib/python3.10/dist-packages (from ta) (2.0.3)\n",
            "Requirement already satisfied: python-dateutil>=2.8.2 in /usr/local/lib/python3.10/dist-packages (from pandas->ta) (2.9.0.post0)\n",
            "Requirement already satisfied: pytz>=2020.1 in /usr/local/lib/python3.10/dist-packages (from pandas->ta) (2024.1)\n",
            "Requirement already satisfied: tzdata>=2022.1 in /usr/local/lib/python3.10/dist-packages (from pandas->ta) (2024.1)\n",
            "Requirement already satisfied: six>=1.5 in /usr/local/lib/python3.10/dist-packages (from python-dateutil>=2.8.2->pandas->ta) (1.16.0)\n",
            "Building wheels for collected packages: ta\n",
            "  Building wheel for ta (setup.py) ... \u001b[?25l\u001b[?25hdone\n",
            "  Created wheel for ta: filename=ta-0.11.0-py3-none-any.whl size=29411 sha256=6a48a44fa556b78e97f50b7baf74d990eb8bbc3153b4dd531891d8574c9d5fff\n",
            "  Stored in directory: /root/.cache/pip/wheels/5f/67/4f/8a9f252836e053e532c6587a3230bc72a4deb16b03a829610b\n",
            "Successfully built ta\n",
            "Installing collected packages: ta\n",
            "Successfully installed ta-0.11.0\n"
          ]
        }
      ],
      "source": [
        "pip install ta"
      ]
    },
    {
      "cell_type": "code",
      "execution_count": null,
      "metadata": {
        "colab": {
          "base_uri": "https://localhost:8080/"
        },
        "id": "t289PfpFN-eA",
        "outputId": "c6512074-da2a-4397-932f-b7bbd1a799d0"
      },
      "outputs": [
        {
          "output_type": "stream",
          "name": "stdout",
          "text": [
            "Collecting shap\n",
            "  Downloading shap-0.46.0-cp310-cp310-manylinux_2_12_x86_64.manylinux2010_x86_64.manylinux_2_17_x86_64.manylinux2014_x86_64.whl (540 kB)\n",
            "\u001b[2K     \u001b[90m━━━━━━━━━━━━━━━━━━━━━━━━━━━━━━━━━━━━━━━━\u001b[0m \u001b[32m540.1/540.1 kB\u001b[0m \u001b[31m3.0 MB/s\u001b[0m eta \u001b[36m0:00:00\u001b[0m\n",
            "\u001b[?25hRequirement already satisfied: numpy in /usr/local/lib/python3.10/dist-packages (from shap) (1.25.2)\n",
            "Requirement already satisfied: scipy in /usr/local/lib/python3.10/dist-packages (from shap) (1.11.4)\n",
            "Requirement already satisfied: scikit-learn in /usr/local/lib/python3.10/dist-packages (from shap) (1.2.2)\n",
            "Requirement already satisfied: pandas in /usr/local/lib/python3.10/dist-packages (from shap) (2.0.3)\n",
            "Requirement already satisfied: tqdm>=4.27.0 in /usr/local/lib/python3.10/dist-packages (from shap) (4.66.4)\n",
            "Requirement already satisfied: packaging>20.9 in /usr/local/lib/python3.10/dist-packages (from shap) (24.1)\n",
            "Collecting slicer==0.0.8 (from shap)\n",
            "  Downloading slicer-0.0.8-py3-none-any.whl (15 kB)\n",
            "Requirement already satisfied: numba in /usr/local/lib/python3.10/dist-packages (from shap) (0.60.0)\n",
            "Requirement already satisfied: cloudpickle in /usr/local/lib/python3.10/dist-packages (from shap) (3.0.0)\n",
            "Requirement already satisfied: llvmlite<0.44,>=0.43.0dev0 in /usr/local/lib/python3.10/dist-packages (from numba->shap) (0.43.0)\n",
            "Requirement already satisfied: python-dateutil>=2.8.2 in /usr/local/lib/python3.10/dist-packages (from pandas->shap) (2.9.0.post0)\n",
            "Requirement already satisfied: pytz>=2020.1 in /usr/local/lib/python3.10/dist-packages (from pandas->shap) (2024.1)\n",
            "Requirement already satisfied: tzdata>=2022.1 in /usr/local/lib/python3.10/dist-packages (from pandas->shap) (2024.1)\n",
            "Requirement already satisfied: joblib>=1.1.1 in /usr/local/lib/python3.10/dist-packages (from scikit-learn->shap) (1.4.2)\n",
            "Requirement already satisfied: threadpoolctl>=2.0.0 in /usr/local/lib/python3.10/dist-packages (from scikit-learn->shap) (3.5.0)\n",
            "Requirement already satisfied: six>=1.5 in /usr/local/lib/python3.10/dist-packages (from python-dateutil>=2.8.2->pandas->shap) (1.16.0)\n",
            "Installing collected packages: slicer, shap\n",
            "Successfully installed shap-0.46.0 slicer-0.0.8\n"
          ]
        }
      ],
      "source": [
        "pip install shap"
      ]
    },
    {
      "cell_type": "code",
      "execution_count": null,
      "metadata": {
        "colab": {
          "base_uri": "https://localhost:8080/"
        },
        "id": "YpoT7F5rOCnA",
        "outputId": "5b84e299-9395-41c1-9c3f-85c73cace997"
      },
      "outputs": [
        {
          "output_type": "stream",
          "name": "stdout",
          "text": [
            "Collecting SMOTE\n",
            "  Downloading smote-0.1-py2.py3-none-any.whl (3.3 kB)\n",
            "Requirement already satisfied: numpy>=1.14.3 in /usr/local/lib/python3.10/dist-packages (from SMOTE) (1.25.2)\n",
            "Requirement already satisfied: scikit-learn>=0.19.1 in /usr/local/lib/python3.10/dist-packages (from SMOTE) (1.2.2)\n",
            "Requirement already satisfied: scipy>=1.3.2 in /usr/local/lib/python3.10/dist-packages (from scikit-learn>=0.19.1->SMOTE) (1.11.4)\n",
            "Requirement already satisfied: joblib>=1.1.1 in /usr/local/lib/python3.10/dist-packages (from scikit-learn>=0.19.1->SMOTE) (1.4.2)\n",
            "Requirement already satisfied: threadpoolctl>=2.0.0 in /usr/local/lib/python3.10/dist-packages (from scikit-learn>=0.19.1->SMOTE) (3.5.0)\n",
            "Installing collected packages: SMOTE\n",
            "Successfully installed SMOTE-0.1\n"
          ]
        }
      ],
      "source": [
        "pip install SMOTE"
      ]
    },
    {
      "cell_type": "code",
      "execution_count": null,
      "metadata": {
        "colab": {
          "base_uri": "https://localhost:8080/"
        },
        "id": "gAFt8T3UObCq",
        "outputId": "7103eecf-4dd0-45d3-cb45-cb51f9833ff2"
      },
      "outputs": [
        {
          "output_type": "stream",
          "name": "stdout",
          "text": [
            "Collecting imbalanced-learn\n",
            "  Downloading imbalanced_learn-0.12.3-py3-none-any.whl (258 kB)\n",
            "\u001b[2K     \u001b[90m━━━━━━━━━━━━━━━━━━━━━━━━━━━━━━━━━━━━━━━━\u001b[0m \u001b[32m258.3/258.3 kB\u001b[0m \u001b[31m2.2 MB/s\u001b[0m eta \u001b[36m0:00:00\u001b[0m\n",
            "\u001b[?25hRequirement already satisfied: numpy>=1.17.3 in /usr/local/lib/python3.10/dist-packages (from imbalanced-learn) (1.25.2)\n",
            "Requirement already satisfied: scipy>=1.5.0 in /usr/local/lib/python3.10/dist-packages (from imbalanced-learn) (1.11.4)\n",
            "Requirement already satisfied: scikit-learn>=1.0.2 in /usr/local/lib/python3.10/dist-packages (from imbalanced-learn) (1.2.2)\n",
            "Requirement already satisfied: joblib>=1.1.1 in /usr/local/lib/python3.10/dist-packages (from imbalanced-learn) (1.4.2)\n",
            "Requirement already satisfied: threadpoolctl>=2.0.0 in /usr/local/lib/python3.10/dist-packages (from imbalanced-learn) (3.5.0)\n",
            "Installing collected packages: imbalanced-learn\n",
            "Successfully installed imbalanced-learn-0.12.3\n"
          ]
        }
      ],
      "source": [
        "pip install imbalanced-learn"
      ]
    },
    {
      "cell_type": "code",
      "source": [
        "pip install joblib"
      ],
      "metadata": {
        "colab": {
          "base_uri": "https://localhost:8080/"
        },
        "id": "ScAy7fjdYuv8",
        "outputId": "f69400c5-6873-438f-c184-699397edee0b"
      },
      "execution_count": null,
      "outputs": [
        {
          "output_type": "stream",
          "name": "stdout",
          "text": [
            "Requirement already satisfied: joblib in /usr/local/lib/python3.10/dist-packages (1.4.2)\n"
          ]
        }
      ]
    },
    {
      "cell_type": "code",
      "execution_count": null,
      "metadata": {
        "id": "rw_uHSxiODq9"
      },
      "outputs": [],
      "source": [
        "import numpy as np\n",
        "import pandas as pd\n",
        "from keras.models import Sequential\n",
        "from keras.layers import LSTM, Dense\n",
        "from sklearn.preprocessing import MinMaxScaler\n",
        "from sklearn.metrics import accuracy_score, precision_score, recall_score, f1_score\n",
        "from tqdm import tqdm\n",
        "import ta  # Technical Analysis library\n",
        "import pandas_ta as pata\n",
        "import shap\n",
        "from sklearn.model_selection import train_test_split, cross_val_score\n",
        "from imblearn.over_sampling import SMOTE\n",
        "from sklearn.impute import SimpleImputer\n",
        "import joblib"
      ]
    },
    {
      "cell_type": "code",
      "source": [
        "from google.colab import drive\n",
        "drive.mount('/content/drive')"
      ],
      "metadata": {
        "colab": {
          "base_uri": "https://localhost:8080/"
        },
        "id": "bPFiJ9a66RJw",
        "outputId": "1dc0cfd6-923a-40a0-d996-c66d528dc625"
      },
      "execution_count": null,
      "outputs": [
        {
          "output_type": "stream",
          "name": "stdout",
          "text": [
            "Mounted at /content/drive\n"
          ]
        }
      ]
    },
    {
      "cell_type": "markdown",
      "source": [
        "######################\n",
        "\n",
        "**초기 데이터 처리**\n",
        "######################"
      ],
      "metadata": {
        "id": "gL8QxuH82W1n"
      }
    },
    {
      "cell_type": "code",
      "execution_count": null,
      "metadata": {
        "colab": {
          "base_uri": "https://localhost:8080/",
          "height": 206
        },
        "id": "A53QoDRSOHMa",
        "outputId": "63d8b2c0-2ad4-4926-8c7c-1a78c0ebb509"
      },
      "outputs": [
        {
          "data": {
            "application/vnd.google.colaboratory.intrinsic+json": {
              "type": "dataframe",
              "variable_name": "data"
            },
            "text/html": [
              "\n",
              "  <div id=\"df-4c15044d-6f0c-483a-98ba-db57a0ce1357\" class=\"colab-df-container\">\n",
              "    <div>\n",
              "<style scoped>\n",
              "    .dataframe tbody tr th:only-of-type {\n",
              "        vertical-align: middle;\n",
              "    }\n",
              "\n",
              "    .dataframe tbody tr th {\n",
              "        vertical-align: top;\n",
              "    }\n",
              "\n",
              "    .dataframe thead th {\n",
              "        text-align: right;\n",
              "    }\n",
              "</style>\n",
              "<table border=\"1\" class=\"dataframe\">\n",
              "  <thead>\n",
              "    <tr style=\"text-align: right;\">\n",
              "      <th></th>\n",
              "      <th>open_time</th>\n",
              "      <th>open</th>\n",
              "      <th>high</th>\n",
              "      <th>low</th>\n",
              "      <th>close</th>\n",
              "      <th>volume</th>\n",
              "    </tr>\n",
              "  </thead>\n",
              "  <tbody>\n",
              "    <tr>\n",
              "      <th>0</th>\n",
              "      <td>2020-12-31 15:00:00</td>\n",
              "      <td>1.4458</td>\n",
              "      <td>1.4458</td>\n",
              "      <td>1.4444</td>\n",
              "      <td>1.4456</td>\n",
              "      <td>161.34</td>\n",
              "    </tr>\n",
              "    <tr>\n",
              "      <th>1</th>\n",
              "      <td>2020-12-31 15:01:00</td>\n",
              "      <td>1.4477</td>\n",
              "      <td>1.4478</td>\n",
              "      <td>1.4463</td>\n",
              "      <td>1.4463</td>\n",
              "      <td>148.86</td>\n",
              "    </tr>\n",
              "    <tr>\n",
              "      <th>2</th>\n",
              "      <td>2020-12-31 15:02:00</td>\n",
              "      <td>1.4479</td>\n",
              "      <td>1.4530</td>\n",
              "      <td>1.4466</td>\n",
              "      <td>1.4484</td>\n",
              "      <td>3208.13</td>\n",
              "    </tr>\n",
              "    <tr>\n",
              "      <th>3</th>\n",
              "      <td>2020-12-31 15:03:00</td>\n",
              "      <td>1.4503</td>\n",
              "      <td>1.4559</td>\n",
              "      <td>1.4503</td>\n",
              "      <td>1.4558</td>\n",
              "      <td>1639.76</td>\n",
              "    </tr>\n",
              "    <tr>\n",
              "      <th>4</th>\n",
              "      <td>2020-12-31 15:04:00</td>\n",
              "      <td>1.4558</td>\n",
              "      <td>1.4569</td>\n",
              "      <td>1.4545</td>\n",
              "      <td>1.4569</td>\n",
              "      <td>900.91</td>\n",
              "    </tr>\n",
              "  </tbody>\n",
              "</table>\n",
              "</div>\n",
              "    <div class=\"colab-df-buttons\">\n",
              "\n",
              "  <div class=\"colab-df-container\">\n",
              "    <button class=\"colab-df-convert\" onclick=\"convertToInteractive('df-4c15044d-6f0c-483a-98ba-db57a0ce1357')\"\n",
              "            title=\"Convert this dataframe to an interactive table.\"\n",
              "            style=\"display:none;\">\n",
              "\n",
              "  <svg xmlns=\"http://www.w3.org/2000/svg\" height=\"24px\" viewBox=\"0 -960 960 960\">\n",
              "    <path d=\"M120-120v-720h720v720H120Zm60-500h600v-160H180v160Zm220 220h160v-160H400v160Zm0 220h160v-160H400v160ZM180-400h160v-160H180v160Zm440 0h160v-160H620v160ZM180-180h160v-160H180v160Zm440 0h160v-160H620v160Z\"/>\n",
              "  </svg>\n",
              "    </button>\n",
              "\n",
              "  <style>\n",
              "    .colab-df-container {\n",
              "      display:flex;\n",
              "      gap: 12px;\n",
              "    }\n",
              "\n",
              "    .colab-df-convert {\n",
              "      background-color: #E8F0FE;\n",
              "      border: none;\n",
              "      border-radius: 50%;\n",
              "      cursor: pointer;\n",
              "      display: none;\n",
              "      fill: #1967D2;\n",
              "      height: 32px;\n",
              "      padding: 0 0 0 0;\n",
              "      width: 32px;\n",
              "    }\n",
              "\n",
              "    .colab-df-convert:hover {\n",
              "      background-color: #E2EBFA;\n",
              "      box-shadow: 0px 1px 2px rgba(60, 64, 67, 0.3), 0px 1px 3px 1px rgba(60, 64, 67, 0.15);\n",
              "      fill: #174EA6;\n",
              "    }\n",
              "\n",
              "    .colab-df-buttons div {\n",
              "      margin-bottom: 4px;\n",
              "    }\n",
              "\n",
              "    [theme=dark] .colab-df-convert {\n",
              "      background-color: #3B4455;\n",
              "      fill: #D2E3FC;\n",
              "    }\n",
              "\n",
              "    [theme=dark] .colab-df-convert:hover {\n",
              "      background-color: #434B5C;\n",
              "      box-shadow: 0px 1px 3px 1px rgba(0, 0, 0, 0.15);\n",
              "      filter: drop-shadow(0px 1px 2px rgba(0, 0, 0, 0.3));\n",
              "      fill: #FFFFFF;\n",
              "    }\n",
              "  </style>\n",
              "\n",
              "    <script>\n",
              "      const buttonEl =\n",
              "        document.querySelector('#df-4c15044d-6f0c-483a-98ba-db57a0ce1357 button.colab-df-convert');\n",
              "      buttonEl.style.display =\n",
              "        google.colab.kernel.accessAllowed ? 'block' : 'none';\n",
              "\n",
              "      async function convertToInteractive(key) {\n",
              "        const element = document.querySelector('#df-4c15044d-6f0c-483a-98ba-db57a0ce1357');\n",
              "        const dataTable =\n",
              "          await google.colab.kernel.invokeFunction('convertToInteractive',\n",
              "                                                    [key], {});\n",
              "        if (!dataTable) return;\n",
              "\n",
              "        const docLinkHtml = 'Like what you see? Visit the ' +\n",
              "          '<a target=\"_blank\" href=https://colab.research.google.com/notebooks/data_table.ipynb>data table notebook</a>'\n",
              "          + ' to learn more about interactive tables.';\n",
              "        element.innerHTML = '';\n",
              "        dataTable['output_type'] = 'display_data';\n",
              "        await google.colab.output.renderOutput(dataTable, element);\n",
              "        const docLink = document.createElement('div');\n",
              "        docLink.innerHTML = docLinkHtml;\n",
              "        element.appendChild(docLink);\n",
              "      }\n",
              "    </script>\n",
              "  </div>\n",
              "\n",
              "\n",
              "<div id=\"df-7ac99953-7c2c-4622-808c-2b2ed0fcf45a\">\n",
              "  <button class=\"colab-df-quickchart\" onclick=\"quickchart('df-7ac99953-7c2c-4622-808c-2b2ed0fcf45a')\"\n",
              "            title=\"Suggest charts\"\n",
              "            style=\"display:none;\">\n",
              "\n",
              "<svg xmlns=\"http://www.w3.org/2000/svg\" height=\"24px\"viewBox=\"0 0 24 24\"\n",
              "     width=\"24px\">\n",
              "    <g>\n",
              "        <path d=\"M19 3H5c-1.1 0-2 .9-2 2v14c0 1.1.9 2 2 2h14c1.1 0 2-.9 2-2V5c0-1.1-.9-2-2-2zM9 17H7v-7h2v7zm4 0h-2V7h2v10zm4 0h-2v-4h2v4z\"/>\n",
              "    </g>\n",
              "</svg>\n",
              "  </button>\n",
              "\n",
              "<style>\n",
              "  .colab-df-quickchart {\n",
              "      --bg-color: #E8F0FE;\n",
              "      --fill-color: #1967D2;\n",
              "      --hover-bg-color: #E2EBFA;\n",
              "      --hover-fill-color: #174EA6;\n",
              "      --disabled-fill-color: #AAA;\n",
              "      --disabled-bg-color: #DDD;\n",
              "  }\n",
              "\n",
              "  [theme=dark] .colab-df-quickchart {\n",
              "      --bg-color: #3B4455;\n",
              "      --fill-color: #D2E3FC;\n",
              "      --hover-bg-color: #434B5C;\n",
              "      --hover-fill-color: #FFFFFF;\n",
              "      --disabled-bg-color: #3B4455;\n",
              "      --disabled-fill-color: #666;\n",
              "  }\n",
              "\n",
              "  .colab-df-quickchart {\n",
              "    background-color: var(--bg-color);\n",
              "    border: none;\n",
              "    border-radius: 50%;\n",
              "    cursor: pointer;\n",
              "    display: none;\n",
              "    fill: var(--fill-color);\n",
              "    height: 32px;\n",
              "    padding: 0;\n",
              "    width: 32px;\n",
              "  }\n",
              "\n",
              "  .colab-df-quickchart:hover {\n",
              "    background-color: var(--hover-bg-color);\n",
              "    box-shadow: 0 1px 2px rgba(60, 64, 67, 0.3), 0 1px 3px 1px rgba(60, 64, 67, 0.15);\n",
              "    fill: var(--button-hover-fill-color);\n",
              "  }\n",
              "\n",
              "  .colab-df-quickchart-complete:disabled,\n",
              "  .colab-df-quickchart-complete:disabled:hover {\n",
              "    background-color: var(--disabled-bg-color);\n",
              "    fill: var(--disabled-fill-color);\n",
              "    box-shadow: none;\n",
              "  }\n",
              "\n",
              "  .colab-df-spinner {\n",
              "    border: 2px solid var(--fill-color);\n",
              "    border-color: transparent;\n",
              "    border-bottom-color: var(--fill-color);\n",
              "    animation:\n",
              "      spin 1s steps(1) infinite;\n",
              "  }\n",
              "\n",
              "  @keyframes spin {\n",
              "    0% {\n",
              "      border-color: transparent;\n",
              "      border-bottom-color: var(--fill-color);\n",
              "      border-left-color: var(--fill-color);\n",
              "    }\n",
              "    20% {\n",
              "      border-color: transparent;\n",
              "      border-left-color: var(--fill-color);\n",
              "      border-top-color: var(--fill-color);\n",
              "    }\n",
              "    30% {\n",
              "      border-color: transparent;\n",
              "      border-left-color: var(--fill-color);\n",
              "      border-top-color: var(--fill-color);\n",
              "      border-right-color: var(--fill-color);\n",
              "    }\n",
              "    40% {\n",
              "      border-color: transparent;\n",
              "      border-right-color: var(--fill-color);\n",
              "      border-top-color: var(--fill-color);\n",
              "    }\n",
              "    60% {\n",
              "      border-color: transparent;\n",
              "      border-right-color: var(--fill-color);\n",
              "    }\n",
              "    80% {\n",
              "      border-color: transparent;\n",
              "      border-right-color: var(--fill-color);\n",
              "      border-bottom-color: var(--fill-color);\n",
              "    }\n",
              "    90% {\n",
              "      border-color: transparent;\n",
              "      border-bottom-color: var(--fill-color);\n",
              "    }\n",
              "  }\n",
              "</style>\n",
              "\n",
              "  <script>\n",
              "    async function quickchart(key) {\n",
              "      const quickchartButtonEl =\n",
              "        document.querySelector('#' + key + ' button');\n",
              "      quickchartButtonEl.disabled = true;  // To prevent multiple clicks.\n",
              "      quickchartButtonEl.classList.add('colab-df-spinner');\n",
              "      try {\n",
              "        const charts = await google.colab.kernel.invokeFunction(\n",
              "            'suggestCharts', [key], {});\n",
              "      } catch (error) {\n",
              "        console.error('Error during call to suggestCharts:', error);\n",
              "      }\n",
              "      quickchartButtonEl.classList.remove('colab-df-spinner');\n",
              "      quickchartButtonEl.classList.add('colab-df-quickchart-complete');\n",
              "    }\n",
              "    (() => {\n",
              "      let quickchartButtonEl =\n",
              "        document.querySelector('#df-7ac99953-7c2c-4622-808c-2b2ed0fcf45a button');\n",
              "      quickchartButtonEl.style.display =\n",
              "        google.colab.kernel.accessAllowed ? 'block' : 'none';\n",
              "    })();\n",
              "  </script>\n",
              "</div>\n",
              "\n",
              "    </div>\n",
              "  </div>\n"
            ],
            "text/plain": [
              "             open_time    open    high     low   close   volume\n",
              "0  2020-12-31 15:00:00  1.4458  1.4458  1.4444  1.4456   161.34\n",
              "1  2020-12-31 15:01:00  1.4477  1.4478  1.4463  1.4463   148.86\n",
              "2  2020-12-31 15:02:00  1.4479  1.4530  1.4466  1.4484  3208.13\n",
              "3  2020-12-31 15:03:00  1.4503  1.4559  1.4503  1.4558  1639.76\n",
              "4  2020-12-31 15:04:00  1.4558  1.4569  1.4545  1.4569   900.91"
            ]
          },
          "execution_count": 5,
          "metadata": {},
          "output_type": "execute_result"
        }
      ],
      "source": [
        "# Load the dataset from Kaggle\n",
        "file_path = '/content/drive/MyDrive/Data/SOL_data.csv'\n",
        "data = pd.read_csv(file_path)\n",
        "\n",
        "# Display the first few rows of the dataset to ensure it is loaded correctly\n",
        "data.head()"
      ]
    },
    {
      "cell_type": "markdown",
      "source": [
        "######################\n",
        "\n",
        "**1/3 데이터 처리**\n",
        "######################"
      ],
      "metadata": {
        "id": "Unoprx0i2mkv"
      }
    },
    {
      "cell_type": "code",
      "execution_count": null,
      "metadata": {
        "id": "pAHiajn8OH3d"
      },
      "outputs": [],
      "source": [
        "# 데이터의 첫 번째 1/3만 사용\n",
        "n_samples = len(data)\n",
        "data = data.iloc[:n_samples // 3]"
      ]
    },
    {
      "cell_type": "markdown",
      "source": [
        "######################\n",
        "\n",
        "**가용 지표 입력**\n",
        "######################"
      ],
      "metadata": {
        "id": "yK_QH_ZS2tBc"
      }
    },
    {
      "cell_type": "code",
      "execution_count": null,
      "metadata": {
        "id": "_B-KVCJ7Ozkd"
      },
      "outputs": [],
      "source": [
        "# open_time 열을 datetime 형식으로 변환\n",
        "data['open_time'] = pd.to_datetime(data['open_time'])\n",
        "\n",
        "# 시각과 분만 추출하여 time 열 생성\n",
        "data['time'] = data['open_time'].dt.strftime('%H:%M')\n",
        "\n",
        "# ATR 계산\n",
        "atr_periods = [5, 10, 14, 20, 50]\n",
        "for period in atr_periods:\n",
        "    data[f'atr_{period}'] = ta.volatility.average_true_range(data['high'], data['low'], data['close'], window=period)\n",
        "\n",
        "# VWAP 계산\n",
        "data['vwap'] = ta.volume.volume_weighted_average_price(data['high'], data['low'], data['close'], data['volume'])\n",
        "\n",
        "# Stochastic Oscillator 계산\n",
        "stoch_periods = [(14, 3), (21, 5), (9, 3), (5, 2), (20, 7)]\n",
        "for period, smooth in stoch_periods:\n",
        "    data[f'stoch_%k_{period}_{smooth}'] = ta.momentum.stoch(data['high'], data['low'], data['close'], window=period, smooth_window=smooth)\n",
        "    data[f'stoch_%d_{period}_{smooth}'] = ta.momentum.stoch_signal(data['high'], data['low'], data['close'], window=period, smooth_window=smooth)\n",
        "\n",
        "# Supertrend 계산 함수\n",
        "def calculate_supertrend(df, period=7, multiplier=3, atr_period=14):\n",
        "    df = df.copy()  # 데이터프레임을 복사하여 사용\n",
        "    hl2 = (df['high'] + df['low']) / 2\n",
        "    df['atr'] = ta.volatility.average_true_range(df['high'], df['low'], df['close'], window=atr_period)\n",
        "    df['upperband'] = hl2 + (multiplier * df['atr'])\n",
        "    df['lowerband'] = hl2 - (multiplier * df['atr'])\n",
        "    df['in_uptrend'] = True\n",
        "\n",
        "    for current in tqdm(range(1, len(df.index)), desc=f'Calculating Supertrend {period}-{multiplier}-{atr_period}'):\n",
        "        previous = current - 1\n",
        "\n",
        "        if df['close'].iloc[current] > df['upperband'].iloc[previous]:\n",
        "            df.loc[df.index[current], 'in_uptrend'] = True\n",
        "        elif df['close'].iloc[current] < df['lowerband'].iloc[previous]:\n",
        "            df.loc[df.index[current], 'in_uptrend'] = False\n",
        "        else:\n",
        "            df.loc[df.index[current], 'in_uptrend'] = df['in_uptrend'].iloc[previous]\n",
        "\n",
        "            if df['in_uptrend'].iloc[current] and df['lowerband'].iloc[current] < df['lowerband'].iloc[previous]:\n",
        "                df.loc[df.index[current], 'lowerband'] = df['lowerband'].iloc[previous]\n",
        "\n",
        "            if not df['in_uptrend'].iloc[current] and df['upperband'].iloc[current] > df['upperband'].iloc[previous]:\n",
        "                df.loc[df.index[current], 'upperband'] = df['upperband'].iloc[previous]\n",
        "\n",
        "    return df\n",
        "\n",
        "# Supertrend 계산\n",
        "supertrend_settings = [(7, 3, 14), (10, 3, 20), (14, 2, 10), (20, 4, 50), (50, 5, 5)]\n",
        "for period, multiplier, atr_period in supertrend_settings:\n",
        "    data = calculate_supertrend(data, period, multiplier, atr_period)\n",
        "    data[f'supertrend_upper_{period}_{multiplier}_{atr_period}'] = data['upperband']\n",
        "    data[f'supertrend_lower_{period}_{multiplier}_{atr_period}'] = data['lowerband']\n",
        "    data[f'supertrend_in_uptrend_{period}_{multiplier}_{atr_period}'] = data['in_uptrend']"
      ]
    },
    {
      "cell_type": "markdown",
      "source": [
        "######################\n",
        "\n",
        "**비가용 지표**\n",
        "######################"
      ],
      "metadata": {
        "id": "A5f-KTRJ2z0c"
      }
    },
    {
      "cell_type": "code",
      "source": [
        "# Bollinger Bands 계산\n",
        "bollinger_periods = [10, 20, 50, 100, 200]\n",
        "for period in bollinger_periods:\n",
        "    data[f'bollinger_hband_{period}'] = ta.volatility.BollingerBands(data['close'], window=period).bollinger_hband()\n",
        "    data[f'bollinger_lband_{period}'] = ta.volatility.BollingerBands(data['close'], window=period).bollinger_lband()\n",
        "\n",
        "# OBV 계산\n",
        "data['obv'] = ta.volume.on_balance_volume(data['close'], data['volume'])\n",
        "\n",
        "# Ichimoku 계산\n",
        "ichimoku_periods = [9, 26, 52, 100, 200]\n",
        "for period in ichimoku_periods:\n",
        "    data[f'ichimoku_base_{period}'] = ta.trend.ichimoku_base_line(data['high'], data['low'], window1=period)\n",
        "    data[f'ichimoku_conversion_{period}'] = ta.trend.ichimoku_conversion_line(data['high'], data['low'], window1=period)\n"
      ],
      "metadata": {
        "id": "pB6_H6MO24h-"
      },
      "execution_count": null,
      "outputs": []
    },
    {
      "cell_type": "markdown",
      "source": [
        "######################\n",
        "\n",
        "**60봉 이내 최대 상승 및 하락 %**\n",
        "######################"
      ],
      "metadata": {
        "id": "kPHMaDa226KM"
      }
    },
    {
      "cell_type": "code",
      "execution_count": null,
      "metadata": {
        "id": "ZzLSnlcMWmNS"
      },
      "outputs": [],
      "source": [
        "def calculate_max_min_returns(df):\n",
        "    window_size = 60\n",
        "\n",
        "    # 'open_time'이 이미 인덱스로 설정되어 있는지 확인\n",
        "    if df.index.name != 'open_time':\n",
        "        raise KeyError(\"'open_time' 열이 인덱스로 설정되어 있어야 합니다.\")\n",
        "\n",
        "    # 인덱스 중복 확인 및 제거\n",
        "    df = df[~df.index.duplicated(keep='first')].copy()\n",
        "\n",
        "    # 60분 윈도우를 적용하여 최대 및 최소 가격 계산\n",
        "    df['max_price'] = df['high'].rolling(f'{window_size}T').max().shift(-window_size)\n",
        "    df['min_price'] = df['low'].rolling(f'{window_size}T').min().shift(-window_size)\n",
        "\n",
        "    # 결측값을 적절히 처리 (예: 마지막 몇 행)\n",
        "    df['max_price'].fillna(df['high'], inplace=True)\n",
        "    df['min_price'].fillna(df['low'], inplace=True)\n",
        "\n",
        "    # 현재 가격\n",
        "    current_price = df['close']\n",
        "\n",
        "    # 최대 및 최소 수익률 계산\n",
        "    df['max_return_60min'] = ((df['max_price'] - current_price) / current_price) * 100\n",
        "    df['min_return_60min'] = ((df['min_price'] - current_price) / current_price) * 100\n",
        "\n",
        "    # 필요없는 열 삭제\n",
        "    df.drop(columns=['max_price', 'min_price'], inplace=True)\n",
        "\n",
        "    return df\n",
        "\n",
        "# 최대 상승률과 최대 하락률 계산\n",
        "data = calculate_max_min_returns(data)"
      ]
    },
    {
      "cell_type": "code",
      "execution_count": null,
      "metadata": {
        "id": "D5ZDCJ3IO7_Q"
      },
      "outputs": [],
      "source": [
        "# 인덱스를 리셋하여 'open_time'을 열로 되돌림\n",
        "data.reset_index(inplace=True)\n",
        "\n",
        "data.head()"
      ]
    },
    {
      "cell_type": "code",
      "source": [
        "data.columns"
      ],
      "metadata": {
        "id": "yyNlrYvz6kfJ"
      },
      "execution_count": null,
      "outputs": []
    },
    {
      "cell_type": "markdown",
      "source": [
        "######################\n",
        "\n",
        "**처리 데이터 저장**\n",
        "######################"
      ],
      "metadata": {
        "id": "VDoyggL03Nfp"
      }
    },
    {
      "cell_type": "code",
      "execution_count": null,
      "metadata": {
        "id": "aCq61sSjO8qZ"
      },
      "outputs": [],
      "source": [
        "path2 = \"/content/drive/MyDrive/Data/SOL60_INDICATOR2_SMALL\";\n",
        "data.to_csv(path2, index=True);"
      ]
    },
    {
      "cell_type": "markdown",
      "source": [
        "######################\n",
        "\n",
        "**처리 데이터 로딩**\n",
        "######################"
      ],
      "metadata": {
        "id": "CwHnKrAM3FZr"
      }
    },
    {
      "cell_type": "code",
      "execution_count": null,
      "metadata": {
        "id": "4JqGlWVIbKX7",
        "colab": {
          "base_uri": "https://localhost:8080/",
          "height": 342
        },
        "outputId": "e886a123-4f99-42c5-cf79-8bb989c99950"
      },
      "outputs": [
        {
          "output_type": "execute_result",
          "data": {
            "text/plain": [
              "             open_time    open    high     low   close   volume   time  \\\n",
              "0  2020-12-31 15:00:00  1.4458  1.4458  1.4444  1.4456   161.34  15:00   \n",
              "1  2020-12-31 15:01:00  1.4477  1.4478  1.4463  1.4463   148.86  15:01   \n",
              "2  2020-12-31 15:02:00  1.4479  1.4530  1.4466  1.4484  3208.13  15:02   \n",
              "3  2020-12-31 15:03:00  1.4503  1.4559  1.4503  1.4558  1639.76  15:03   \n",
              "4  2020-12-31 15:04:00  1.4558  1.4569  1.4545  1.4569   900.91  15:04   \n",
              "\n",
              "     atr_5  atr_10  atr_14  ...  supertrend_lower_14_2_10  \\\n",
              "0  0.00000     0.0     0.0  ...                   1.44510   \n",
              "1  0.00000     0.0     0.0  ...                   1.44705   \n",
              "2  0.00000     0.0     0.0  ...                   1.44980   \n",
              "3  0.00000     0.0     0.0  ...                   1.45310   \n",
              "4  0.00404     0.0     0.0  ...                   1.45570   \n",
              "\n",
              "   supertrend_in_uptrend_14_2_10  supertrend_upper_20_4_50  \\\n",
              "0                           True                   1.44510   \n",
              "1                           True                   1.44705   \n",
              "2                           True                   1.44980   \n",
              "3                           True                   1.45310   \n",
              "4                           True                   1.45570   \n",
              "\n",
              "   supertrend_lower_20_4_50  supertrend_in_uptrend_20_4_50  \\\n",
              "0                   1.44510                           True   \n",
              "1                   1.44705                           True   \n",
              "2                   1.44980                           True   \n",
              "3                   1.45310                           True   \n",
              "4                   1.45570                           True   \n",
              "\n",
              "   supertrend_upper_50_5_5  supertrend_lower_50_5_5  \\\n",
              "0                  1.44510                  1.44510   \n",
              "1                  1.44705                  1.44705   \n",
              "2                  1.44980                  1.44980   \n",
              "3                  1.45310                  1.45310   \n",
              "4                  1.47590                  1.43550   \n",
              "\n",
              "   supertrend_in_uptrend_50_5_5  max_return_60min  min_return_60min  \n",
              "0                          True          1.203652         -0.387382  \n",
              "1                          True          1.154671         -0.435594  \n",
              "2                          True          1.008009         -0.579950  \n",
              "3                          True          0.494573         -1.085314  \n",
              "4                          True          0.418697         -1.159997  \n",
              "\n",
              "[5 rows x 65 columns]"
            ],
            "text/html": [
              "\n",
              "  <div id=\"df-278d9bce-8c42-4c1e-8af6-af142e8b880f\" class=\"colab-df-container\">\n",
              "    <div>\n",
              "<style scoped>\n",
              "    .dataframe tbody tr th:only-of-type {\n",
              "        vertical-align: middle;\n",
              "    }\n",
              "\n",
              "    .dataframe tbody tr th {\n",
              "        vertical-align: top;\n",
              "    }\n",
              "\n",
              "    .dataframe thead th {\n",
              "        text-align: right;\n",
              "    }\n",
              "</style>\n",
              "<table border=\"1\" class=\"dataframe\">\n",
              "  <thead>\n",
              "    <tr style=\"text-align: right;\">\n",
              "      <th></th>\n",
              "      <th>open_time</th>\n",
              "      <th>open</th>\n",
              "      <th>high</th>\n",
              "      <th>low</th>\n",
              "      <th>close</th>\n",
              "      <th>volume</th>\n",
              "      <th>time</th>\n",
              "      <th>atr_5</th>\n",
              "      <th>atr_10</th>\n",
              "      <th>atr_14</th>\n",
              "      <th>...</th>\n",
              "      <th>supertrend_lower_14_2_10</th>\n",
              "      <th>supertrend_in_uptrend_14_2_10</th>\n",
              "      <th>supertrend_upper_20_4_50</th>\n",
              "      <th>supertrend_lower_20_4_50</th>\n",
              "      <th>supertrend_in_uptrend_20_4_50</th>\n",
              "      <th>supertrend_upper_50_5_5</th>\n",
              "      <th>supertrend_lower_50_5_5</th>\n",
              "      <th>supertrend_in_uptrend_50_5_5</th>\n",
              "      <th>max_return_60min</th>\n",
              "      <th>min_return_60min</th>\n",
              "    </tr>\n",
              "  </thead>\n",
              "  <tbody>\n",
              "    <tr>\n",
              "      <th>0</th>\n",
              "      <td>2020-12-31 15:00:00</td>\n",
              "      <td>1.4458</td>\n",
              "      <td>1.4458</td>\n",
              "      <td>1.4444</td>\n",
              "      <td>1.4456</td>\n",
              "      <td>161.34</td>\n",
              "      <td>15:00</td>\n",
              "      <td>0.00000</td>\n",
              "      <td>0.0</td>\n",
              "      <td>0.0</td>\n",
              "      <td>...</td>\n",
              "      <td>1.44510</td>\n",
              "      <td>True</td>\n",
              "      <td>1.44510</td>\n",
              "      <td>1.44510</td>\n",
              "      <td>True</td>\n",
              "      <td>1.44510</td>\n",
              "      <td>1.44510</td>\n",
              "      <td>True</td>\n",
              "      <td>1.203652</td>\n",
              "      <td>-0.387382</td>\n",
              "    </tr>\n",
              "    <tr>\n",
              "      <th>1</th>\n",
              "      <td>2020-12-31 15:01:00</td>\n",
              "      <td>1.4477</td>\n",
              "      <td>1.4478</td>\n",
              "      <td>1.4463</td>\n",
              "      <td>1.4463</td>\n",
              "      <td>148.86</td>\n",
              "      <td>15:01</td>\n",
              "      <td>0.00000</td>\n",
              "      <td>0.0</td>\n",
              "      <td>0.0</td>\n",
              "      <td>...</td>\n",
              "      <td>1.44705</td>\n",
              "      <td>True</td>\n",
              "      <td>1.44705</td>\n",
              "      <td>1.44705</td>\n",
              "      <td>True</td>\n",
              "      <td>1.44705</td>\n",
              "      <td>1.44705</td>\n",
              "      <td>True</td>\n",
              "      <td>1.154671</td>\n",
              "      <td>-0.435594</td>\n",
              "    </tr>\n",
              "    <tr>\n",
              "      <th>2</th>\n",
              "      <td>2020-12-31 15:02:00</td>\n",
              "      <td>1.4479</td>\n",
              "      <td>1.4530</td>\n",
              "      <td>1.4466</td>\n",
              "      <td>1.4484</td>\n",
              "      <td>3208.13</td>\n",
              "      <td>15:02</td>\n",
              "      <td>0.00000</td>\n",
              "      <td>0.0</td>\n",
              "      <td>0.0</td>\n",
              "      <td>...</td>\n",
              "      <td>1.44980</td>\n",
              "      <td>True</td>\n",
              "      <td>1.44980</td>\n",
              "      <td>1.44980</td>\n",
              "      <td>True</td>\n",
              "      <td>1.44980</td>\n",
              "      <td>1.44980</td>\n",
              "      <td>True</td>\n",
              "      <td>1.008009</td>\n",
              "      <td>-0.579950</td>\n",
              "    </tr>\n",
              "    <tr>\n",
              "      <th>3</th>\n",
              "      <td>2020-12-31 15:03:00</td>\n",
              "      <td>1.4503</td>\n",
              "      <td>1.4559</td>\n",
              "      <td>1.4503</td>\n",
              "      <td>1.4558</td>\n",
              "      <td>1639.76</td>\n",
              "      <td>15:03</td>\n",
              "      <td>0.00000</td>\n",
              "      <td>0.0</td>\n",
              "      <td>0.0</td>\n",
              "      <td>...</td>\n",
              "      <td>1.45310</td>\n",
              "      <td>True</td>\n",
              "      <td>1.45310</td>\n",
              "      <td>1.45310</td>\n",
              "      <td>True</td>\n",
              "      <td>1.45310</td>\n",
              "      <td>1.45310</td>\n",
              "      <td>True</td>\n",
              "      <td>0.494573</td>\n",
              "      <td>-1.085314</td>\n",
              "    </tr>\n",
              "    <tr>\n",
              "      <th>4</th>\n",
              "      <td>2020-12-31 15:04:00</td>\n",
              "      <td>1.4558</td>\n",
              "      <td>1.4569</td>\n",
              "      <td>1.4545</td>\n",
              "      <td>1.4569</td>\n",
              "      <td>900.91</td>\n",
              "      <td>15:04</td>\n",
              "      <td>0.00404</td>\n",
              "      <td>0.0</td>\n",
              "      <td>0.0</td>\n",
              "      <td>...</td>\n",
              "      <td>1.45570</td>\n",
              "      <td>True</td>\n",
              "      <td>1.45570</td>\n",
              "      <td>1.45570</td>\n",
              "      <td>True</td>\n",
              "      <td>1.47590</td>\n",
              "      <td>1.43550</td>\n",
              "      <td>True</td>\n",
              "      <td>0.418697</td>\n",
              "      <td>-1.159997</td>\n",
              "    </tr>\n",
              "  </tbody>\n",
              "</table>\n",
              "<p>5 rows × 65 columns</p>\n",
              "</div>\n",
              "    <div class=\"colab-df-buttons\">\n",
              "\n",
              "  <div class=\"colab-df-container\">\n",
              "    <button class=\"colab-df-convert\" onclick=\"convertToInteractive('df-278d9bce-8c42-4c1e-8af6-af142e8b880f')\"\n",
              "            title=\"Convert this dataframe to an interactive table.\"\n",
              "            style=\"display:none;\">\n",
              "\n",
              "  <svg xmlns=\"http://www.w3.org/2000/svg\" height=\"24px\" viewBox=\"0 -960 960 960\">\n",
              "    <path d=\"M120-120v-720h720v720H120Zm60-500h600v-160H180v160Zm220 220h160v-160H400v160Zm0 220h160v-160H400v160ZM180-400h160v-160H180v160Zm440 0h160v-160H620v160ZM180-180h160v-160H180v160Zm440 0h160v-160H620v160Z\"/>\n",
              "  </svg>\n",
              "    </button>\n",
              "\n",
              "  <style>\n",
              "    .colab-df-container {\n",
              "      display:flex;\n",
              "      gap: 12px;\n",
              "    }\n",
              "\n",
              "    .colab-df-convert {\n",
              "      background-color: #E8F0FE;\n",
              "      border: none;\n",
              "      border-radius: 50%;\n",
              "      cursor: pointer;\n",
              "      display: none;\n",
              "      fill: #1967D2;\n",
              "      height: 32px;\n",
              "      padding: 0 0 0 0;\n",
              "      width: 32px;\n",
              "    }\n",
              "\n",
              "    .colab-df-convert:hover {\n",
              "      background-color: #E2EBFA;\n",
              "      box-shadow: 0px 1px 2px rgba(60, 64, 67, 0.3), 0px 1px 3px 1px rgba(60, 64, 67, 0.15);\n",
              "      fill: #174EA6;\n",
              "    }\n",
              "\n",
              "    .colab-df-buttons div {\n",
              "      margin-bottom: 4px;\n",
              "    }\n",
              "\n",
              "    [theme=dark] .colab-df-convert {\n",
              "      background-color: #3B4455;\n",
              "      fill: #D2E3FC;\n",
              "    }\n",
              "\n",
              "    [theme=dark] .colab-df-convert:hover {\n",
              "      background-color: #434B5C;\n",
              "      box-shadow: 0px 1px 3px 1px rgba(0, 0, 0, 0.15);\n",
              "      filter: drop-shadow(0px 1px 2px rgba(0, 0, 0, 0.3));\n",
              "      fill: #FFFFFF;\n",
              "    }\n",
              "  </style>\n",
              "\n",
              "    <script>\n",
              "      const buttonEl =\n",
              "        document.querySelector('#df-278d9bce-8c42-4c1e-8af6-af142e8b880f button.colab-df-convert');\n",
              "      buttonEl.style.display =\n",
              "        google.colab.kernel.accessAllowed ? 'block' : 'none';\n",
              "\n",
              "      async function convertToInteractive(key) {\n",
              "        const element = document.querySelector('#df-278d9bce-8c42-4c1e-8af6-af142e8b880f');\n",
              "        const dataTable =\n",
              "          await google.colab.kernel.invokeFunction('convertToInteractive',\n",
              "                                                    [key], {});\n",
              "        if (!dataTable) return;\n",
              "\n",
              "        const docLinkHtml = 'Like what you see? Visit the ' +\n",
              "          '<a target=\"_blank\" href=https://colab.research.google.com/notebooks/data_table.ipynb>data table notebook</a>'\n",
              "          + ' to learn more about interactive tables.';\n",
              "        element.innerHTML = '';\n",
              "        dataTable['output_type'] = 'display_data';\n",
              "        await google.colab.output.renderOutput(dataTable, element);\n",
              "        const docLink = document.createElement('div');\n",
              "        docLink.innerHTML = docLinkHtml;\n",
              "        element.appendChild(docLink);\n",
              "      }\n",
              "    </script>\n",
              "  </div>\n",
              "\n",
              "\n",
              "<div id=\"df-a1b46129-5518-4907-9784-9a7b360fadb8\">\n",
              "  <button class=\"colab-df-quickchart\" onclick=\"quickchart('df-a1b46129-5518-4907-9784-9a7b360fadb8')\"\n",
              "            title=\"Suggest charts\"\n",
              "            style=\"display:none;\">\n",
              "\n",
              "<svg xmlns=\"http://www.w3.org/2000/svg\" height=\"24px\"viewBox=\"0 0 24 24\"\n",
              "     width=\"24px\">\n",
              "    <g>\n",
              "        <path d=\"M19 3H5c-1.1 0-2 .9-2 2v14c0 1.1.9 2 2 2h14c1.1 0 2-.9 2-2V5c0-1.1-.9-2-2-2zM9 17H7v-7h2v7zm4 0h-2V7h2v10zm4 0h-2v-4h2v4z\"/>\n",
              "    </g>\n",
              "</svg>\n",
              "  </button>\n",
              "\n",
              "<style>\n",
              "  .colab-df-quickchart {\n",
              "      --bg-color: #E8F0FE;\n",
              "      --fill-color: #1967D2;\n",
              "      --hover-bg-color: #E2EBFA;\n",
              "      --hover-fill-color: #174EA6;\n",
              "      --disabled-fill-color: #AAA;\n",
              "      --disabled-bg-color: #DDD;\n",
              "  }\n",
              "\n",
              "  [theme=dark] .colab-df-quickchart {\n",
              "      --bg-color: #3B4455;\n",
              "      --fill-color: #D2E3FC;\n",
              "      --hover-bg-color: #434B5C;\n",
              "      --hover-fill-color: #FFFFFF;\n",
              "      --disabled-bg-color: #3B4455;\n",
              "      --disabled-fill-color: #666;\n",
              "  }\n",
              "\n",
              "  .colab-df-quickchart {\n",
              "    background-color: var(--bg-color);\n",
              "    border: none;\n",
              "    border-radius: 50%;\n",
              "    cursor: pointer;\n",
              "    display: none;\n",
              "    fill: var(--fill-color);\n",
              "    height: 32px;\n",
              "    padding: 0;\n",
              "    width: 32px;\n",
              "  }\n",
              "\n",
              "  .colab-df-quickchart:hover {\n",
              "    background-color: var(--hover-bg-color);\n",
              "    box-shadow: 0 1px 2px rgba(60, 64, 67, 0.3), 0 1px 3px 1px rgba(60, 64, 67, 0.15);\n",
              "    fill: var(--button-hover-fill-color);\n",
              "  }\n",
              "\n",
              "  .colab-df-quickchart-complete:disabled,\n",
              "  .colab-df-quickchart-complete:disabled:hover {\n",
              "    background-color: var(--disabled-bg-color);\n",
              "    fill: var(--disabled-fill-color);\n",
              "    box-shadow: none;\n",
              "  }\n",
              "\n",
              "  .colab-df-spinner {\n",
              "    border: 2px solid var(--fill-color);\n",
              "    border-color: transparent;\n",
              "    border-bottom-color: var(--fill-color);\n",
              "    animation:\n",
              "      spin 1s steps(1) infinite;\n",
              "  }\n",
              "\n",
              "  @keyframes spin {\n",
              "    0% {\n",
              "      border-color: transparent;\n",
              "      border-bottom-color: var(--fill-color);\n",
              "      border-left-color: var(--fill-color);\n",
              "    }\n",
              "    20% {\n",
              "      border-color: transparent;\n",
              "      border-left-color: var(--fill-color);\n",
              "      border-top-color: var(--fill-color);\n",
              "    }\n",
              "    30% {\n",
              "      border-color: transparent;\n",
              "      border-left-color: var(--fill-color);\n",
              "      border-top-color: var(--fill-color);\n",
              "      border-right-color: var(--fill-color);\n",
              "    }\n",
              "    40% {\n",
              "      border-color: transparent;\n",
              "      border-right-color: var(--fill-color);\n",
              "      border-top-color: var(--fill-color);\n",
              "    }\n",
              "    60% {\n",
              "      border-color: transparent;\n",
              "      border-right-color: var(--fill-color);\n",
              "    }\n",
              "    80% {\n",
              "      border-color: transparent;\n",
              "      border-right-color: var(--fill-color);\n",
              "      border-bottom-color: var(--fill-color);\n",
              "    }\n",
              "    90% {\n",
              "      border-color: transparent;\n",
              "      border-bottom-color: var(--fill-color);\n",
              "    }\n",
              "  }\n",
              "</style>\n",
              "\n",
              "  <script>\n",
              "    async function quickchart(key) {\n",
              "      const quickchartButtonEl =\n",
              "        document.querySelector('#' + key + ' button');\n",
              "      quickchartButtonEl.disabled = true;  // To prevent multiple clicks.\n",
              "      quickchartButtonEl.classList.add('colab-df-spinner');\n",
              "      try {\n",
              "        const charts = await google.colab.kernel.invokeFunction(\n",
              "            'suggestCharts', [key], {});\n",
              "      } catch (error) {\n",
              "        console.error('Error during call to suggestCharts:', error);\n",
              "      }\n",
              "      quickchartButtonEl.classList.remove('colab-df-spinner');\n",
              "      quickchartButtonEl.classList.add('colab-df-quickchart-complete');\n",
              "    }\n",
              "    (() => {\n",
              "      let quickchartButtonEl =\n",
              "        document.querySelector('#df-a1b46129-5518-4907-9784-9a7b360fadb8 button');\n",
              "      quickchartButtonEl.style.display =\n",
              "        google.colab.kernel.accessAllowed ? 'block' : 'none';\n",
              "    })();\n",
              "  </script>\n",
              "</div>\n",
              "\n",
              "    </div>\n",
              "  </div>\n"
            ],
            "application/vnd.google.colaboratory.intrinsic+json": {
              "type": "dataframe",
              "variable_name": "data"
            }
          },
          "metadata": {},
          "execution_count": 9
        }
      ],
      "source": [
        "data = pd.read_csv(\"/content/drive/MyDrive/Data/SOL60_INDICATOR2_SMALL\")\n",
        "\n",
        "# Display the first few rows of the dataset to ensure it is loaded correctly\n",
        "data.head()"
      ]
    },
    {
      "cell_type": "markdown",
      "source": [
        "######################\n",
        "\n",
        "지표 목록 파악\n",
        "\n",
        "######################\n",
        "\n"
      ],
      "metadata": {
        "id": "rxjRoE4U5rUk"
      }
    },
    {
      "cell_type": "code",
      "source": [
        "data.columns"
      ],
      "metadata": {
        "colab": {
          "base_uri": "https://localhost:8080/"
        },
        "id": "Fl63qo4X5u2V",
        "outputId": "b61fa211-5d59-44cb-a7da-2df4a6eead9e"
      },
      "execution_count": null,
      "outputs": [
        {
          "output_type": "execute_result",
          "data": {
            "text/plain": [
              "Index(['open_time', 'open', 'high', 'low', 'close', 'volume', 'time', 'atr_5',\n",
              "       'atr_10', 'atr_14', 'atr_20', 'atr_50', 'vwap', 'stoch_%k_14_3',\n",
              "       'stoch_%d_14_3', 'stoch_%k_21_5', 'stoch_%d_21_5', 'stoch_%k_9_3',\n",
              "       'stoch_%d_9_3', 'stoch_%k_5_2', 'stoch_%d_5_2', 'stoch_%k_20_7',\n",
              "       'stoch_%d_20_7', 'obv', 'bollinger_hband_10', 'bollinger_lband_10',\n",
              "       'bollinger_hband_20', 'bollinger_lband_20', 'bollinger_hband_50',\n",
              "       'bollinger_lband_50', 'bollinger_hband_100', 'bollinger_lband_100',\n",
              "       'bollinger_hband_200', 'bollinger_lband_200', 'ichimoku_base_9',\n",
              "       'ichimoku_conversion_9', 'ichimoku_base_26', 'ichimoku_conversion_26',\n",
              "       'ichimoku_base_52', 'ichimoku_conversion_52', 'ichimoku_base_100',\n",
              "       'ichimoku_conversion_100', 'ichimoku_base_200',\n",
              "       'ichimoku_conversion_200', 'atr', 'upperband', 'lowerband',\n",
              "       'in_uptrend', 'supertrend_upper_7_3_14', 'supertrend_lower_7_3_14',\n",
              "       'supertrend_in_uptrend_7_3_14', 'supertrend_upper_10_3_20',\n",
              "       'supertrend_lower_10_3_20', 'supertrend_in_uptrend_10_3_20',\n",
              "       'supertrend_upper_14_2_10', 'supertrend_lower_14_2_10',\n",
              "       'supertrend_in_uptrend_14_2_10', 'supertrend_upper_20_4_50',\n",
              "       'supertrend_lower_20_4_50', 'supertrend_in_uptrend_20_4_50',\n",
              "       'supertrend_upper_50_5_5', 'supertrend_lower_50_5_5',\n",
              "       'supertrend_in_uptrend_50_5_5', 'max_return_60min', 'min_return_60min'],\n",
              "      dtype='object')"
            ]
          },
          "metadata": {},
          "execution_count": 9
        }
      ]
    },
    {
      "cell_type": "markdown",
      "source": [
        "######################\n",
        "\n",
        "**불필요 지표 삭제**\n",
        "######################"
      ],
      "metadata": {
        "id": "nON-4W9j3d-V"
      }
    },
    {
      "cell_type": "code",
      "source": [
        "data = data.drop(columns=['ichimoku_base_9',\n",
        "       'ichimoku_conversion_9', 'ichimoku_base_26', 'ichimoku_conversion_26',\n",
        "       'ichimoku_base_52', 'ichimoku_conversion_52', 'ichimoku_base_100',\n",
        "       'ichimoku_conversion_100', 'ichimoku_base_200',\n",
        "       'ichimoku_conversion_200','bollinger_hband_10', 'bollinger_lband_10',\n",
        "       'bollinger_hband_20', 'bollinger_lband_20', 'bollinger_hband_50',\n",
        "       'bollinger_lband_50', 'bollinger_hband_100', 'bollinger_lband_100',\n",
        "       'bollinger_hband_200', 'bollinger_lband_200', 'obv'])"
      ],
      "metadata": {
        "id": "xjRz9NKo3dsF"
      },
      "execution_count": null,
      "outputs": []
    },
    {
      "cell_type": "code",
      "source": [
        "data.columns"
      ],
      "metadata": {
        "colab": {
          "base_uri": "https://localhost:8080/"
        },
        "id": "cepx8dwz6xDC",
        "outputId": "a6d540d1-477f-4c06-8435-74b02fb2da40"
      },
      "execution_count": null,
      "outputs": [
        {
          "output_type": "execute_result",
          "data": {
            "text/plain": [
              "Index(['open_time', 'open', 'high', 'low', 'close', 'volume', 'time', 'atr_5',\n",
              "       'atr_10', 'atr_14', 'atr_20', 'atr_50', 'vwap', 'stoch_%k_14_3',\n",
              "       'stoch_%d_14_3', 'stoch_%k_21_5', 'stoch_%d_21_5', 'stoch_%k_9_3',\n",
              "       'stoch_%d_9_3', 'stoch_%k_5_2', 'stoch_%d_5_2', 'stoch_%k_20_7',\n",
              "       'stoch_%d_20_7', 'atr', 'upperband', 'lowerband', 'in_uptrend',\n",
              "       'supertrend_upper_7_3_14', 'supertrend_lower_7_3_14',\n",
              "       'supertrend_in_uptrend_7_3_14', 'supertrend_upper_10_3_20',\n",
              "       'supertrend_lower_10_3_20', 'supertrend_in_uptrend_10_3_20',\n",
              "       'supertrend_upper_14_2_10', 'supertrend_lower_14_2_10',\n",
              "       'supertrend_in_uptrend_14_2_10', 'supertrend_upper_20_4_50',\n",
              "       'supertrend_lower_20_4_50', 'supertrend_in_uptrend_20_4_50',\n",
              "       'supertrend_upper_50_5_5', 'supertrend_lower_50_5_5',\n",
              "       'supertrend_in_uptrend_50_5_5', 'max_return_60min', 'min_return_60min'],\n",
              "      dtype='object')"
            ]
          },
          "metadata": {},
          "execution_count": 24
        }
      ]
    },
    {
      "cell_type": "markdown",
      "source": [
        "######################\n",
        "\n",
        "**추가 지표 처리**\n",
        "######################"
      ],
      "metadata": {
        "id": "_CVhglhd3YK-"
      }
    },
    {
      "cell_type": "code",
      "source": [
        "# 지표 계산 함수 정의\n",
        "\n",
        "def calculate_indicators(df):\n",
        "    # Parabolic SAR\n",
        "    df['Parabolic_SAR_0.02'] = pata.psar(df['high'], df['low'], df['close'], af=0.02, max_af=0.2)['PSARl_0.02_0.2']\n",
        "    df['Parabolic_SAR_0.04'] = pata.psar(df['high'], df['low'], df['close'], af=0.04, max_af=0.2)['PSARl_0.04_0.2']\n",
        "    df['Parabolic_SAR_0.06'] = pata.psar(df['high'], df['low'], df['close'], af=0.06, max_af=0.2)['PSARl_0.06_0.2']\n",
        "    df['Parabolic_SAR_0.08'] = pata.psar(df['high'], df['low'], df['close'], af=0.08, max_af=0.2)['PSARl_0.08_0.2']\n",
        "    df['Parabolic_SAR_0.1'] = pata.psar(df['high'], df['low'], df['close'], af=0.1, max_af=0.2)['PSARl_0.1_0.2']\n",
        "\n",
        "    # Williams %R\n",
        "    df['Williams_%R_10'] = pata.willr(df['high'], df['low'], df['close'], length=10)\n",
        "    df['Williams_%R_20'] = pata.willr(df['high'], df['low'], df['close'], length=20)\n",
        "    df['Williams_%R_30'] = pata.willr(df['high'], df['low'], df['close'], length=30)\n",
        "    df['Williams_%R_40'] = pata.willr(df['high'], df['low'], df['close'], length=40)\n",
        "    df['Williams_%R_50'] = pata.willr(df['high'], df['low'], df['close'], length=50)\n",
        "\n",
        "    # Momentum\n",
        "    df['Momentum_10'] = pata.mom(df['close'], length=10)\n",
        "    df['Momentum_20'] = pata.mom(df['close'], length=20)\n",
        "    df['Momentum_30'] = pata.mom(df['close'], length=30)\n",
        "    df['Momentum_40'] = pata.mom(df['close'], length=40)\n",
        "    df['Momentum_50'] = pata.mom(df['close'], length=50)\n",
        "\n",
        "    # Rate of Change (ROC)\n",
        "    df['ROC_10'] = pata.roc(df['close'], length=10)\n",
        "    df['ROC_20'] = pata.roc(df['close'], length=20)\n",
        "    df['ROC_30'] = pata.roc(df['close'], length=30)\n",
        "    df['ROC_40'] = pata.roc(df['close'], length=40)\n",
        "    df['ROC_50'] = pata.roc(df['close'], length=50)\n",
        "\n",
        "    # Chande Momentum Oscillator (CMO)\n",
        "    df['CMO_10'] = pata.cmo(df['close'], length=10)\n",
        "    df['CMO_20'] = pata.cmo(df['close'], length=20)\n",
        "    df['CMO_30'] = pata.cmo(df['close'], length=30)\n",
        "    df['CMO_40'] = pata.cmo(df['close'], length=40)\n",
        "    df['CMO_50'] = pata.cmo(df['close'], length=50)\n",
        "\n",
        "    # Money Flow Index (MFI)\n",
        "    df['MFI_10'] = pata.mfi(df['high'], df['low'], df['close'], df['volume'], length=10)\n",
        "    df['MFI_20'] = pata.mfi(df['high'], df['low'], df['close'], df['volume'], length=20)\n",
        "    df['MFI_30'] = pata.mfi(df['high'], df['low'], df['close'], df['volume'], length=30)\n",
        "    df['MFI_40'] = pata.mfi(df['high'], df['low'], df['close'], df['volume'], length=40)\n",
        "    df['MFI_50'] = pata.mfi(df['high'], df['low'], df['close'], df['volume'], length=50)\n",
        "\n",
        "    # Relative Strength Index (RSI)\n",
        "    df['RSI_10'] = pata.rsi(df['close'], length=10)\n",
        "    df['RSI_20'] = pata.rsi(df['close'], length=20)\n",
        "    df['RSI_30'] = pata.rsi(df['close'], length=30)\n",
        "    df['RSI_40'] = pata.rsi(df['close'], length=40)\n",
        "    df['RSI_50'] = pata.rsi(df['close'], length=50)\n",
        "\n",
        "    # Accumulation/Distribution Line (A/D Line)\n",
        "    df['Accumulation_Distribution_Line'] = pata.ad(df['high'], df['low'], df['close'], df['volume'])\n",
        "\n",
        "    # Elder's Force Index (EFI)\n",
        "    df['Elder_Force_Index_2'] = pata.efi(df['close'], df['volume'], length=2)\n",
        "    df['Elder_Force_Index_13'] = pata.efi(df['close'], df['volume'], length=13)\n",
        "    df['Elder_Force_Index_5'] = pata.efi(df['close'], df['volume'], length=5)\n",
        "    df['Elder_Force_Index_10'] = pata.efi(df['close'], df['volume'], length=10)\n",
        "    df['Elder_Force_Index_25'] = pata.efi(df['close'], df['volume'], length=25)\n",
        "\n",
        "    # Relative Vigor Index (RVI)\n",
        "    df['Relative_Vigor_Index_10'] = pata.rsi(df['close'], length=10)  # pandas-ta는 RVI가 없으므로 RSI로 대체\n",
        "    df['Relative_Vigor_Index_20'] = pata.rsi(df['close'], length=20)\n",
        "    df['Relative_Vigor_Index_30'] = pata.rsi(df['close'], length=30)\n",
        "    df['Relative_Vigor_Index_40'] = pata.rsi(df['close'], length=40)\n",
        "    df['Relative_Vigor_Index_50'] = pata.rsi(df['close'], length=50)\n",
        "\n",
        "    # Volume Ratio (VR)\n",
        "    def volume_ratio(close, volume, period):\n",
        "        vr = []\n",
        "        for i in range(len(close)):\n",
        "            if i < period:\n",
        "                vr.append(None)\n",
        "            else:\n",
        "                vol_up = sum(volume[j] for j in range(i - period + 1, i + 1) if close[j] > close[j - 1])\n",
        "                vol_down = sum(volume[j] for j in range(i - period + 1, i + 1) if close[j] < close[j - 1])\n",
        "                vol_same = sum(volume[j] for j in range(i - period + 1, i + 1) if close[j] == close[j - 1])\n",
        "                vr_value = (vol_up + vol_same / 2) / (vol_down + vol_same / 2) * 100\n",
        "                vr.append(vr_value)\n",
        "        return vr\n",
        "\n",
        "    df['VR_10'] = volume_ratio(df['close'], df['volume'], period=10)\n",
        "    df['VR_20'] = volume_ratio(df['close'], df['volume'], period=20)\n",
        "    df['VR_30'] = volume_ratio(df['close'], df['volume'], period=30)\n",
        "    df['VR_40'] = volume_ratio(df['close'], df['volume'], period=40)\n",
        "    df['VR_50'] = volume_ratio(df['close'], df['volume'], period=50)\n",
        "\n",
        "    return df\n",
        "\n",
        "# 지표 계산\n",
        "data = calculate_indicators(data)"
      ],
      "metadata": {
        "colab": {
          "base_uri": "https://localhost:8080/"
        },
        "id": "UuO8bA243TLi",
        "outputId": "a030d2de-2d1d-40f7-d98a-21ce127d6612"
      },
      "execution_count": null,
      "outputs": [
        {
          "output_type": "stream",
          "name": "stderr",
          "text": [
            "<ipython-input-34-b6fdbbcc9f9d>:80: RuntimeWarning: divide by zero encountered in scalar divide\n",
            "  vr_value = (vol_up + vol_same / 2) / (vol_down + vol_same / 2) * 100\n",
            "<ipython-input-34-b6fdbbcc9f9d>:80: RuntimeWarning: invalid value encountered in scalar divide\n",
            "  vr_value = (vol_up + vol_same / 2) / (vol_down + vol_same / 2) * 100\n",
            "<ipython-input-34-b6fdbbcc9f9d>:80: RuntimeWarning: divide by zero encountered in scalar divide\n",
            "  vr_value = (vol_up + vol_same / 2) / (vol_down + vol_same / 2) * 100\n",
            "<ipython-input-34-b6fdbbcc9f9d>:80: RuntimeWarning: invalid value encountered in scalar divide\n",
            "  vr_value = (vol_up + vol_same / 2) / (vol_down + vol_same / 2) * 100\n",
            "<ipython-input-34-b6fdbbcc9f9d>:80: RuntimeWarning: divide by zero encountered in scalar divide\n",
            "  vr_value = (vol_up + vol_same / 2) / (vol_down + vol_same / 2) * 100\n",
            "<ipython-input-34-b6fdbbcc9f9d>:80: RuntimeWarning: invalid value encountered in scalar divide\n",
            "  vr_value = (vol_up + vol_same / 2) / (vol_down + vol_same / 2) * 100\n",
            "<ipython-input-34-b6fdbbcc9f9d>:80: RuntimeWarning: divide by zero encountered in scalar divide\n",
            "  vr_value = (vol_up + vol_same / 2) / (vol_down + vol_same / 2) * 100\n",
            "<ipython-input-34-b6fdbbcc9f9d>:80: RuntimeWarning: invalid value encountered in scalar divide\n",
            "  vr_value = (vol_up + vol_same / 2) / (vol_down + vol_same / 2) * 100\n",
            "<ipython-input-34-b6fdbbcc9f9d>:80: RuntimeWarning: divide by zero encountered in scalar divide\n",
            "  vr_value = (vol_up + vol_same / 2) / (vol_down + vol_same / 2) * 100\n",
            "<ipython-input-34-b6fdbbcc9f9d>:80: RuntimeWarning: invalid value encountered in scalar divide\n",
            "  vr_value = (vol_up + vol_same / 2) / (vol_down + vol_same / 2) * 100\n"
          ]
        }
      ]
    },
    {
      "cell_type": "code",
      "source": [
        "data.head()"
      ],
      "metadata": {
        "colab": {
          "base_uri": "https://localhost:8080/",
          "height": 342
        },
        "id": "QcYoytYVEmAV",
        "outputId": "a14cd276-aef0-4568-97a5-32ed92fba88f"
      },
      "execution_count": null,
      "outputs": [
        {
          "output_type": "execute_result",
          "data": {
            "text/plain": [
              "             open_time    open    high     low   close   volume   time  \\\n",
              "0  2020-12-31 15:00:00  1.4458  1.4458  1.4444  1.4456   161.34  15:00   \n",
              "1  2020-12-31 15:01:00  1.4477  1.4478  1.4463  1.4463   148.86  15:01   \n",
              "2  2020-12-31 15:02:00  1.4479  1.4530  1.4466  1.4484  3208.13  15:02   \n",
              "3  2020-12-31 15:03:00  1.4503  1.4559  1.4503  1.4558  1639.76  15:03   \n",
              "4  2020-12-31 15:04:00  1.4558  1.4569  1.4545  1.4569   900.91  15:04   \n",
              "\n",
              "     atr_5  atr_10  atr_14  ...  Relative_Vigor_Index_10  \\\n",
              "0  0.00000     0.0     0.0  ...                      NaN   \n",
              "1  0.00000     0.0     0.0  ...                      NaN   \n",
              "2  0.00000     0.0     0.0  ...                      NaN   \n",
              "3  0.00000     0.0     0.0  ...                      NaN   \n",
              "4  0.00404     0.0     0.0  ...                      NaN   \n",
              "\n",
              "   Relative_Vigor_Index_20  Relative_Vigor_Index_30  Relative_Vigor_Index_40  \\\n",
              "0                      NaN                      NaN                      NaN   \n",
              "1                      NaN                      NaN                      NaN   \n",
              "2                      NaN                      NaN                      NaN   \n",
              "3                      NaN                      NaN                      NaN   \n",
              "4                      NaN                      NaN                      NaN   \n",
              "\n",
              "   Relative_Vigor_Index_50  VR_10  VR_20  VR_30  VR_40  VR_50  \n",
              "0                      NaN    NaN    NaN    NaN    NaN    NaN  \n",
              "1                      NaN    NaN    NaN    NaN    NaN    NaN  \n",
              "2                      NaN    NaN    NaN    NaN    NaN    NaN  \n",
              "3                      NaN    NaN    NaN    NaN    NaN    NaN  \n",
              "4                      NaN    NaN    NaN    NaN    NaN    NaN  \n",
              "\n",
              "[5 rows x 95 columns]"
            ],
            "text/html": [
              "\n",
              "  <div id=\"df-9655855b-e120-4f69-9ca4-e71ee04cf864\" class=\"colab-df-container\">\n",
              "    <div>\n",
              "<style scoped>\n",
              "    .dataframe tbody tr th:only-of-type {\n",
              "        vertical-align: middle;\n",
              "    }\n",
              "\n",
              "    .dataframe tbody tr th {\n",
              "        vertical-align: top;\n",
              "    }\n",
              "\n",
              "    .dataframe thead th {\n",
              "        text-align: right;\n",
              "    }\n",
              "</style>\n",
              "<table border=\"1\" class=\"dataframe\">\n",
              "  <thead>\n",
              "    <tr style=\"text-align: right;\">\n",
              "      <th></th>\n",
              "      <th>open_time</th>\n",
              "      <th>open</th>\n",
              "      <th>high</th>\n",
              "      <th>low</th>\n",
              "      <th>close</th>\n",
              "      <th>volume</th>\n",
              "      <th>time</th>\n",
              "      <th>atr_5</th>\n",
              "      <th>atr_10</th>\n",
              "      <th>atr_14</th>\n",
              "      <th>...</th>\n",
              "      <th>Relative_Vigor_Index_10</th>\n",
              "      <th>Relative_Vigor_Index_20</th>\n",
              "      <th>Relative_Vigor_Index_30</th>\n",
              "      <th>Relative_Vigor_Index_40</th>\n",
              "      <th>Relative_Vigor_Index_50</th>\n",
              "      <th>VR_10</th>\n",
              "      <th>VR_20</th>\n",
              "      <th>VR_30</th>\n",
              "      <th>VR_40</th>\n",
              "      <th>VR_50</th>\n",
              "    </tr>\n",
              "  </thead>\n",
              "  <tbody>\n",
              "    <tr>\n",
              "      <th>0</th>\n",
              "      <td>2020-12-31 15:00:00</td>\n",
              "      <td>1.4458</td>\n",
              "      <td>1.4458</td>\n",
              "      <td>1.4444</td>\n",
              "      <td>1.4456</td>\n",
              "      <td>161.34</td>\n",
              "      <td>15:00</td>\n",
              "      <td>0.00000</td>\n",
              "      <td>0.0</td>\n",
              "      <td>0.0</td>\n",
              "      <td>...</td>\n",
              "      <td>NaN</td>\n",
              "      <td>NaN</td>\n",
              "      <td>NaN</td>\n",
              "      <td>NaN</td>\n",
              "      <td>NaN</td>\n",
              "      <td>NaN</td>\n",
              "      <td>NaN</td>\n",
              "      <td>NaN</td>\n",
              "      <td>NaN</td>\n",
              "      <td>NaN</td>\n",
              "    </tr>\n",
              "    <tr>\n",
              "      <th>1</th>\n",
              "      <td>2020-12-31 15:01:00</td>\n",
              "      <td>1.4477</td>\n",
              "      <td>1.4478</td>\n",
              "      <td>1.4463</td>\n",
              "      <td>1.4463</td>\n",
              "      <td>148.86</td>\n",
              "      <td>15:01</td>\n",
              "      <td>0.00000</td>\n",
              "      <td>0.0</td>\n",
              "      <td>0.0</td>\n",
              "      <td>...</td>\n",
              "      <td>NaN</td>\n",
              "      <td>NaN</td>\n",
              "      <td>NaN</td>\n",
              "      <td>NaN</td>\n",
              "      <td>NaN</td>\n",
              "      <td>NaN</td>\n",
              "      <td>NaN</td>\n",
              "      <td>NaN</td>\n",
              "      <td>NaN</td>\n",
              "      <td>NaN</td>\n",
              "    </tr>\n",
              "    <tr>\n",
              "      <th>2</th>\n",
              "      <td>2020-12-31 15:02:00</td>\n",
              "      <td>1.4479</td>\n",
              "      <td>1.4530</td>\n",
              "      <td>1.4466</td>\n",
              "      <td>1.4484</td>\n",
              "      <td>3208.13</td>\n",
              "      <td>15:02</td>\n",
              "      <td>0.00000</td>\n",
              "      <td>0.0</td>\n",
              "      <td>0.0</td>\n",
              "      <td>...</td>\n",
              "      <td>NaN</td>\n",
              "      <td>NaN</td>\n",
              "      <td>NaN</td>\n",
              "      <td>NaN</td>\n",
              "      <td>NaN</td>\n",
              "      <td>NaN</td>\n",
              "      <td>NaN</td>\n",
              "      <td>NaN</td>\n",
              "      <td>NaN</td>\n",
              "      <td>NaN</td>\n",
              "    </tr>\n",
              "    <tr>\n",
              "      <th>3</th>\n",
              "      <td>2020-12-31 15:03:00</td>\n",
              "      <td>1.4503</td>\n",
              "      <td>1.4559</td>\n",
              "      <td>1.4503</td>\n",
              "      <td>1.4558</td>\n",
              "      <td>1639.76</td>\n",
              "      <td>15:03</td>\n",
              "      <td>0.00000</td>\n",
              "      <td>0.0</td>\n",
              "      <td>0.0</td>\n",
              "      <td>...</td>\n",
              "      <td>NaN</td>\n",
              "      <td>NaN</td>\n",
              "      <td>NaN</td>\n",
              "      <td>NaN</td>\n",
              "      <td>NaN</td>\n",
              "      <td>NaN</td>\n",
              "      <td>NaN</td>\n",
              "      <td>NaN</td>\n",
              "      <td>NaN</td>\n",
              "      <td>NaN</td>\n",
              "    </tr>\n",
              "    <tr>\n",
              "      <th>4</th>\n",
              "      <td>2020-12-31 15:04:00</td>\n",
              "      <td>1.4558</td>\n",
              "      <td>1.4569</td>\n",
              "      <td>1.4545</td>\n",
              "      <td>1.4569</td>\n",
              "      <td>900.91</td>\n",
              "      <td>15:04</td>\n",
              "      <td>0.00404</td>\n",
              "      <td>0.0</td>\n",
              "      <td>0.0</td>\n",
              "      <td>...</td>\n",
              "      <td>NaN</td>\n",
              "      <td>NaN</td>\n",
              "      <td>NaN</td>\n",
              "      <td>NaN</td>\n",
              "      <td>NaN</td>\n",
              "      <td>NaN</td>\n",
              "      <td>NaN</td>\n",
              "      <td>NaN</td>\n",
              "      <td>NaN</td>\n",
              "      <td>NaN</td>\n",
              "    </tr>\n",
              "  </tbody>\n",
              "</table>\n",
              "<p>5 rows × 95 columns</p>\n",
              "</div>\n",
              "    <div class=\"colab-df-buttons\">\n",
              "\n",
              "  <div class=\"colab-df-container\">\n",
              "    <button class=\"colab-df-convert\" onclick=\"convertToInteractive('df-9655855b-e120-4f69-9ca4-e71ee04cf864')\"\n",
              "            title=\"Convert this dataframe to an interactive table.\"\n",
              "            style=\"display:none;\">\n",
              "\n",
              "  <svg xmlns=\"http://www.w3.org/2000/svg\" height=\"24px\" viewBox=\"0 -960 960 960\">\n",
              "    <path d=\"M120-120v-720h720v720H120Zm60-500h600v-160H180v160Zm220 220h160v-160H400v160Zm0 220h160v-160H400v160ZM180-400h160v-160H180v160Zm440 0h160v-160H620v160ZM180-180h160v-160H180v160Zm440 0h160v-160H620v160Z\"/>\n",
              "  </svg>\n",
              "    </button>\n",
              "\n",
              "  <style>\n",
              "    .colab-df-container {\n",
              "      display:flex;\n",
              "      gap: 12px;\n",
              "    }\n",
              "\n",
              "    .colab-df-convert {\n",
              "      background-color: #E8F0FE;\n",
              "      border: none;\n",
              "      border-radius: 50%;\n",
              "      cursor: pointer;\n",
              "      display: none;\n",
              "      fill: #1967D2;\n",
              "      height: 32px;\n",
              "      padding: 0 0 0 0;\n",
              "      width: 32px;\n",
              "    }\n",
              "\n",
              "    .colab-df-convert:hover {\n",
              "      background-color: #E2EBFA;\n",
              "      box-shadow: 0px 1px 2px rgba(60, 64, 67, 0.3), 0px 1px 3px 1px rgba(60, 64, 67, 0.15);\n",
              "      fill: #174EA6;\n",
              "    }\n",
              "\n",
              "    .colab-df-buttons div {\n",
              "      margin-bottom: 4px;\n",
              "    }\n",
              "\n",
              "    [theme=dark] .colab-df-convert {\n",
              "      background-color: #3B4455;\n",
              "      fill: #D2E3FC;\n",
              "    }\n",
              "\n",
              "    [theme=dark] .colab-df-convert:hover {\n",
              "      background-color: #434B5C;\n",
              "      box-shadow: 0px 1px 3px 1px rgba(0, 0, 0, 0.15);\n",
              "      filter: drop-shadow(0px 1px 2px rgba(0, 0, 0, 0.3));\n",
              "      fill: #FFFFFF;\n",
              "    }\n",
              "  </style>\n",
              "\n",
              "    <script>\n",
              "      const buttonEl =\n",
              "        document.querySelector('#df-9655855b-e120-4f69-9ca4-e71ee04cf864 button.colab-df-convert');\n",
              "      buttonEl.style.display =\n",
              "        google.colab.kernel.accessAllowed ? 'block' : 'none';\n",
              "\n",
              "      async function convertToInteractive(key) {\n",
              "        const element = document.querySelector('#df-9655855b-e120-4f69-9ca4-e71ee04cf864');\n",
              "        const dataTable =\n",
              "          await google.colab.kernel.invokeFunction('convertToInteractive',\n",
              "                                                    [key], {});\n",
              "        if (!dataTable) return;\n",
              "\n",
              "        const docLinkHtml = 'Like what you see? Visit the ' +\n",
              "          '<a target=\"_blank\" href=https://colab.research.google.com/notebooks/data_table.ipynb>data table notebook</a>'\n",
              "          + ' to learn more about interactive tables.';\n",
              "        element.innerHTML = '';\n",
              "        dataTable['output_type'] = 'display_data';\n",
              "        await google.colab.output.renderOutput(dataTable, element);\n",
              "        const docLink = document.createElement('div');\n",
              "        docLink.innerHTML = docLinkHtml;\n",
              "        element.appendChild(docLink);\n",
              "      }\n",
              "    </script>\n",
              "  </div>\n",
              "\n",
              "\n",
              "<div id=\"df-81b1ffbd-ee83-4e67-9bb0-ed7e381d565b\">\n",
              "  <button class=\"colab-df-quickchart\" onclick=\"quickchart('df-81b1ffbd-ee83-4e67-9bb0-ed7e381d565b')\"\n",
              "            title=\"Suggest charts\"\n",
              "            style=\"display:none;\">\n",
              "\n",
              "<svg xmlns=\"http://www.w3.org/2000/svg\" height=\"24px\"viewBox=\"0 0 24 24\"\n",
              "     width=\"24px\">\n",
              "    <g>\n",
              "        <path d=\"M19 3H5c-1.1 0-2 .9-2 2v14c0 1.1.9 2 2 2h14c1.1 0 2-.9 2-2V5c0-1.1-.9-2-2-2zM9 17H7v-7h2v7zm4 0h-2V7h2v10zm4 0h-2v-4h2v4z\"/>\n",
              "    </g>\n",
              "</svg>\n",
              "  </button>\n",
              "\n",
              "<style>\n",
              "  .colab-df-quickchart {\n",
              "      --bg-color: #E8F0FE;\n",
              "      --fill-color: #1967D2;\n",
              "      --hover-bg-color: #E2EBFA;\n",
              "      --hover-fill-color: #174EA6;\n",
              "      --disabled-fill-color: #AAA;\n",
              "      --disabled-bg-color: #DDD;\n",
              "  }\n",
              "\n",
              "  [theme=dark] .colab-df-quickchart {\n",
              "      --bg-color: #3B4455;\n",
              "      --fill-color: #D2E3FC;\n",
              "      --hover-bg-color: #434B5C;\n",
              "      --hover-fill-color: #FFFFFF;\n",
              "      --disabled-bg-color: #3B4455;\n",
              "      --disabled-fill-color: #666;\n",
              "  }\n",
              "\n",
              "  .colab-df-quickchart {\n",
              "    background-color: var(--bg-color);\n",
              "    border: none;\n",
              "    border-radius: 50%;\n",
              "    cursor: pointer;\n",
              "    display: none;\n",
              "    fill: var(--fill-color);\n",
              "    height: 32px;\n",
              "    padding: 0;\n",
              "    width: 32px;\n",
              "  }\n",
              "\n",
              "  .colab-df-quickchart:hover {\n",
              "    background-color: var(--hover-bg-color);\n",
              "    box-shadow: 0 1px 2px rgba(60, 64, 67, 0.3), 0 1px 3px 1px rgba(60, 64, 67, 0.15);\n",
              "    fill: var(--button-hover-fill-color);\n",
              "  }\n",
              "\n",
              "  .colab-df-quickchart-complete:disabled,\n",
              "  .colab-df-quickchart-complete:disabled:hover {\n",
              "    background-color: var(--disabled-bg-color);\n",
              "    fill: var(--disabled-fill-color);\n",
              "    box-shadow: none;\n",
              "  }\n",
              "\n",
              "  .colab-df-spinner {\n",
              "    border: 2px solid var(--fill-color);\n",
              "    border-color: transparent;\n",
              "    border-bottom-color: var(--fill-color);\n",
              "    animation:\n",
              "      spin 1s steps(1) infinite;\n",
              "  }\n",
              "\n",
              "  @keyframes spin {\n",
              "    0% {\n",
              "      border-color: transparent;\n",
              "      border-bottom-color: var(--fill-color);\n",
              "      border-left-color: var(--fill-color);\n",
              "    }\n",
              "    20% {\n",
              "      border-color: transparent;\n",
              "      border-left-color: var(--fill-color);\n",
              "      border-top-color: var(--fill-color);\n",
              "    }\n",
              "    30% {\n",
              "      border-color: transparent;\n",
              "      border-left-color: var(--fill-color);\n",
              "      border-top-color: var(--fill-color);\n",
              "      border-right-color: var(--fill-color);\n",
              "    }\n",
              "    40% {\n",
              "      border-color: transparent;\n",
              "      border-right-color: var(--fill-color);\n",
              "      border-top-color: var(--fill-color);\n",
              "    }\n",
              "    60% {\n",
              "      border-color: transparent;\n",
              "      border-right-color: var(--fill-color);\n",
              "    }\n",
              "    80% {\n",
              "      border-color: transparent;\n",
              "      border-right-color: var(--fill-color);\n",
              "      border-bottom-color: var(--fill-color);\n",
              "    }\n",
              "    90% {\n",
              "      border-color: transparent;\n",
              "      border-bottom-color: var(--fill-color);\n",
              "    }\n",
              "  }\n",
              "</style>\n",
              "\n",
              "  <script>\n",
              "    async function quickchart(key) {\n",
              "      const quickchartButtonEl =\n",
              "        document.querySelector('#' + key + ' button');\n",
              "      quickchartButtonEl.disabled = true;  // To prevent multiple clicks.\n",
              "      quickchartButtonEl.classList.add('colab-df-spinner');\n",
              "      try {\n",
              "        const charts = await google.colab.kernel.invokeFunction(\n",
              "            'suggestCharts', [key], {});\n",
              "      } catch (error) {\n",
              "        console.error('Error during call to suggestCharts:', error);\n",
              "      }\n",
              "      quickchartButtonEl.classList.remove('colab-df-spinner');\n",
              "      quickchartButtonEl.classList.add('colab-df-quickchart-complete');\n",
              "    }\n",
              "    (() => {\n",
              "      let quickchartButtonEl =\n",
              "        document.querySelector('#df-81b1ffbd-ee83-4e67-9bb0-ed7e381d565b button');\n",
              "      quickchartButtonEl.style.display =\n",
              "        google.colab.kernel.accessAllowed ? 'block' : 'none';\n",
              "    })();\n",
              "  </script>\n",
              "</div>\n",
              "\n",
              "    </div>\n",
              "  </div>\n"
            ],
            "application/vnd.google.colaboratory.intrinsic+json": {
              "type": "dataframe",
              "variable_name": "data"
            }
          },
          "metadata": {},
          "execution_count": 35
        }
      ]
    },
    {
      "cell_type": "code",
      "source": [
        "data.columns"
      ],
      "metadata": {
        "colab": {
          "base_uri": "https://localhost:8080/"
        },
        "id": "_mbZwqKuEkUK",
        "outputId": "569deb25-529b-48e7-fddc-2446c999cfb2"
      },
      "execution_count": null,
      "outputs": [
        {
          "output_type": "execute_result",
          "data": {
            "text/plain": [
              "Index(['open_time', 'open', 'high', 'low', 'close', 'volume', 'time', 'atr_5',\n",
              "       'atr_10', 'atr_14', 'atr_20', 'atr_50', 'vwap', 'stoch_%k_14_3',\n",
              "       'stoch_%d_14_3', 'stoch_%k_21_5', 'stoch_%d_21_5', 'stoch_%k_9_3',\n",
              "       'stoch_%d_9_3', 'stoch_%k_5_2', 'stoch_%d_5_2', 'stoch_%k_20_7',\n",
              "       'stoch_%d_20_7', 'atr', 'upperband', 'lowerband', 'in_uptrend',\n",
              "       'supertrend_upper_7_3_14', 'supertrend_lower_7_3_14',\n",
              "       'supertrend_in_uptrend_7_3_14', 'supertrend_upper_10_3_20',\n",
              "       'supertrend_lower_10_3_20', 'supertrend_in_uptrend_10_3_20',\n",
              "       'supertrend_upper_14_2_10', 'supertrend_lower_14_2_10',\n",
              "       'supertrend_in_uptrend_14_2_10', 'supertrend_upper_20_4_50',\n",
              "       'supertrend_lower_20_4_50', 'supertrend_in_uptrend_20_4_50',\n",
              "       'supertrend_upper_50_5_5', 'supertrend_lower_50_5_5',\n",
              "       'supertrend_in_uptrend_50_5_5', 'max_return_60min', 'min_return_60min',\n",
              "       'Parabolic_SAR_0.02', 'Parabolic_SAR_0.04', 'Parabolic_SAR_0.06',\n",
              "       'Parabolic_SAR_0.08', 'Parabolic_SAR_0.1', 'Williams_%R_10',\n",
              "       'Williams_%R_20', 'Williams_%R_30', 'Williams_%R_40', 'Williams_%R_50',\n",
              "       'Momentum_10', 'Momentum_20', 'Momentum_30', 'Momentum_40',\n",
              "       'Momentum_50', 'ROC_10', 'ROC_20', 'ROC_30', 'ROC_40', 'ROC_50',\n",
              "       'CMO_10', 'CMO_20', 'CMO_30', 'CMO_40', 'CMO_50', 'MFI_10', 'MFI_20',\n",
              "       'MFI_30', 'MFI_40', 'MFI_50', 'RSI_10', 'RSI_20', 'RSI_30', 'RSI_40',\n",
              "       'RSI_50', 'Accumulation_Distribution_Line', 'Elder_Force_Index_2',\n",
              "       'Elder_Force_Index_13', 'Elder_Force_Index_5', 'Elder_Force_Index_10',\n",
              "       'Elder_Force_Index_25', 'Relative_Vigor_Index_10',\n",
              "       'Relative_Vigor_Index_20', 'Relative_Vigor_Index_30',\n",
              "       'Relative_Vigor_Index_40', 'Relative_Vigor_Index_50', 'VR_10', 'VR_20',\n",
              "       'VR_30', 'VR_40', 'VR_50'],\n",
              "      dtype='object')"
            ]
          },
          "metadata": {},
          "execution_count": 36
        }
      ]
    },
    {
      "cell_type": "markdown",
      "source": [
        "######################\n",
        "\n",
        "**지표 저장**\n",
        "######################"
      ],
      "metadata": {
        "id": "WpT8V4QDCx4b"
      }
    },
    {
      "cell_type": "code",
      "source": [
        "path_edit = \"/content/drive/MyDrive/Data/SOL60_INDICATOR3_SMALL\";\n",
        "data.to_csv(path_edit, index=True);"
      ],
      "metadata": {
        "id": "NI9xlQXfJzMx",
        "colab": {
          "base_uri": "https://localhost:8080/",
          "height": 159
        },
        "outputId": "9befc917-9aa2-4d44-a76d-f2d922d8eb29"
      },
      "execution_count": null,
      "outputs": [
        {
          "output_type": "error",
          "ename": "NameError",
          "evalue": "name 'data' is not defined",
          "traceback": [
            "\u001b[0;31m---------------------------------------------------------------------------\u001b[0m",
            "\u001b[0;31mNameError\u001b[0m                                 Traceback (most recent call last)",
            "\u001b[0;32m<ipython-input-2-b68e66a28658>\u001b[0m in \u001b[0;36m<cell line: 2>\u001b[0;34m()\u001b[0m\n\u001b[1;32m      1\u001b[0m \u001b[0mpath_edit\u001b[0m \u001b[0;34m=\u001b[0m \u001b[0;34m\"/content/drive/MyDrive/Data/SOL60_INDICATOR3_SMALL\"\u001b[0m\u001b[0;34m;\u001b[0m\u001b[0;34m\u001b[0m\u001b[0;34m\u001b[0m\u001b[0m\n\u001b[0;32m----> 2\u001b[0;31m \u001b[0mdata\u001b[0m\u001b[0;34m.\u001b[0m\u001b[0mto_csv\u001b[0m\u001b[0;34m(\u001b[0m\u001b[0mpath_edit\u001b[0m\u001b[0;34m,\u001b[0m \u001b[0mindex\u001b[0m\u001b[0;34m=\u001b[0m\u001b[0;32mTrue\u001b[0m\u001b[0;34m)\u001b[0m\u001b[0;34m;\u001b[0m\u001b[0;34m\u001b[0m\u001b[0;34m\u001b[0m\u001b[0m\n\u001b[0m",
            "\u001b[0;31mNameError\u001b[0m: name 'data' is not defined"
          ]
        }
      ]
    },
    {
      "cell_type": "markdown",
      "source": [
        "######################\n",
        "\n",
        "**지표 관계 파악(간단)**\n",
        "######################"
      ],
      "metadata": {
        "id": "pRxLINzt5c9H"
      }
    },
    {
      "cell_type": "code",
      "source": [
        "# max_return_60min이 1.1 이상인 데이터 필터링\n",
        "filtered_df_relative = data[data['max_return_60min'] >= 1.1]\n",
        "\n",
        "# 'time' 컬럼을 분 단위로 변환\n",
        "filtered_df_relative['time'] = filtered_df_relative['time'].str.split(':').apply(lambda x: int(x[0]) * 60 + int(x[1]))\n",
        "\n",
        "# 상관계수 계산 (open_time을 제외한 나머지 항목들에 대해서만 계산)\n",
        "correlation_matrix = filtered_df_relative.drop(columns=['open_time']).corr()\n",
        "\n",
        "# max_return_60min과 나머지 항목들 간의 상관계수 출력\n",
        "max_return_correlations = correlation_matrix['max_return_60min'].drop('max_return_60min').sort_values(ascending=False)\n",
        "max_return_correlations"
      ],
      "metadata": {
        "colab": {
          "base_uri": "https://localhost:8080/"
        },
        "id": "xJE-BKLl7fD1",
        "outputId": "9e6255b0-9242-4a23-8bbf-780c0a877913"
      },
      "execution_count": null,
      "outputs": [
        {
          "output_type": "stream",
          "name": "stderr",
          "text": [
            "<ipython-input-38-97ae0006df35>:5: SettingWithCopyWarning: \n",
            "A value is trying to be set on a copy of a slice from a DataFrame.\n",
            "Try using .loc[row_indexer,col_indexer] = value instead\n",
            "\n",
            "See the caveats in the documentation: https://pandas.pydata.org/pandas-docs/stable/user_guide/indexing.html#returning-a-view-versus-a-copy\n",
            "  filtered_df_relative['time'] = filtered_df_relative['time'].str.split(':').apply(lambda x: int(x[0]) * 60 + int(x[1]))\n"
          ]
        },
        {
          "output_type": "execute_result",
          "data": {
            "text/plain": [
              "volume                            0.290336\n",
              "atr                               0.102573\n",
              "atr_5                             0.102573\n",
              "atr_10                            0.099949\n",
              "atr_14                            0.097475\n",
              "                                    ...   \n",
              "supertrend_lower_7_3_14          -0.141304\n",
              "supertrend_lower_20_4_50         -0.141515\n",
              "supertrend_lower_50_5_5          -0.143015\n",
              "lowerband                        -0.143015\n",
              "Accumulation_Distribution_Line   -0.144703\n",
              "Name: max_return_60min, Length: 93, dtype: float64"
            ]
          },
          "metadata": {},
          "execution_count": 38
        }
      ]
    },
    {
      "cell_type": "markdown",
      "source": [
        "######################\n",
        "\n",
        "**학습 데이터 처리**\n",
        "######################"
      ],
      "metadata": {
        "id": "Jo6huVro3Tms"
      }
    },
    {
      "cell_type": "code",
      "source": [
        "# open_time 열이 datetime 형식이 아닌 경우 변환\n",
        "if not np.issubdtype(data['open_time'].dtype, np.datetime64):\n",
        "    data['open_time'] = pd.to_datetime(data['open_time'])\n",
        "\n",
        "# time 열을 분 단위로 변환\n",
        "data['time'] = data['open_time'].dt.hour * 60 + data['open_time'].dt.minute\n",
        "\n",
        "# 사용하지 않을 열 제외\n",
        "data = data.drop(columns=['open_time'])"
      ],
      "metadata": {
        "id": "77Dxr6tnSJLl"
      },
      "execution_count": null,
      "outputs": []
    },
    {
      "cell_type": "code",
      "execution_count": null,
      "metadata": {
        "id": "Lk9hQquQO_3S"
      },
      "outputs": [],
      "source": [
        "# 목표 변수 생성 (max_return_60min이 1.1% 이상인 경우 1, 그렇지 않으면 0)\n",
        "data['target'] = (data['max_return_60min'] >= 1.1).astype(int)\n",
        "\n",
        "# 특성과 목표 변수 분리\n",
        "X = data.drop(columns=['max_return_60min', 'min_return_60min', 'target'])\n",
        "y = data['target']\n",
        "\n",
        "# 무한대 값을 NaN으로 대체\n",
        "X.replace([np.inf, -np.inf], np.nan, inplace=True)\n",
        "\n",
        "# NaN 값을 평균으로 대체\n",
        "imputer = SimpleImputer(strategy='mean')\n",
        "X_imputed = imputer.fit_transform(X)\n",
        "\n",
        "# 데이터 정규화\n",
        "scaler = MinMaxScaler()\n",
        "X_scaled = scaler.fit_transform(X_imputed)\n",
        "\n",
        "# SMOTE를 사용한 오버샘플링\n",
        "smote = SMOTE(random_state=42)\n",
        "X_resampled, y_resampled = smote.fit_resample(X_scaled, y)\n",
        "\n",
        "# 시계열 데이터 생성 함수\n",
        "def create_sequences(X, y, time_steps=60):\n",
        "    Xs, ys = [], []\n",
        "    for i in range(len(X) - time_steps):\n",
        "        Xs.append(X[i:i + time_steps])\n",
        "        ys.append(y[i + time_steps])\n",
        "    return np.array(Xs, dtype=np.float32), np.array(ys, dtype=np.float32)\n",
        "\n",
        "# 데이터 크기를 확인하고 time_steps 값 조정\n",
        "time_steps = 60\n",
        "if len(X_resampled) <= time_steps:\n",
        "    raise ValueError(f\"The dataset size ({len(X_resampled)}) is too small for the given time_steps ({time_steps}).\")\n",
        "\n",
        "X_sequences, y_sequences = create_sequences(X_resampled, y_resampled, time_steps)"
      ]
    },
    {
      "cell_type": "markdown",
      "source": [
        "######################\n",
        "\n",
        "**xgboost**\n",
        "######################"
      ],
      "metadata": {
        "id": "xu3dcvcgOB42"
      }
    },
    {
      "cell_type": "code",
      "execution_count": null,
      "metadata": {
        "colab": {
          "base_uri": "https://localhost:8080/"
        },
        "id": "JHyZt2OsSruH",
        "outputId": "eb32301b-f72b-432f-9a68-678f352e2b71"
      },
      "outputs": [
        {
          "name": "stdout",
          "output_type": "stream",
          "text": [
            "Collecting xgboost\n",
            "  Downloading xgboost-2.1.0-py3-none-manylinux_2_28_x86_64.whl (153.9 MB)\n",
            "\u001b[2K     \u001b[90m━━━━━━━━━━━━━━━━━━━━━━━━━━━━━━━━━━━━━━━━\u001b[0m \u001b[32m153.9/153.9 MB\u001b[0m \u001b[31m5.9 MB/s\u001b[0m eta \u001b[36m0:00:00\u001b[0m\n",
            "\u001b[?25hRequirement already satisfied: numpy in /usr/local/lib/python3.10/dist-packages (from xgboost) (1.25.2)\n",
            "Collecting nvidia-nccl-cu12 (from xgboost)\n",
            "  Downloading nvidia_nccl_cu12-2.22.3-py3-none-manylinux2014_x86_64.whl (190.9 MB)\n",
            "\u001b[2K     \u001b[90m━━━━━━━━━━━━━━━━━━━━━━━━━━━━━━━━━━━━━━━━\u001b[0m \u001b[32m190.9/190.9 MB\u001b[0m \u001b[31m4.6 MB/s\u001b[0m eta \u001b[36m0:00:00\u001b[0m\n",
            "\u001b[?25hRequirement already satisfied: scipy in /usr/local/lib/python3.10/dist-packages (from xgboost) (1.11.4)\n",
            "Installing collected packages: nvidia-nccl-cu12, xgboost\n",
            "Successfully installed nvidia-nccl-cu12-2.22.3 xgboost-2.1.0\n"
          ]
        }
      ],
      "source": [
        "pip install xgboost"
      ]
    },
    {
      "cell_type": "code",
      "execution_count": null,
      "metadata": {
        "colab": {
          "base_uri": "https://localhost:8080/"
        },
        "id": "-2wuK74ThRBR",
        "outputId": "06e2c244-d2ac-450f-ce54-73c0bf193c43"
      },
      "outputs": [
        {
          "name": "stdout",
          "output_type": "stream",
          "text": [
            "X_train shape: (607761, 60, 62)\n",
            "X_test shape: (151941, 60, 62)\n",
            "y_train shape: (607761,)\n",
            "y_test shape: (151941,)\n"
          ]
        },
        {
          "name": "stderr",
          "output_type": "stream",
          "text": [
            "/usr/local/lib/python3.10/dist-packages/xgboost/core.py:158: UserWarning: [14:42:35] WARNING: /workspace/src/learner.cc:740: \n",
            "Parameters: { \"use_label_encoder\" } are not used.\n",
            "\n",
            "  warnings.warn(smsg, UserWarning)\n"
          ]
        },
        {
          "name": "stdout",
          "output_type": "stream",
          "text": [
            "Accuracy: 0.731\n",
            "Precision: 0.772\n",
            "Recall: 0.656\n",
            "F1 Score: 0.709\n"
          ]
        }
      ],
      "source": [
        "import xgboost as xgb\n",
        "\n",
        "# 학습 데이터와 테스트 데이터 분리\n",
        "X_train, X_test, y_train, y_test = train_test_split(X_sequences, y_sequences, test_size=0.2, random_state=42)\n",
        "\n",
        "print(\"X_train shape:\", X_train.shape)\n",
        "print(\"X_test shape:\", X_test.shape)\n",
        "print(\"y_train shape:\", y_train.shape)\n",
        "print(\"y_test shape:\", y_test.shape)\n",
        "\n",
        "# XGBoost 모델 정의\n",
        "xgb_model = xgb.XGBClassifier(n_estimators=100, learning_rate=0.05, max_depth=6, random_state=42, use_label_encoder=False, eval_metric='logloss')\n",
        "\n",
        "# 모델 학습\n",
        "xgb_model.fit(X_train.reshape(X_train.shape[0], -1), y_train)\n",
        "\n",
        "# 예측\n",
        "y_pred = xgb_model.predict(X_test.reshape(X_test.shape[0], -1))\n",
        "\n",
        "# 평가\n",
        "accuracy = accuracy_score(y_test, y_pred)\n",
        "precision = precision_score(y_test, y_pred, zero_division=1)\n",
        "recall = recall_score(y_test, y_pred)\n",
        "f1 = f1_score(y_test, y_pred)\n",
        "\n",
        "print(f\"Accuracy: {accuracy:.3f}\")\n",
        "print(f\"Precision: {precision:.3f}\")\n",
        "print(f\"Recall: {recall:.3f}\")\n",
        "print(f\"F1 Score: {f1:.3f}\")"
      ]
    },
    {
      "cell_type": "code",
      "source": [
        "# SHAP 값 계산 및 시각화\n",
        "explainer = shap.Explainer(xgb_model)\n",
        "shap_values = explainer(X_test.reshape(X_test.shape[0], -1))\n",
        "shap.summary_plot(shap_values, X_test.reshape(X_test.shape[0], -1), feature_names=X.columns)"
      ],
      "metadata": {
        "id": "w6-dzS-eO7Ee"
      },
      "execution_count": null,
      "outputs": []
    },
    {
      "cell_type": "markdown",
      "source": [
        "######################\n",
        "\n",
        "**catboost**\n",
        "######################"
      ],
      "metadata": {
        "id": "T4TgRCqLOE6t"
      }
    },
    {
      "cell_type": "code",
      "execution_count": null,
      "metadata": {
        "colab": {
          "base_uri": "https://localhost:8080/"
        },
        "id": "qylt-cAkSSmK",
        "outputId": "e3b38eeb-6a70-4001-8fa9-835691ed8846"
      },
      "outputs": [
        {
          "name": "stdout",
          "output_type": "stream",
          "text": [
            "Collecting catboost\n",
            "  Downloading catboost-1.2.5-cp310-cp310-manylinux2014_x86_64.whl (98.2 MB)\n",
            "\u001b[2K     \u001b[90m━━━━━━━━━━━━━━━━━━━━━━━━━━━━━━━━━━━━━━━━\u001b[0m \u001b[32m98.2/98.2 MB\u001b[0m \u001b[31m9.5 MB/s\u001b[0m eta \u001b[36m0:00:00\u001b[0m\n",
            "\u001b[?25hCollecting graphviz (from catboost)\n",
            "  Downloading graphviz-0.20.3-py3-none-any.whl (47 kB)\n",
            "\u001b[2K     \u001b[90m━━━━━━━━━━━━━━━━━━━━━━━━━━━━━━━━━━━━━━━━\u001b[0m \u001b[32m47.1/47.1 kB\u001b[0m \u001b[31m5.0 MB/s\u001b[0m eta \u001b[36m0:00:00\u001b[0m\n",
            "\u001b[?25hRequirement already satisfied: matplotlib in /usr/local/lib/python3.10/dist-packages (from catboost) (3.7.1)\n",
            "Requirement already satisfied: numpy>=1.16.0 in /usr/local/lib/python3.10/dist-packages (from catboost) (1.25.2)\n",
            "Requirement already satisfied: pandas>=0.24 in /usr/local/lib/python3.10/dist-packages (from catboost) (2.0.3)\n",
            "Requirement already satisfied: scipy in /usr/local/lib/python3.10/dist-packages (from catboost) (1.11.4)\n",
            "Requirement already satisfied: plotly in /usr/local/lib/python3.10/dist-packages (from catboost) (5.15.0)\n",
            "Requirement already satisfied: six in /usr/local/lib/python3.10/dist-packages (from catboost) (1.16.0)\n",
            "Requirement already satisfied: python-dateutil>=2.8.2 in /usr/local/lib/python3.10/dist-packages (from pandas>=0.24->catboost) (2.9.0.post0)\n",
            "Requirement already satisfied: pytz>=2020.1 in /usr/local/lib/python3.10/dist-packages (from pandas>=0.24->catboost) (2024.1)\n",
            "Requirement already satisfied: tzdata>=2022.1 in /usr/local/lib/python3.10/dist-packages (from pandas>=0.24->catboost) (2024.1)\n",
            "Requirement already satisfied: contourpy>=1.0.1 in /usr/local/lib/python3.10/dist-packages (from matplotlib->catboost) (1.2.1)\n",
            "Requirement already satisfied: cycler>=0.10 in /usr/local/lib/python3.10/dist-packages (from matplotlib->catboost) (0.12.1)\n",
            "Requirement already satisfied: fonttools>=4.22.0 in /usr/local/lib/python3.10/dist-packages (from matplotlib->catboost) (4.53.1)\n",
            "Requirement already satisfied: kiwisolver>=1.0.1 in /usr/local/lib/python3.10/dist-packages (from matplotlib->catboost) (1.4.5)\n",
            "Requirement already satisfied: packaging>=20.0 in /usr/local/lib/python3.10/dist-packages (from matplotlib->catboost) (24.1)\n",
            "Requirement already satisfied: pillow>=6.2.0 in /usr/local/lib/python3.10/dist-packages (from matplotlib->catboost) (10.4.0)\n",
            "Requirement already satisfied: pyparsing>=2.3.1 in /usr/local/lib/python3.10/dist-packages (from matplotlib->catboost) (3.1.2)\n",
            "Requirement already satisfied: tenacity>=6.2.0 in /usr/local/lib/python3.10/dist-packages (from plotly->catboost) (8.5.0)\n",
            "Installing collected packages: graphviz, catboost\n",
            "Successfully installed catboost-1.2.5 graphviz-0.20.3\n"
          ]
        }
      ],
      "source": [
        "pip install catboost"
      ]
    },
    {
      "cell_type": "code",
      "execution_count": null,
      "metadata": {
        "colab": {
          "base_uri": "https://localhost:8080/"
        },
        "id": "GhEEYi48jXkQ",
        "outputId": "ed76b00e-959c-4067-c99d-0e277c022295"
      },
      "outputs": [
        {
          "name": "stdout",
          "output_type": "stream",
          "text": [
            "X_train shape: (607761, 60, 62)\n",
            "X_test shape: (151941, 60, 62)\n",
            "y_train shape: (607761,)\n",
            "y_test shape: (151941,)\n",
            "Accuracy: 0.733\n",
            "Precision: 0.769\n",
            "Recall: 0.665\n",
            "F1 Score: 0.713\n"
          ]
        }
      ],
      "source": [
        "from catboost import CatBoostClassifier\n",
        "\n",
        "# 학습 데이터와 검증 데이터 분리\n",
        "X_train, X_test, y_train, y_test = train_test_split(X_sequences, y_sequences, test_size=0.2, random_state=42)\n",
        "\n",
        "print(\"X_train shape:\", X_train.shape)\n",
        "print(\"X_test shape:\", X_test.shape)\n",
        "print(\"y_train shape:\", y_train.shape)\n",
        "print(\"y_test shape:\", y_test.shape)\n",
        "\n",
        "# CatBoost 모델 정의\n",
        "cat_model = CatBoostClassifier(iterations=100, learning_rate=0.05, depth=6, random_seed=42, verbose=0)\n",
        "\n",
        "# 모델 학습\n",
        "cat_model.fit(X_train.reshape(X_train.shape[0], -1), y_train)\n",
        "\n",
        "# 예측\n",
        "y_pred = cat_model.predict(X_test.reshape(X_test.shape[0], -1))\n",
        "\n",
        "# 평가\n",
        "accuracy = accuracy_score(y_test, y_pred)\n",
        "precision = precision_score(y_test, y_pred, zero_division=1)\n",
        "recall = recall_score(y_test, y_pred)\n",
        "f1 = f1_score(y_test, y_pred)\n",
        "\n",
        "print(f\"Accuracy: {accuracy:.3f}\")\n",
        "print(f\"Precision: {precision:.3f}\")\n",
        "print(f\"Recall: {recall:.3f}\")\n",
        "print(f\"F1 Score: {f1:.3f}\")"
      ]
    },
    {
      "cell_type": "code",
      "source": [
        "# SHAP 값 계산 및 시각화\n",
        "explainer = shap.Explainer(cat_model)\n",
        "shap_values = explainer(X_test.reshape(X_test.shape[0], -1))\n",
        "shap.summary_plot(shap_values, X_test.reshape(X_test.shape[0], -1), feature_names=X.columns)"
      ],
      "metadata": {
        "id": "t0DAfLyqO1zx"
      },
      "execution_count": null,
      "outputs": []
    },
    {
      "cell_type": "markdown",
      "source": [
        "######################\n",
        "\n",
        "**lightgbm**\n",
        "######################"
      ],
      "metadata": {
        "id": "F7s6336MON-0"
      }
    },
    {
      "cell_type": "code",
      "execution_count": null,
      "metadata": {
        "colab": {
          "base_uri": "https://localhost:8080/"
        },
        "id": "30RmihEuMhBE",
        "outputId": "2111ecb5-0f75-4553-c800-6da100d4d308"
      },
      "outputs": [
        {
          "name": "stdout",
          "output_type": "stream",
          "text": [
            "Collecting lightgbm\n",
            "  Downloading lightgbm-4.4.0-py3-none-manylinux_2_28_x86_64.whl (3.6 MB)\n",
            "\u001b[2K     \u001b[90m━━━━━━━━━━━━━━━━━━━━━━━━━━━━━━━━━━━━━━━━\u001b[0m \u001b[32m3.6/3.6 MB\u001b[0m \u001b[31m13.9 MB/s\u001b[0m eta \u001b[36m0:00:00\u001b[0m\n",
            "\u001b[?25hRequirement already satisfied: numpy>=1.17.0 in /usr/local/lib/python3.10/dist-packages (from lightgbm) (1.25.2)\n",
            "Requirement already satisfied: scipy in /usr/local/lib/python3.10/dist-packages (from lightgbm) (1.11.4)\n",
            "Installing collected packages: lightgbm\n",
            "Successfully installed lightgbm-4.4.0\n"
          ]
        }
      ],
      "source": [
        "pip install lightgbm"
      ]
    },
    {
      "cell_type": "code",
      "execution_count": null,
      "metadata": {
        "colab": {
          "base_uri": "https://localhost:8080/"
        },
        "id": "bLuSXAMXjyhg",
        "outputId": "ee48fd7a-8381-4f06-ea4b-579c2cc047ab"
      },
      "outputs": [
        {
          "name": "stdout",
          "output_type": "stream",
          "text": [
            "X_train shape: (607761, 60, 62)\n",
            "X_test shape: (151941, 60, 62)\n",
            "y_train shape: (607761,)\n",
            "y_test shape: (151941,)\n",
            "Training until validation scores don't improve for 10 rounds\n",
            "Did not meet early stopping. Best iteration is:\n",
            "[100]\tvalid_0's binary_logloss: 0.49074\tvalid_0's auc: 0.820659\n",
            "Accuracy: 0.7378719371334926\n",
            "Precision: 0.7856690319310694\n",
            "Recall: 0.6535441370223979\n",
            "F1 Score: 0.7135418165079548\n"
          ]
        }
      ],
      "source": [
        "import lightgbm as lgb\n",
        "\n",
        "# 학습 데이터와 테스트 데이터 분리\n",
        "X_train, X_test, y_train, y_test = train_test_split(X_sequences, y_sequences, test_size=0.2, random_state=42)\n",
        "\n",
        "print(\"X_train shape:\", X_train.shape)\n",
        "print(\"X_test shape:\", X_test.shape)\n",
        "print(\"y_train shape:\", y_train.shape)\n",
        "print(\"y_test shape:\", y_test.shape)\n",
        "\n",
        "# LightGBM 데이터셋 생성\n",
        "lgb_train = lgb.Dataset(X_train.reshape(X_train.shape[0], -1), y_train, params={'max_bin': 255})\n",
        "lgb_eval = lgb.Dataset(X_test.reshape(X_test.shape[0], -1), y_test, reference=lgb_train, params={'max_bin': 255})\n",
        "\n",
        "# LightGBM 하이퍼파라미터 설정\n",
        "params = {\n",
        "    'task': 'train',\n",
        "    'boosting_type': 'gbdt',\n",
        "    'objective': 'binary',\n",
        "    'metric': {'binary_logloss', 'auc'},\n",
        "    'num_leaves': 31,\n",
        "    'learning_rate': 0.05,\n",
        "    'feature_fraction': 0.9,\n",
        "    'verbose': -1\n",
        "}\n",
        "\n",
        "# 모델 학습\n",
        "gbm = lgb.train(\n",
        "    params,\n",
        "    lgb_train,\n",
        "    num_boost_round=100,\n",
        "    valid_sets=lgb_eval,\n",
        "    callbacks=[lgb.early_stopping(stopping_rounds=10)]\n",
        ")\n",
        "\n",
        "# 예측\n",
        "y_pred_prob = gbm.predict(X_test.reshape(X_test.shape[0], -1), num_iteration=gbm.best_iteration)\n",
        "y_pred = (y_pred_prob > 0.5).astype(int)\n",
        "\n",
        "# 성능 평가\n",
        "accuracy = accuracy_score(y_test, y_pred)\n",
        "precision = precision_score(y_test, y_pred)\n",
        "recall = recall_score(y_test, y_pred)\n",
        "f1 = f1_score(y_test, y_pred)\n",
        "\n",
        "print(f'Accuracy: {accuracy}')\n",
        "print(f'Precision: {precision}')\n",
        "print(f'Recall: {recall}')\n",
        "print(f'F1 Score: {f1}')"
      ]
    },
    {
      "cell_type": "code",
      "source": [
        "# SHAP 값 계산 및 시각화\n",
        "explainer = shap.Explainer(gbm)\n",
        "shap_values = explainer(X_test.reshape(X_test.shape[0], -1))\n",
        "shap.summary_plot(shap_values, X_test.reshape(X_test.shape[0], -1), feature_names=X.columns)"
      ],
      "metadata": {
        "id": "jDE56-VcOvEV"
      },
      "execution_count": null,
      "outputs": []
    },
    {
      "cell_type": "markdown",
      "source": [
        "######################\n",
        "\n",
        "**RandomForestClassifier**\n",
        "######################"
      ],
      "metadata": {
        "id": "qBbWRs0bOITC"
      }
    },
    {
      "cell_type": "code",
      "execution_count": null,
      "metadata": {
        "colab": {
          "base_uri": "https://localhost:8080/"
        },
        "id": "3oLEPGsyjv8X",
        "outputId": "2c425eff-e59d-4a87-c5b5-5a1eab00c7e2"
      },
      "outputs": [
        {
          "name": "stdout",
          "output_type": "stream",
          "text": [
            "X_train shape: (607761, 60, 62)\n",
            "X_test shape: (151941, 60, 62)\n",
            "y_train shape: (607761,)\n",
            "y_test shape: (151941,)\n",
            "Random Forest - Accuracy: 0.947\n",
            "Random Forest - Precision: 0.966\n",
            "Random Forest - Recall: 0.927\n",
            "Random Forest - F1 Score: 0.946\n"
          ]
        }
      ],
      "source": [
        "from sklearn.ensemble import RandomForestClassifier\n",
        "\n",
        "# 학습 데이터와 검증 데이터 분리\n",
        "X_train, X_test, y_train, y_test = train_test_split(X_sequences, y_sequences, test_size=0.2, random_state=42)\n",
        "\n",
        "print(\"X_train shape:\", X_train.shape)\n",
        "print(\"X_test shape:\", X_test.shape)\n",
        "print(\"y_train shape:\", y_train.shape)\n",
        "print(\"y_test shape:\", y_test.shape)\n",
        "\n",
        "# Random Forest 모델 정의\n",
        "rf_model = RandomForestClassifier(n_estimators=100, random_state=42)\n",
        "\n",
        "# 모델 학습\n",
        "rf_model.fit(X_train.reshape(X_train.shape[0], -1), y_train)\n",
        "\n",
        "# 예측\n",
        "y_pred_rf = rf_model.predict(X_test.reshape(X_test.shape[0], -1))\n",
        "\n",
        "# 평가\n",
        "accuracy_rf = accuracy_score(y_test, y_pred_rf)\n",
        "precision_rf = precision_score(y_test, y_pred_rf, zero_division=1)\n",
        "recall_rf = recall_score(y_test, y_pred_rf)\n",
        "f1_rf = f1_score(y_test, y_pred_rf)\n",
        "\n",
        "print(f\"Random Forest - Accuracy: {accuracy_rf:.3f}\")\n",
        "print(f\"Random Forest - Precision: {precision_rf:.3f}\")\n",
        "print(f\"Random Forest - Recall: {recall_rf:.3f}\")\n",
        "print(f\"Random Forest - F1 Score: {f1_rf:.3f}\")"
      ]
    },
    {
      "cell_type": "code",
      "source": [
        "# SHAP 값 계산 및 시각화\n",
        "explainer = shap.Explainer(rf_model)\n",
        "shap_values = explainer(X_test.reshape(X_test.shape[0], -1))\n",
        "shap.summary_plot(shap_values, X_test.reshape(X_test.shape[0], -1), feature_names=X.columns)"
      ],
      "metadata": {
        "id": "a40_GaN1O0P8"
      },
      "execution_count": null,
      "outputs": []
    },
    {
      "cell_type": "markdown",
      "source": [
        "######################\n",
        "\n",
        "**GradientBoostingClassifier**\n",
        "######################"
      ],
      "metadata": {
        "id": "8N7ZHv3ROR_o"
      }
    },
    {
      "cell_type": "code",
      "execution_count": null,
      "metadata": {
        "id": "3i--2SREUdXn"
      },
      "outputs": [],
      "source": [
        "from sklearn.ensemble import GradientBoostingClassifier\n",
        "\n",
        "\n",
        "# 학습 데이터와 테스트 데이터 분리\n",
        "X_train, X_test, y_train, y_test = train_test_split(X_sequences, y_sequences, test_size=0.2, random_state=42)\n",
        "\n",
        "# Gradient Boosting 모델 정의\n",
        "gb_model = GradientBoostingClassifier(n_estimators=100, learning_rate=0.05, max_depth=6, random_state=42)\n",
        "\n",
        "# 모델 학습\n",
        "gb_model.fit(X_train.reshape(X_train.shape[0], -1), y_train)\n",
        "\n",
        "# 예측\n",
        "y_pred_gb = gb_model.predict(X_test.reshape(X_test.shape[0], -1))\n",
        "\n",
        "# 평가\n",
        "accuracy_gb = accuracy_score(y_test, y_pred_gb)\n",
        "precision_gb = precision_score(y_test, y_pred_gb, zero_division=1)\n",
        "recall_gb = recall_score(y_test, y_pred_gb)\n",
        "f1_gb = f1_score(y_test, y_pred_gb)\n",
        "\n",
        "print(f\"Gradient Boosting - Accuracy: {accuracy_gb:.3f}\")\n",
        "print(f\"Gradient Boosting - Precision: {precision_gb:.3f}\")\n",
        "print(f\"Gradient Boosting - Recall: {recall_gb:.3f}\")\n",
        "print(f\"Gradient Boosting - F1 Score: {f1_gb:.3f}\")"
      ]
    },
    {
      "cell_type": "code",
      "source": [
        "# SHAP 값 계산 및 시각화\n",
        "explainer = shap.Explainer(gb_model)\n",
        "shap_values = explainer(X_test.reshape(X_test.shape[0], -1))\n",
        "shap.summary_plot(shap_values, X_test.reshape(X_test.shape[0], -1), feature_names=X.columns)"
      ],
      "metadata": {
        "id": "-Py5fvotOsYo"
      },
      "execution_count": null,
      "outputs": []
    },
    {
      "cell_type": "markdown",
      "source": [
        "######################\n",
        "\n",
        "**AdaBoostClassifier**\n",
        "######################"
      ],
      "metadata": {
        "id": "RNATXgX1OULG"
      }
    },
    {
      "cell_type": "code",
      "execution_count": null,
      "metadata": {
        "id": "NHwxOKDDUs38"
      },
      "outputs": [],
      "source": [
        "from sklearn.ensemble import AdaBoostClassifier\n",
        "\n",
        "# 학습 데이터와 테스트 데이터 분리\n",
        "X_train, X_test, y_train, y_test = train_test_split(X_sequences, y_sequences, test_size=0.2, random_state=42)\n",
        "\n",
        "# AdaBoost 모델 정의\n",
        "ab_model = AdaBoostClassifier(n_estimators=100, learning_rate=0.05, random_state=42)\n",
        "\n",
        "# 모델 학습\n",
        "ab_model.fit(X_train.reshape(X_train.shape[0], -1), y_train)\n",
        "\n",
        "# 예측\n",
        "y_pred_ab = ab_model.predict(X_test.reshape(X_test.shape[0], -1))\n",
        "\n",
        "# 평가\n",
        "accuracy_ab = accuracy_score(y_test, y_pred_ab)\n",
        "precision_ab = precision_score(y_test, y_pred_ab, zero_division=1)\n",
        "recall_ab = recall_score(y_test, y_pred_ab)\n",
        "f1_ab = f1_score(y_test, y_pred_ab)\n",
        "\n",
        "print(f\"AdaBoost - Accuracy: {accuracy_ab:.3f}\")\n",
        "print(f\"AdaBoost - Precision: {precision_ab:.3f}\")\n",
        "print(f\"AdaBoost - Recall: {recall_ab:.3f}\")\n",
        "print(f\"AdaBoost - F1 Score: {f1_ab:.3f}\")"
      ]
    },
    {
      "cell_type": "code",
      "source": [
        "# SHAP 값 계산 및 시각화\n",
        "explainer = shap.Explainer(ab_model)\n",
        "shap_values = explainer(X_test.reshape(X_test.shape[0], -1))\n",
        "shap.summary_plot(shap_values, X_test.reshape(X_test.shape[0], -1), feature_names=X.columns)"
      ],
      "metadata": {
        "id": "95LFEssXOq4j"
      },
      "execution_count": null,
      "outputs": []
    },
    {
      "cell_type": "markdown",
      "source": [
        "######################\n",
        "\n",
        "**ExtraTreesClassifier**\n",
        "######################"
      ],
      "metadata": {
        "id": "kKHjkndIOWuj"
      }
    },
    {
      "cell_type": "code",
      "execution_count": null,
      "metadata": {
        "id": "dk19TGE-U3rN",
        "colab": {
          "base_uri": "https://localhost:8080/"
        },
        "outputId": "2aabf78d-bdd7-453d-8e17-3ec59824e152"
      },
      "outputs": [
        {
          "output_type": "stream",
          "name": "stdout",
          "text": [
            "Extra Trees - Accuracy: 0.958\n",
            "Extra Trees - Precision: 0.964\n",
            "Extra Trees - Recall: 0.952\n",
            "Extra Trees - F1 Score: 0.958\n"
          ]
        }
      ],
      "source": [
        "#신규 ExtraTreesClassifier 모델 학습 및 예측 및 결과 검증\n",
        "\n",
        "from sklearn.ensemble import ExtraTreesClassifier\n",
        "\n",
        "# 학습 데이터와 테스트 데이터 분리\n",
        "X_train, X_test, y_train, y_test = train_test_split(X_sequences, y_sequences, test_size=0.2, random_state=42)\n",
        "\n",
        "# Extra Trees 모델 정의\n",
        "et_model = ExtraTreesClassifier(n_estimators=100, random_state=42)\n",
        "\n",
        "# 모델 학습\n",
        "et_model.fit(X_train.reshape(X_train.shape[0], -1), y_train)\n",
        "\n",
        "# 예측\n",
        "y_pred_et = et_model.predict(X_test.reshape(X_test.shape[0], -1))\n",
        "\n",
        "# 평가\n",
        "accuracy_et = accuracy_score(y_test, y_pred_et)\n",
        "precision_et = precision_score(y_test, y_pred_et, zero_division=1)\n",
        "recall_et = recall_score(y_test, y_pred_et)\n",
        "f1_et = f1_score(y_test, y_pred_et)\n",
        "\n",
        "print(f\"Extra Trees - Accuracy: {accuracy_et:.3f}\")\n",
        "print(f\"Extra Trees - Precision: {precision_et:.3f}\")\n",
        "print(f\"Extra Trees - Recall: {recall_et:.3f}\")\n",
        "print(f\"Extra Trees - F1 Score: {f1_et:.3f}\")\n",
        "\n",
        "# 교차 검증 평가\n",
        "X_reshaped = X_train.reshape(X_train.shape[0], -1)\n",
        "accuracy_cv = cross_val_score(et_model, X_reshaped, y_train, cv=5, scoring='accuracy')\n",
        "precision_cv = cross_val_score(et_model, X_reshaped, y_train, cv=5, scoring='precision')\n",
        "recall_cv = cross_val_score(et_model, X_reshaped, y_train, cv=5, scoring='recall')\n",
        "f1_cv = cross_val_score(et_model, X_reshaped, y_train, cv=5, scoring='f1')\n",
        "\n",
        "print(f\"Cross-Validated Accuracy: {np.mean(accuracy_cv):.3f}\")\n",
        "print(f\"Cross-Validated Precision: {np.mean(precision_cv):.3f}\")\n",
        "print(f\"Cross-Validated Recall: {np.mean(recall_cv):.3f}\")\n",
        "print(f\"Cross-Validated F1 Score: {np.mean(f1_cv):.3f}\")"
      ]
    },
    {
      "cell_type": "code",
      "source": [
        "# ExtraTreesClassifier 모델 저장\n",
        "model_path = '/content/drive/MyDrive/Data/SO60_SMALL_ExtraTreesClassifier_model.joblib'\n",
        "joblib.dump(et_model, model_path)\n",
        "\n",
        "print(f\"Model saved to {model_path}\")"
      ],
      "metadata": {
        "colab": {
          "base_uri": "https://localhost:8080/"
        },
        "id": "0iXKoUeyYGT9",
        "outputId": "9a99a57d-a428-444e-e421-0187eef891b1"
      },
      "execution_count": null,
      "outputs": [
        {
          "output_type": "stream",
          "name": "stdout",
          "text": [
            "Model saved to /content/drive/MyDrive/Data/SO60_SMALL_ExtraTreesClassifier_model.joblib\n"
          ]
        }
      ]
    },
    {
      "cell_type": "code",
      "source": [
        "# ExtraTreesClassifier 모델 로딩\n",
        "model_path_load = '/content/drive/MyDrive/Data/SO60_SMALL_ExtraTreesClassifier_model.joblib'\n",
        "\n",
        "et_model = joblib.load(model_path_load)\n",
        "\n",
        "print(\"Model loaded successfully\")\n"
      ],
      "metadata": {
        "id": "Ed410WLg4ckB"
      },
      "execution_count": null,
      "outputs": []
    },
    {
      "cell_type": "code",
      "source": [
        "# 로드된 xtraTreesClassifier 모델 예측 및 결과 검증\n",
        "\n",
        "# 학습 데이터와 테스트 데이터 분리\n",
        "X_train, X_test, y_train, y_test = train_test_split(X_sequences, y_sequences, test_size=0.2, random_state=42)\n",
        "\n",
        "# 예측\n",
        "y_pred_et = et_model.predict(X_test.reshape(X_test.shape[0], -1))\n",
        "\n",
        "# 평가\n",
        "accuracy_et = accuracy_score(y_test, y_pred_et)\n",
        "precision_et = precision_score(y_test, y_pred_et, zero_division=1)\n",
        "recall_et = recall_score(y_test, y_pred_et)\n",
        "f1_et = f1_score(y_test, y_pred_et)\n",
        "\n",
        "print(f\"Extra Trees - Accuracy: {accuracy_et:.3f}\")\n",
        "print(f\"Extra Trees - Precision: {precision_et:.3f}\")\n",
        "print(f\"Extra Trees - Recall: {recall_et:.3f}\")\n",
        "print(f\"Extra Trees - F1 Score: {f1_et:.3f}\")\n",
        "\n",
        "# 교차 검증 평가\n",
        "X_reshaped = X_train.reshape(X_train.shape[0], -1)\n",
        "accuracy_cv = cross_val_score(et_model, X_reshaped, y_train, cv=5, scoring='accuracy')\n",
        "precision_cv = cross_val_score(et_model, X_reshaped, y_train, cv=5, scoring='precision')\n",
        "recall_cv = cross_val_score(et_model, X_reshaped, y_train, cv=5, scoring='recall')\n",
        "f1_cv = cross_val_score(et_model, X_reshaped, y_train, cv=5, scoring='f1')\n",
        "\n",
        "print(f\"Cross-Validated Accuracy: {np.mean(accuracy_cv):.3f}\")\n",
        "print(f\"Cross-Validated Precision: {np.mean(precision_cv):.3f}\")\n",
        "print(f\"Cross-Validated Recall: {np.mean(recall_cv):.3f}\")\n",
        "print(f\"Cross-Validated F1 Score: {np.mean(f1_cv):.3f}\")"
      ],
      "metadata": {
        "id": "r6uiOfEdhyUS"
      },
      "execution_count": null,
      "outputs": []
    },
    {
      "cell_type": "code",
      "source": [
        "# 학습 데이터와 테스트 데이터 분리\n",
        "X_train, X_test, y_train, y_test = train_test_split(X_sequences, y_sequences, test_size=0.2, random_state=42)\n",
        "\n",
        "# SHAP 값 계산 및 시각화\n",
        "explainer = shap.Explainer(et_model)\n",
        "shap_values = explainer(X_test.reshape(X_test.shape[0], -1))\n",
        "shap.summary_plot(shap_values, X_test.reshape(X_test.shape[0], -1), feature_names=X.columns)"
      ],
      "metadata": {
        "id": "uF4q6poVOozy"
      },
      "execution_count": null,
      "outputs": []
    },
    {
      "cell_type": "code",
      "source": [
        "#신규 데이터 예측\n",
        "\n",
        "# 예측 수행\n",
        "predictions = et_model.predict(df_new_data)\n",
        "\n",
        "# 예측 결과를 원래 데이터프레임에 추가\n",
        "df_new_data['predictions'] = predictions\n",
        "\n",
        "# 결과 출력\n",
        "print(df_new_data)"
      ],
      "metadata": {
        "id": "vWuAZU1JmAkQ"
      },
      "execution_count": null,
      "outputs": []
    },
    {
      "cell_type": "markdown",
      "source": [
        "######################\n",
        "\n",
        "**tensorflow**\n",
        "######################"
      ],
      "metadata": {
        "id": "XuL3grbiOYfw"
      }
    },
    {
      "cell_type": "code",
      "execution_count": null,
      "metadata": {
        "id": "rQILv_FoMBNf"
      },
      "outputs": [],
      "source": [
        "from tensorflow.keras.models import Sequential\n",
        "from tensorflow.keras.layers import Dense, Dropout, LSTM\n",
        "from tensorflow.keras.optimizers import Adam\n",
        "import tensorflow as tf\n",
        "\n",
        "# 학습 데이터와 검증 데이터 분리\n",
        "X_train, X_test, y_train, y_test = train_test_split(X_sequences, y_sequences, test_size=0.2, random_state=42)\n",
        "\n",
        "print(\"X_train shape:\", X_train.shape)\n",
        "print(\"X_test shape:\", X_test.shape)\n",
        "print(\"y_train shape:\", y_train.shape)\n",
        "print(\"y_test shape:\", y_test.shape)\n",
        "\n",
        "# DNN 모델 정의\n",
        "model = Sequential()\n",
        "model.add(LSTM(64, input_shape=(X_train.shape[1], X_train.shape[2]), activation='relu'))\n",
        "model.add(Dropout(0.5))\n",
        "model.add(Dense(32, activation='relu'))\n",
        "model.add(Dropout(0.5))\n",
        "model.add(Dense(1, activation='sigmoid'))\n",
        "\n",
        "# 모델 컴파일\n",
        "model.compile(optimizer=Adam(learning_rate=0.001), loss='binary_crossentropy', metrics=['accuracy'])\n",
        "\n",
        "# 모델 학습\n",
        "model.fit(X_train, y_train, epochs=50, batch_size=32, validation_data=(X_test, y_test))\n",
        "\n",
        "# 모델 평가\n",
        "loss, accuracy = model.evaluate(X_test, y_test)\n",
        "print(f\"Test accuracy: {accuracy}\")\n",
        "\n",
        "# 모델 저장\n",
        "model.save('dnn_model.h5')\n",
        "\n",
        "# 모델 로드\n",
        "loaded_model = tf.keras.models.load_model('dnn_model.h5')\n",
        "\n",
        "# 로드된 모델로 예측\n",
        "y_pred_loaded = (loaded_model.predict(X_test) > 0.5).astype(\"int32\")\n",
        "\n",
        "# 로드된 모델 평가\n",
        "from sklearn.metrics import accuracy_score, precision_score, recall_score, f1_score\n",
        "\n",
        "accuracy_loaded = accuracy_score(y_test, y_pred_loaded)\n",
        "precision_loaded = precision_score(y_test, y_pred_loaded)\n",
        "recall_loaded = recall_score(y_test, y_pred_loaded)\n",
        "f1_loaded = f1_score(y_test, y_pred_loaded)\n",
        "\n",
        "print(f\"Loaded DNN - Accuracy: {accuracy_loaded:.3f}\")\n",
        "print(f\"Loaded DNN - Precision: {precision_loaded:.3f}\")\n",
        "print(f\"Loaded DNN - Recall: {recall_loaded:.3f}\")\n",
        "print(f\"Loaded DNN - F1 Score: {f1_loaded:.3f}\")"
      ]
    },
    {
      "cell_type": "code",
      "execution_count": null,
      "metadata": {
        "id": "-3_rhiydoYk5"
      },
      "outputs": [],
      "source": [
        "# SHAP 값 계산 및 시각화\n",
        "explainer = shap.Explainer(model)\n",
        "shap_values = explainer(X_test.reshape(X_test.shape[0], -1))\n",
        "shap.summary_plot(shap_values, X_test.reshape(X_test.shape[0], -1), feature_names=X.columns)"
      ]
    }
  ],
  "metadata": {
    "colab": {
      "provenance": [],
      "gpuType": "V28"
    },
    "kernelspec": {
      "display_name": "Python 3",
      "name": "python3"
    },
    "language_info": {
      "name": "python"
    },
    "accelerator": "TPU"
  },
  "nbformat": 4,
  "nbformat_minor": 0
}