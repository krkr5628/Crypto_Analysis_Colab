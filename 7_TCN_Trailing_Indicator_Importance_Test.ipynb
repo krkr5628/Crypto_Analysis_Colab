{
  "nbformat": 4,
  "nbformat_minor": 0,
  "metadata": {
    "colab": {
      "provenance": [],
      "authorship_tag": "ABX9TyNyyZi1hQQfXKAMFSiIQSoO"
    },
    "kernelspec": {
      "name": "python3",
      "display_name": "Python 3"
    },
    "language_info": {
      "name": "python"
    }
  },
  "cells": [
    {
      "cell_type": "code",
      "source": [
        "pip install joblib"
      ],
      "metadata": {
        "id": "WvQ75ycqfGJt",
        "colab": {
          "base_uri": "https://localhost:8080/"
        },
        "outputId": "957be51e-9749-43ae-ecfd-6ed0baf6c525"
      },
      "execution_count": 1,
      "outputs": [
        {
          "output_type": "stream",
          "name": "stdout",
          "text": [
            "Requirement already satisfied: joblib in /usr/local/lib/python3.10/dist-packages (1.4.2)\n"
          ]
        }
      ]
    },
    {
      "cell_type": "code",
      "execution_count": 2,
      "metadata": {
        "id": "bJpt_Yo-cvnu",
        "colab": {
          "base_uri": "https://localhost:8080/"
        },
        "outputId": "c595845b-1990-440f-a66a-8965be9bb6ea"
      },
      "outputs": [
        {
          "output_type": "stream",
          "name": "stdout",
          "text": [
            "Collecting tdqm\n",
            "  Downloading tdqm-0.0.1.tar.gz (1.4 kB)\n",
            "  Preparing metadata (setup.py) ... \u001b[?25l\u001b[?25hdone\n",
            "Requirement already satisfied: tqdm in /usr/local/lib/python3.10/dist-packages (from tdqm) (4.66.5)\n",
            "Building wheels for collected packages: tdqm\n",
            "  Building wheel for tdqm (setup.py) ... \u001b[?25l\u001b[?25hdone\n",
            "  Created wheel for tdqm: filename=tdqm-0.0.1-py3-none-any.whl size=1321 sha256=efc2d80c57275f2742a33b19b5a5435491c2264ebec38da581acbacb3edff914\n",
            "  Stored in directory: /root/.cache/pip/wheels/37/31/b8/7b711038035720ba0df14376af06e5e76b9bd61759c861ad92\n",
            "Successfully built tdqm\n",
            "Installing collected packages: tdqm\n",
            "Successfully installed tdqm-0.0.1\n"
          ]
        }
      ],
      "source": [
        "pip install tdqm"
      ]
    },
    {
      "cell_type": "code",
      "source": [
        "pip install ipywidgets"
      ],
      "metadata": {
        "id": "0nJWP5tUDKrl",
        "colab": {
          "base_uri": "https://localhost:8080/"
        },
        "outputId": "c94c51dc-03f9-4bc6-fc0f-1cb52a55bc56"
      },
      "execution_count": 3,
      "outputs": [
        {
          "output_type": "stream",
          "name": "stdout",
          "text": [
            "Requirement already satisfied: ipywidgets in /usr/local/lib/python3.10/dist-packages (7.7.1)\n",
            "Requirement already satisfied: ipykernel>=4.5.1 in /usr/local/lib/python3.10/dist-packages (from ipywidgets) (5.5.6)\n",
            "Requirement already satisfied: ipython-genutils~=0.2.0 in /usr/local/lib/python3.10/dist-packages (from ipywidgets) (0.2.0)\n",
            "Requirement already satisfied: traitlets>=4.3.1 in /usr/local/lib/python3.10/dist-packages (from ipywidgets) (5.7.1)\n",
            "Requirement already satisfied: widgetsnbextension~=3.6.0 in /usr/local/lib/python3.10/dist-packages (from ipywidgets) (3.6.8)\n",
            "Requirement already satisfied: ipython>=4.0.0 in /usr/local/lib/python3.10/dist-packages (from ipywidgets) (7.34.0)\n",
            "Requirement already satisfied: jupyterlab-widgets>=1.0.0 in /usr/local/lib/python3.10/dist-packages (from ipywidgets) (3.0.11)\n",
            "Requirement already satisfied: jupyter-client in /usr/local/lib/python3.10/dist-packages (from ipykernel>=4.5.1->ipywidgets) (6.1.12)\n",
            "Requirement already satisfied: tornado>=4.2 in /usr/local/lib/python3.10/dist-packages (from ipykernel>=4.5.1->ipywidgets) (6.3.3)\n",
            "Requirement already satisfied: setuptools>=18.5 in /usr/local/lib/python3.10/dist-packages (from ipython>=4.0.0->ipywidgets) (71.0.4)\n",
            "Collecting jedi>=0.16 (from ipython>=4.0.0->ipywidgets)\n",
            "  Using cached jedi-0.19.1-py2.py3-none-any.whl.metadata (22 kB)\n",
            "Requirement already satisfied: decorator in /usr/local/lib/python3.10/dist-packages (from ipython>=4.0.0->ipywidgets) (4.4.2)\n",
            "Requirement already satisfied: pickleshare in /usr/local/lib/python3.10/dist-packages (from ipython>=4.0.0->ipywidgets) (0.7.5)\n",
            "Requirement already satisfied: prompt-toolkit!=3.0.0,!=3.0.1,<3.1.0,>=2.0.0 in /usr/local/lib/python3.10/dist-packages (from ipython>=4.0.0->ipywidgets) (3.0.47)\n",
            "Requirement already satisfied: pygments in /usr/local/lib/python3.10/dist-packages (from ipython>=4.0.0->ipywidgets) (2.16.1)\n",
            "Requirement already satisfied: backcall in /usr/local/lib/python3.10/dist-packages (from ipython>=4.0.0->ipywidgets) (0.2.0)\n",
            "Requirement already satisfied: matplotlib-inline in /usr/local/lib/python3.10/dist-packages (from ipython>=4.0.0->ipywidgets) (0.1.7)\n",
            "Requirement already satisfied: pexpect>4.3 in /usr/local/lib/python3.10/dist-packages (from ipython>=4.0.0->ipywidgets) (4.9.0)\n",
            "Requirement already satisfied: notebook>=4.4.1 in /usr/local/lib/python3.10/dist-packages (from widgetsnbextension~=3.6.0->ipywidgets) (6.5.5)\n",
            "Requirement already satisfied: parso<0.9.0,>=0.8.3 in /usr/local/lib/python3.10/dist-packages (from jedi>=0.16->ipython>=4.0.0->ipywidgets) (0.8.4)\n",
            "Requirement already satisfied: jinja2 in /usr/local/lib/python3.10/dist-packages (from notebook>=4.4.1->widgetsnbextension~=3.6.0->ipywidgets) (3.1.4)\n",
            "Requirement already satisfied: pyzmq<25,>=17 in /usr/local/lib/python3.10/dist-packages (from notebook>=4.4.1->widgetsnbextension~=3.6.0->ipywidgets) (24.0.1)\n",
            "Requirement already satisfied: argon2-cffi in /usr/local/lib/python3.10/dist-packages (from notebook>=4.4.1->widgetsnbextension~=3.6.0->ipywidgets) (23.1.0)\n",
            "Requirement already satisfied: jupyter-core>=4.6.1 in /usr/local/lib/python3.10/dist-packages (from notebook>=4.4.1->widgetsnbextension~=3.6.0->ipywidgets) (5.7.2)\n",
            "Requirement already satisfied: nbformat in /usr/local/lib/python3.10/dist-packages (from notebook>=4.4.1->widgetsnbextension~=3.6.0->ipywidgets) (5.10.4)\n",
            "Requirement already satisfied: nbconvert>=5 in /usr/local/lib/python3.10/dist-packages (from notebook>=4.4.1->widgetsnbextension~=3.6.0->ipywidgets) (6.5.4)\n",
            "Requirement already satisfied: nest-asyncio>=1.5 in /usr/local/lib/python3.10/dist-packages (from notebook>=4.4.1->widgetsnbextension~=3.6.0->ipywidgets) (1.6.0)\n",
            "Requirement already satisfied: Send2Trash>=1.8.0 in /usr/local/lib/python3.10/dist-packages (from notebook>=4.4.1->widgetsnbextension~=3.6.0->ipywidgets) (1.8.3)\n",
            "Requirement already satisfied: terminado>=0.8.3 in /usr/local/lib/python3.10/dist-packages (from notebook>=4.4.1->widgetsnbextension~=3.6.0->ipywidgets) (0.18.1)\n",
            "Requirement already satisfied: prometheus-client in /usr/local/lib/python3.10/dist-packages (from notebook>=4.4.1->widgetsnbextension~=3.6.0->ipywidgets) (0.20.0)\n",
            "Requirement already satisfied: nbclassic>=0.4.7 in /usr/local/lib/python3.10/dist-packages (from notebook>=4.4.1->widgetsnbextension~=3.6.0->ipywidgets) (1.1.0)\n",
            "Requirement already satisfied: python-dateutil>=2.1 in /usr/local/lib/python3.10/dist-packages (from jupyter-client->ipykernel>=4.5.1->ipywidgets) (2.8.2)\n",
            "Requirement already satisfied: ptyprocess>=0.5 in /usr/local/lib/python3.10/dist-packages (from pexpect>4.3->ipython>=4.0.0->ipywidgets) (0.7.0)\n",
            "Requirement already satisfied: wcwidth in /usr/local/lib/python3.10/dist-packages (from prompt-toolkit!=3.0.0,!=3.0.1,<3.1.0,>=2.0.0->ipython>=4.0.0->ipywidgets) (0.2.13)\n",
            "Requirement already satisfied: platformdirs>=2.5 in /usr/local/lib/python3.10/dist-packages (from jupyter-core>=4.6.1->notebook>=4.4.1->widgetsnbextension~=3.6.0->ipywidgets) (4.2.2)\n",
            "Requirement already satisfied: notebook-shim>=0.2.3 in /usr/local/lib/python3.10/dist-packages (from nbclassic>=0.4.7->notebook>=4.4.1->widgetsnbextension~=3.6.0->ipywidgets) (0.2.4)\n",
            "Requirement already satisfied: lxml in /usr/local/lib/python3.10/dist-packages (from nbconvert>=5->notebook>=4.4.1->widgetsnbextension~=3.6.0->ipywidgets) (4.9.4)\n",
            "Requirement already satisfied: beautifulsoup4 in /usr/local/lib/python3.10/dist-packages (from nbconvert>=5->notebook>=4.4.1->widgetsnbextension~=3.6.0->ipywidgets) (4.12.3)\n",
            "Requirement already satisfied: bleach in /usr/local/lib/python3.10/dist-packages (from nbconvert>=5->notebook>=4.4.1->widgetsnbextension~=3.6.0->ipywidgets) (6.1.0)\n",
            "Requirement already satisfied: defusedxml in /usr/local/lib/python3.10/dist-packages (from nbconvert>=5->notebook>=4.4.1->widgetsnbextension~=3.6.0->ipywidgets) (0.7.1)\n",
            "Requirement already satisfied: entrypoints>=0.2.2 in /usr/local/lib/python3.10/dist-packages (from nbconvert>=5->notebook>=4.4.1->widgetsnbextension~=3.6.0->ipywidgets) (0.4)\n",
            "Requirement already satisfied: jupyterlab-pygments in /usr/local/lib/python3.10/dist-packages (from nbconvert>=5->notebook>=4.4.1->widgetsnbextension~=3.6.0->ipywidgets) (0.3.0)\n",
            "Requirement already satisfied: MarkupSafe>=2.0 in /usr/local/lib/python3.10/dist-packages (from nbconvert>=5->notebook>=4.4.1->widgetsnbextension~=3.6.0->ipywidgets) (2.1.5)\n",
            "Requirement already satisfied: mistune<2,>=0.8.1 in /usr/local/lib/python3.10/dist-packages (from nbconvert>=5->notebook>=4.4.1->widgetsnbextension~=3.6.0->ipywidgets) (0.8.4)\n",
            "Requirement already satisfied: nbclient>=0.5.0 in /usr/local/lib/python3.10/dist-packages (from nbconvert>=5->notebook>=4.4.1->widgetsnbextension~=3.6.0->ipywidgets) (0.10.0)\n",
            "Requirement already satisfied: packaging in /usr/local/lib/python3.10/dist-packages (from nbconvert>=5->notebook>=4.4.1->widgetsnbextension~=3.6.0->ipywidgets) (24.1)\n",
            "Requirement already satisfied: pandocfilters>=1.4.1 in /usr/local/lib/python3.10/dist-packages (from nbconvert>=5->notebook>=4.4.1->widgetsnbextension~=3.6.0->ipywidgets) (1.5.1)\n",
            "Requirement already satisfied: tinycss2 in /usr/local/lib/python3.10/dist-packages (from nbconvert>=5->notebook>=4.4.1->widgetsnbextension~=3.6.0->ipywidgets) (1.3.0)\n",
            "Requirement already satisfied: fastjsonschema>=2.15 in /usr/local/lib/python3.10/dist-packages (from nbformat->notebook>=4.4.1->widgetsnbextension~=3.6.0->ipywidgets) (2.20.0)\n",
            "Requirement already satisfied: jsonschema>=2.6 in /usr/local/lib/python3.10/dist-packages (from nbformat->notebook>=4.4.1->widgetsnbextension~=3.6.0->ipywidgets) (4.23.0)\n",
            "Requirement already satisfied: six>=1.5 in /usr/local/lib/python3.10/dist-packages (from python-dateutil>=2.1->jupyter-client->ipykernel>=4.5.1->ipywidgets) (1.16.0)\n",
            "Requirement already satisfied: argon2-cffi-bindings in /usr/local/lib/python3.10/dist-packages (from argon2-cffi->notebook>=4.4.1->widgetsnbextension~=3.6.0->ipywidgets) (21.2.0)\n",
            "Requirement already satisfied: attrs>=22.2.0 in /usr/local/lib/python3.10/dist-packages (from jsonschema>=2.6->nbformat->notebook>=4.4.1->widgetsnbextension~=3.6.0->ipywidgets) (24.2.0)\n",
            "Requirement already satisfied: jsonschema-specifications>=2023.03.6 in /usr/local/lib/python3.10/dist-packages (from jsonschema>=2.6->nbformat->notebook>=4.4.1->widgetsnbextension~=3.6.0->ipywidgets) (2023.12.1)\n",
            "Requirement already satisfied: referencing>=0.28.4 in /usr/local/lib/python3.10/dist-packages (from jsonschema>=2.6->nbformat->notebook>=4.4.1->widgetsnbextension~=3.6.0->ipywidgets) (0.35.1)\n",
            "Requirement already satisfied: rpds-py>=0.7.1 in /usr/local/lib/python3.10/dist-packages (from jsonschema>=2.6->nbformat->notebook>=4.4.1->widgetsnbextension~=3.6.0->ipywidgets) (0.20.0)\n",
            "Requirement already satisfied: jupyter-server<3,>=1.8 in /usr/local/lib/python3.10/dist-packages (from notebook-shim>=0.2.3->nbclassic>=0.4.7->notebook>=4.4.1->widgetsnbextension~=3.6.0->ipywidgets) (1.24.0)\n",
            "Requirement already satisfied: cffi>=1.0.1 in /usr/local/lib/python3.10/dist-packages (from argon2-cffi-bindings->argon2-cffi->notebook>=4.4.1->widgetsnbextension~=3.6.0->ipywidgets) (1.17.0)\n",
            "Requirement already satisfied: soupsieve>1.2 in /usr/local/lib/python3.10/dist-packages (from beautifulsoup4->nbconvert>=5->notebook>=4.4.1->widgetsnbextension~=3.6.0->ipywidgets) (2.6)\n",
            "Requirement already satisfied: webencodings in /usr/local/lib/python3.10/dist-packages (from bleach->nbconvert>=5->notebook>=4.4.1->widgetsnbextension~=3.6.0->ipywidgets) (0.5.1)\n",
            "Requirement already satisfied: pycparser in /usr/local/lib/python3.10/dist-packages (from cffi>=1.0.1->argon2-cffi-bindings->argon2-cffi->notebook>=4.4.1->widgetsnbextension~=3.6.0->ipywidgets) (2.22)\n",
            "Requirement already satisfied: anyio<4,>=3.1.0 in /usr/local/lib/python3.10/dist-packages (from jupyter-server<3,>=1.8->notebook-shim>=0.2.3->nbclassic>=0.4.7->notebook>=4.4.1->widgetsnbextension~=3.6.0->ipywidgets) (3.7.1)\n",
            "Requirement already satisfied: websocket-client in /usr/local/lib/python3.10/dist-packages (from jupyter-server<3,>=1.8->notebook-shim>=0.2.3->nbclassic>=0.4.7->notebook>=4.4.1->widgetsnbextension~=3.6.0->ipywidgets) (1.8.0)\n",
            "Requirement already satisfied: idna>=2.8 in /usr/local/lib/python3.10/dist-packages (from anyio<4,>=3.1.0->jupyter-server<3,>=1.8->notebook-shim>=0.2.3->nbclassic>=0.4.7->notebook>=4.4.1->widgetsnbextension~=3.6.0->ipywidgets) (3.7)\n",
            "Requirement already satisfied: sniffio>=1.1 in /usr/local/lib/python3.10/dist-packages (from anyio<4,>=3.1.0->jupyter-server<3,>=1.8->notebook-shim>=0.2.3->nbclassic>=0.4.7->notebook>=4.4.1->widgetsnbextension~=3.6.0->ipywidgets) (1.3.1)\n",
            "Requirement already satisfied: exceptiongroup in /usr/local/lib/python3.10/dist-packages (from anyio<4,>=3.1.0->jupyter-server<3,>=1.8->notebook-shim>=0.2.3->nbclassic>=0.4.7->notebook>=4.4.1->widgetsnbextension~=3.6.0->ipywidgets) (1.2.2)\n",
            "Using cached jedi-0.19.1-py2.py3-none-any.whl (1.6 MB)\n",
            "Installing collected packages: jedi\n",
            "Successfully installed jedi-0.19.1\n"
          ]
        }
      ]
    },
    {
      "cell_type": "code",
      "source": [
        "import numpy as np\n",
        "import pandas as pd\n",
        "import joblib\n",
        "from tqdm import tqdm\n",
        "\n",
        "# TensorFlow 및 TPU 설정\n",
        "import tensorflow as tf\n",
        "from tensorflow.keras.models import Sequential\n",
        "from tensorflow.keras.callbacks import EarlyStopping, ReduceLROnPlateau\n",
        "\n",
        "from sklearn.preprocessing import MinMaxScaler, StandardScaler\n",
        "from sklearn.metrics import accuracy_score, precision_score, recall_score, f1_score\n",
        "from sklearn.model_selection import train_test_split, cross_val_score\n",
        "from sklearn.impute import SimpleImputer\n",
        "\n",
        "import torch\n",
        "import torch.nn as nn\n",
        "import torch.optim as optim\n",
        "from torch.utils.data import DataLoader, TensorDataset"
      ],
      "metadata": {
        "id": "lwRdx7OpfHYN"
      },
      "execution_count": 4,
      "outputs": []
    },
    {
      "cell_type": "code",
      "source": [
        "from google.colab import drive\n",
        "drive.mount('/content/drive')"
      ],
      "metadata": {
        "id": "Wy00fePumIYD",
        "colab": {
          "base_uri": "https://localhost:8080/"
        },
        "outputId": "643269bc-3ef5-4f09-9984-b6db336f8c82"
      },
      "execution_count": 5,
      "outputs": [
        {
          "output_type": "stream",
          "name": "stdout",
          "text": [
            "Mounted at /content/drive\n"
          ]
        }
      ]
    },
    {
      "cell_type": "code",
      "source": [
        "# TCN 모델 정의\n",
        "class TCNModel(nn.Module):\n",
        "    def __init__(self, input_size, num_channels, kernel_size=2, dropout=0.2):\n",
        "        super(TCNModel, self).__init__()\n",
        "        self.tcn = nn.Conv1d(input_size, num_channels, kernel_size, padding=kernel_size//2)\n",
        "        self.relu = nn.ReLU()\n",
        "        self.dropout = nn.Dropout(dropout)\n",
        "        self.fc = nn.Linear(num_channels, 1)\n",
        "\n",
        "    def forward(self, x):\n",
        "        x = x.transpose(1, 2)  # (batch_size, seq_len, input_size) -> (batch_size, input_size, seq_len)\n",
        "        y1 = self.tcn(x)\n",
        "        y1 = self.relu(y1)\n",
        "        y1 = self.dropout(y1)\n",
        "        y1 = y1[:, :, -1]\n",
        "        o = self.fc(y1)\n",
        "        return o"
      ],
      "metadata": {
        "id": "sDKK_avr0cR1"
      },
      "execution_count": 6,
      "outputs": []
    },
    {
      "cell_type": "code",
      "source": [
        "#1.1 1분 6개\n",
        "#Main\n",
        "file_path1 = '/content/drive/MyDrive/Data/SOL_Data_1m_Micro_Indicator3.csv'\n",
        "data = pd.read_csv(file_path1)\n",
        "\n",
        "# Display the first few rows of the dataset to ensure it is loaded correctly\n",
        "data.head()"
      ],
      "metadata": {
        "id": "qw845_D2l_-E",
        "colab": {
          "base_uri": "https://localhost:8080/",
          "height": 343
        },
        "outputId": "e686a808-6039-47a3-e5f5-749384b8bcde"
      },
      "execution_count": 7,
      "outputs": [
        {
          "output_type": "execute_result",
          "data": {
            "text/plain": [
              "             open_time   open   high    low  close  volume   time  atr_5  \\\n",
              "0  2022-10-07 22:34:00  33.01  33.02  32.99  32.99  486.07  22:34  0.000   \n",
              "1  2022-10-07 22:35:00  33.00  33.01  32.99  33.00  669.03  22:35  0.000   \n",
              "2  2022-10-07 22:36:00  33.01  33.01  32.99  32.99  590.80  22:36  0.000   \n",
              "3  2022-10-07 22:37:00  33.00  33.01  33.00  33.00  342.56  22:37  0.000   \n",
              "4  2022-10-07 22:38:00  33.00  33.01  32.99  33.00  492.33  22:38  0.022   \n",
              "\n",
              "   atr_10  atr_14  ...  price_ma_10  volume_ma_10  price_ma_20  volume_ma_20  \\\n",
              "0     0.0     0.0  ...          NaN           NaN          NaN           NaN   \n",
              "1     0.0     0.0  ...          NaN           NaN          NaN           NaN   \n",
              "2     0.0     0.0  ...          NaN           NaN          NaN           NaN   \n",
              "3     0.0     0.0  ...          NaN           NaN          NaN           NaN   \n",
              "4     0.0     0.0  ...          NaN           NaN          NaN           NaN   \n",
              "\n",
              "   price_ma_50  volume_ma_50  price_ma_100  volume_ma_100  price_ma_200  \\\n",
              "0          NaN           NaN           NaN            NaN           NaN   \n",
              "1          NaN           NaN           NaN            NaN           NaN   \n",
              "2          NaN           NaN           NaN            NaN           NaN   \n",
              "3          NaN           NaN           NaN            NaN           NaN   \n",
              "4          NaN           NaN           NaN            NaN           NaN   \n",
              "\n",
              "   volume_ma_200  \n",
              "0            NaN  \n",
              "1            NaN  \n",
              "2            NaN  \n",
              "3            NaN  \n",
              "4            NaN  \n",
              "\n",
              "[5 rows x 139 columns]"
            ],
            "text/html": [
              "\n",
              "  <div id=\"df-2870c464-0472-4b50-9ff6-3b7bb6853991\" class=\"colab-df-container\">\n",
              "    <div>\n",
              "<style scoped>\n",
              "    .dataframe tbody tr th:only-of-type {\n",
              "        vertical-align: middle;\n",
              "    }\n",
              "\n",
              "    .dataframe tbody tr th {\n",
              "        vertical-align: top;\n",
              "    }\n",
              "\n",
              "    .dataframe thead th {\n",
              "        text-align: right;\n",
              "    }\n",
              "</style>\n",
              "<table border=\"1\" class=\"dataframe\">\n",
              "  <thead>\n",
              "    <tr style=\"text-align: right;\">\n",
              "      <th></th>\n",
              "      <th>open_time</th>\n",
              "      <th>open</th>\n",
              "      <th>high</th>\n",
              "      <th>low</th>\n",
              "      <th>close</th>\n",
              "      <th>volume</th>\n",
              "      <th>time</th>\n",
              "      <th>atr_5</th>\n",
              "      <th>atr_10</th>\n",
              "      <th>atr_14</th>\n",
              "      <th>...</th>\n",
              "      <th>price_ma_10</th>\n",
              "      <th>volume_ma_10</th>\n",
              "      <th>price_ma_20</th>\n",
              "      <th>volume_ma_20</th>\n",
              "      <th>price_ma_50</th>\n",
              "      <th>volume_ma_50</th>\n",
              "      <th>price_ma_100</th>\n",
              "      <th>volume_ma_100</th>\n",
              "      <th>price_ma_200</th>\n",
              "      <th>volume_ma_200</th>\n",
              "    </tr>\n",
              "  </thead>\n",
              "  <tbody>\n",
              "    <tr>\n",
              "      <th>0</th>\n",
              "      <td>2022-10-07 22:34:00</td>\n",
              "      <td>33.01</td>\n",
              "      <td>33.02</td>\n",
              "      <td>32.99</td>\n",
              "      <td>32.99</td>\n",
              "      <td>486.07</td>\n",
              "      <td>22:34</td>\n",
              "      <td>0.000</td>\n",
              "      <td>0.0</td>\n",
              "      <td>0.0</td>\n",
              "      <td>...</td>\n",
              "      <td>NaN</td>\n",
              "      <td>NaN</td>\n",
              "      <td>NaN</td>\n",
              "      <td>NaN</td>\n",
              "      <td>NaN</td>\n",
              "      <td>NaN</td>\n",
              "      <td>NaN</td>\n",
              "      <td>NaN</td>\n",
              "      <td>NaN</td>\n",
              "      <td>NaN</td>\n",
              "    </tr>\n",
              "    <tr>\n",
              "      <th>1</th>\n",
              "      <td>2022-10-07 22:35:00</td>\n",
              "      <td>33.00</td>\n",
              "      <td>33.01</td>\n",
              "      <td>32.99</td>\n",
              "      <td>33.00</td>\n",
              "      <td>669.03</td>\n",
              "      <td>22:35</td>\n",
              "      <td>0.000</td>\n",
              "      <td>0.0</td>\n",
              "      <td>0.0</td>\n",
              "      <td>...</td>\n",
              "      <td>NaN</td>\n",
              "      <td>NaN</td>\n",
              "      <td>NaN</td>\n",
              "      <td>NaN</td>\n",
              "      <td>NaN</td>\n",
              "      <td>NaN</td>\n",
              "      <td>NaN</td>\n",
              "      <td>NaN</td>\n",
              "      <td>NaN</td>\n",
              "      <td>NaN</td>\n",
              "    </tr>\n",
              "    <tr>\n",
              "      <th>2</th>\n",
              "      <td>2022-10-07 22:36:00</td>\n",
              "      <td>33.01</td>\n",
              "      <td>33.01</td>\n",
              "      <td>32.99</td>\n",
              "      <td>32.99</td>\n",
              "      <td>590.80</td>\n",
              "      <td>22:36</td>\n",
              "      <td>0.000</td>\n",
              "      <td>0.0</td>\n",
              "      <td>0.0</td>\n",
              "      <td>...</td>\n",
              "      <td>NaN</td>\n",
              "      <td>NaN</td>\n",
              "      <td>NaN</td>\n",
              "      <td>NaN</td>\n",
              "      <td>NaN</td>\n",
              "      <td>NaN</td>\n",
              "      <td>NaN</td>\n",
              "      <td>NaN</td>\n",
              "      <td>NaN</td>\n",
              "      <td>NaN</td>\n",
              "    </tr>\n",
              "    <tr>\n",
              "      <th>3</th>\n",
              "      <td>2022-10-07 22:37:00</td>\n",
              "      <td>33.00</td>\n",
              "      <td>33.01</td>\n",
              "      <td>33.00</td>\n",
              "      <td>33.00</td>\n",
              "      <td>342.56</td>\n",
              "      <td>22:37</td>\n",
              "      <td>0.000</td>\n",
              "      <td>0.0</td>\n",
              "      <td>0.0</td>\n",
              "      <td>...</td>\n",
              "      <td>NaN</td>\n",
              "      <td>NaN</td>\n",
              "      <td>NaN</td>\n",
              "      <td>NaN</td>\n",
              "      <td>NaN</td>\n",
              "      <td>NaN</td>\n",
              "      <td>NaN</td>\n",
              "      <td>NaN</td>\n",
              "      <td>NaN</td>\n",
              "      <td>NaN</td>\n",
              "    </tr>\n",
              "    <tr>\n",
              "      <th>4</th>\n",
              "      <td>2022-10-07 22:38:00</td>\n",
              "      <td>33.00</td>\n",
              "      <td>33.01</td>\n",
              "      <td>32.99</td>\n",
              "      <td>33.00</td>\n",
              "      <td>492.33</td>\n",
              "      <td>22:38</td>\n",
              "      <td>0.022</td>\n",
              "      <td>0.0</td>\n",
              "      <td>0.0</td>\n",
              "      <td>...</td>\n",
              "      <td>NaN</td>\n",
              "      <td>NaN</td>\n",
              "      <td>NaN</td>\n",
              "      <td>NaN</td>\n",
              "      <td>NaN</td>\n",
              "      <td>NaN</td>\n",
              "      <td>NaN</td>\n",
              "      <td>NaN</td>\n",
              "      <td>NaN</td>\n",
              "      <td>NaN</td>\n",
              "    </tr>\n",
              "  </tbody>\n",
              "</table>\n",
              "<p>5 rows × 139 columns</p>\n",
              "</div>\n",
              "    <div class=\"colab-df-buttons\">\n",
              "\n",
              "  <div class=\"colab-df-container\">\n",
              "    <button class=\"colab-df-convert\" onclick=\"convertToInteractive('df-2870c464-0472-4b50-9ff6-3b7bb6853991')\"\n",
              "            title=\"Convert this dataframe to an interactive table.\"\n",
              "            style=\"display:none;\">\n",
              "\n",
              "  <svg xmlns=\"http://www.w3.org/2000/svg\" height=\"24px\" viewBox=\"0 -960 960 960\">\n",
              "    <path d=\"M120-120v-720h720v720H120Zm60-500h600v-160H180v160Zm220 220h160v-160H400v160Zm0 220h160v-160H400v160ZM180-400h160v-160H180v160Zm440 0h160v-160H620v160ZM180-180h160v-160H180v160Zm440 0h160v-160H620v160Z\"/>\n",
              "  </svg>\n",
              "    </button>\n",
              "\n",
              "  <style>\n",
              "    .colab-df-container {\n",
              "      display:flex;\n",
              "      gap: 12px;\n",
              "    }\n",
              "\n",
              "    .colab-df-convert {\n",
              "      background-color: #E8F0FE;\n",
              "      border: none;\n",
              "      border-radius: 50%;\n",
              "      cursor: pointer;\n",
              "      display: none;\n",
              "      fill: #1967D2;\n",
              "      height: 32px;\n",
              "      padding: 0 0 0 0;\n",
              "      width: 32px;\n",
              "    }\n",
              "\n",
              "    .colab-df-convert:hover {\n",
              "      background-color: #E2EBFA;\n",
              "      box-shadow: 0px 1px 2px rgba(60, 64, 67, 0.3), 0px 1px 3px 1px rgba(60, 64, 67, 0.15);\n",
              "      fill: #174EA6;\n",
              "    }\n",
              "\n",
              "    .colab-df-buttons div {\n",
              "      margin-bottom: 4px;\n",
              "    }\n",
              "\n",
              "    [theme=dark] .colab-df-convert {\n",
              "      background-color: #3B4455;\n",
              "      fill: #D2E3FC;\n",
              "    }\n",
              "\n",
              "    [theme=dark] .colab-df-convert:hover {\n",
              "      background-color: #434B5C;\n",
              "      box-shadow: 0px 1px 3px 1px rgba(0, 0, 0, 0.15);\n",
              "      filter: drop-shadow(0px 1px 2px rgba(0, 0, 0, 0.3));\n",
              "      fill: #FFFFFF;\n",
              "    }\n",
              "  </style>\n",
              "\n",
              "    <script>\n",
              "      const buttonEl =\n",
              "        document.querySelector('#df-2870c464-0472-4b50-9ff6-3b7bb6853991 button.colab-df-convert');\n",
              "      buttonEl.style.display =\n",
              "        google.colab.kernel.accessAllowed ? 'block' : 'none';\n",
              "\n",
              "      async function convertToInteractive(key) {\n",
              "        const element = document.querySelector('#df-2870c464-0472-4b50-9ff6-3b7bb6853991');\n",
              "        const dataTable =\n",
              "          await google.colab.kernel.invokeFunction('convertToInteractive',\n",
              "                                                    [key], {});\n",
              "        if (!dataTable) return;\n",
              "\n",
              "        const docLinkHtml = 'Like what you see? Visit the ' +\n",
              "          '<a target=\"_blank\" href=https://colab.research.google.com/notebooks/data_table.ipynb>data table notebook</a>'\n",
              "          + ' to learn more about interactive tables.';\n",
              "        element.innerHTML = '';\n",
              "        dataTable['output_type'] = 'display_data';\n",
              "        await google.colab.output.renderOutput(dataTable, element);\n",
              "        const docLink = document.createElement('div');\n",
              "        docLink.innerHTML = docLinkHtml;\n",
              "        element.appendChild(docLink);\n",
              "      }\n",
              "    </script>\n",
              "  </div>\n",
              "\n",
              "\n",
              "<div id=\"df-4fcc92cb-a493-45dc-adc2-5f70644f2da2\">\n",
              "  <button class=\"colab-df-quickchart\" onclick=\"quickchart('df-4fcc92cb-a493-45dc-adc2-5f70644f2da2')\"\n",
              "            title=\"Suggest charts\"\n",
              "            style=\"display:none;\">\n",
              "\n",
              "<svg xmlns=\"http://www.w3.org/2000/svg\" height=\"24px\"viewBox=\"0 0 24 24\"\n",
              "     width=\"24px\">\n",
              "    <g>\n",
              "        <path d=\"M19 3H5c-1.1 0-2 .9-2 2v14c0 1.1.9 2 2 2h14c1.1 0 2-.9 2-2V5c0-1.1-.9-2-2-2zM9 17H7v-7h2v7zm4 0h-2V7h2v10zm4 0h-2v-4h2v4z\"/>\n",
              "    </g>\n",
              "</svg>\n",
              "  </button>\n",
              "\n",
              "<style>\n",
              "  .colab-df-quickchart {\n",
              "      --bg-color: #E8F0FE;\n",
              "      --fill-color: #1967D2;\n",
              "      --hover-bg-color: #E2EBFA;\n",
              "      --hover-fill-color: #174EA6;\n",
              "      --disabled-fill-color: #AAA;\n",
              "      --disabled-bg-color: #DDD;\n",
              "  }\n",
              "\n",
              "  [theme=dark] .colab-df-quickchart {\n",
              "      --bg-color: #3B4455;\n",
              "      --fill-color: #D2E3FC;\n",
              "      --hover-bg-color: #434B5C;\n",
              "      --hover-fill-color: #FFFFFF;\n",
              "      --disabled-bg-color: #3B4455;\n",
              "      --disabled-fill-color: #666;\n",
              "  }\n",
              "\n",
              "  .colab-df-quickchart {\n",
              "    background-color: var(--bg-color);\n",
              "    border: none;\n",
              "    border-radius: 50%;\n",
              "    cursor: pointer;\n",
              "    display: none;\n",
              "    fill: var(--fill-color);\n",
              "    height: 32px;\n",
              "    padding: 0;\n",
              "    width: 32px;\n",
              "  }\n",
              "\n",
              "  .colab-df-quickchart:hover {\n",
              "    background-color: var(--hover-bg-color);\n",
              "    box-shadow: 0 1px 2px rgba(60, 64, 67, 0.3), 0 1px 3px 1px rgba(60, 64, 67, 0.15);\n",
              "    fill: var(--button-hover-fill-color);\n",
              "  }\n",
              "\n",
              "  .colab-df-quickchart-complete:disabled,\n",
              "  .colab-df-quickchart-complete:disabled:hover {\n",
              "    background-color: var(--disabled-bg-color);\n",
              "    fill: var(--disabled-fill-color);\n",
              "    box-shadow: none;\n",
              "  }\n",
              "\n",
              "  .colab-df-spinner {\n",
              "    border: 2px solid var(--fill-color);\n",
              "    border-color: transparent;\n",
              "    border-bottom-color: var(--fill-color);\n",
              "    animation:\n",
              "      spin 1s steps(1) infinite;\n",
              "  }\n",
              "\n",
              "  @keyframes spin {\n",
              "    0% {\n",
              "      border-color: transparent;\n",
              "      border-bottom-color: var(--fill-color);\n",
              "      border-left-color: var(--fill-color);\n",
              "    }\n",
              "    20% {\n",
              "      border-color: transparent;\n",
              "      border-left-color: var(--fill-color);\n",
              "      border-top-color: var(--fill-color);\n",
              "    }\n",
              "    30% {\n",
              "      border-color: transparent;\n",
              "      border-left-color: var(--fill-color);\n",
              "      border-top-color: var(--fill-color);\n",
              "      border-right-color: var(--fill-color);\n",
              "    }\n",
              "    40% {\n",
              "      border-color: transparent;\n",
              "      border-right-color: var(--fill-color);\n",
              "      border-top-color: var(--fill-color);\n",
              "    }\n",
              "    60% {\n",
              "      border-color: transparent;\n",
              "      border-right-color: var(--fill-color);\n",
              "    }\n",
              "    80% {\n",
              "      border-color: transparent;\n",
              "      border-right-color: var(--fill-color);\n",
              "      border-bottom-color: var(--fill-color);\n",
              "    }\n",
              "    90% {\n",
              "      border-color: transparent;\n",
              "      border-bottom-color: var(--fill-color);\n",
              "    }\n",
              "  }\n",
              "</style>\n",
              "\n",
              "  <script>\n",
              "    async function quickchart(key) {\n",
              "      const quickchartButtonEl =\n",
              "        document.querySelector('#' + key + ' button');\n",
              "      quickchartButtonEl.disabled = true;  // To prevent multiple clicks.\n",
              "      quickchartButtonEl.classList.add('colab-df-spinner');\n",
              "      try {\n",
              "        const charts = await google.colab.kernel.invokeFunction(\n",
              "            'suggestCharts', [key], {});\n",
              "      } catch (error) {\n",
              "        console.error('Error during call to suggestCharts:', error);\n",
              "      }\n",
              "      quickchartButtonEl.classList.remove('colab-df-spinner');\n",
              "      quickchartButtonEl.classList.add('colab-df-quickchart-complete');\n",
              "    }\n",
              "    (() => {\n",
              "      let quickchartButtonEl =\n",
              "        document.querySelector('#df-4fcc92cb-a493-45dc-adc2-5f70644f2da2 button');\n",
              "      quickchartButtonEl.style.display =\n",
              "        google.colab.kernel.accessAllowed ? 'block' : 'none';\n",
              "    })();\n",
              "  </script>\n",
              "</div>\n",
              "\n",
              "    </div>\n",
              "  </div>\n"
            ],
            "application/vnd.google.colaboratory.intrinsic+json": {
              "type": "dataframe",
              "variable_name": "data"
            }
          },
          "metadata": {},
          "execution_count": 7
        }
      ]
    },
    {
      "cell_type": "code",
      "source": [
        "# 시간 관련 열 변환 함수\n",
        "def convert_time_features(data):\n",
        "    # open_time 열이 datetime 형식이 아닌 경우 변환\n",
        "    if not np.issubdtype(data['open_time'].dtype, np.datetime64):\n",
        "        data['open_time'] = pd.to_datetime(data['open_time'])\n",
        "\n",
        "    # time 열을 분 단위로 변환\n",
        "    data['time'] = data['open_time'].dt.hour * 60 + data['open_time'].dt.minute\n",
        "\n",
        "    # 사용하지 않을 열 제외\n",
        "    #data = data.drop(columns=['open_time', 'Unnamed: 0'])\n",
        "    data = data.drop(columns=['open_time'])\n",
        "\n",
        "    return data\n",
        "\n",
        "# 시간 관련 열 변환\n",
        "data = convert_time_features(data)\n",
        "\n",
        "#Target 생\n",
        "data['target'] = (data['max_return_60min'] >= 1.1).astype(int)"
      ],
      "metadata": {
        "id": "SRjX3L07rKXa"
      },
      "execution_count": 8,
      "outputs": []
    },
    {
      "cell_type": "code",
      "source": [
        "#1.1 1분 6개\n",
        "#Test\n",
        "file_path2 = '/content/drive/MyDrive/Data/SOL_Data_Test_1m_Indicator3.csv'\n",
        "data_test = pd.read_csv(file_path2)\n",
        "\n",
        "# Display the first few rows of the dataset to ensure it is loaded correctly\n",
        "data_test.head()"
      ],
      "metadata": {
        "id": "-YKodO_5qPhu",
        "colab": {
          "base_uri": "https://localhost:8080/",
          "height": 343
        },
        "outputId": "3a2c8263-d165-42e7-a4c3-48b29bb60ff7"
      },
      "execution_count": 9,
      "outputs": [
        {
          "output_type": "execute_result",
          "data": {
            "text/plain": [
              "             open_time   open   high    low  close   volume   time  atr_5  \\\n",
              "0  2023-07-26 15:00:00  24.49  24.53  24.49  24.53  4241.87  15:00  0.000   \n",
              "1  2023-07-26 15:01:00  24.53  24.57  24.53  24.55  5665.44  15:01  0.000   \n",
              "2  2023-07-26 15:02:00  24.55  24.59  24.54  24.57  3515.11  15:02  0.000   \n",
              "3  2023-07-26 15:03:00  24.58  24.58  24.53  24.53  2160.81  15:03  0.000   \n",
              "4  2023-07-26 15:04:00  24.53  24.55  24.52  24.53  2068.28  15:04  0.042   \n",
              "\n",
              "   atr_10  atr_14  ...  price_ma_20  volume_ma_20  price_ma_50  volume_ma_50  \\\n",
              "0     0.0     0.0  ...          NaN           NaN          NaN           NaN   \n",
              "1     0.0     0.0  ...          NaN           NaN          NaN           NaN   \n",
              "2     0.0     0.0  ...          NaN           NaN          NaN           NaN   \n",
              "3     0.0     0.0  ...          NaN           NaN          NaN           NaN   \n",
              "4     0.0     0.0  ...          NaN           NaN          NaN           NaN   \n",
              "\n",
              "   price_ma_100  volume_ma_100  price_ma_200  volume_ma_200  max_return_60min  \\\n",
              "0           NaN            NaN           NaN            NaN          1.916021   \n",
              "1           NaN            NaN           NaN            NaN          1.832994   \n",
              "2           NaN            NaN           NaN            NaN          1.750102   \n",
              "3           NaN            NaN           NaN            NaN          1.916021   \n",
              "4           NaN            NaN           NaN            NaN          1.916021   \n",
              "\n",
              "   min_return_60min  \n",
              "0         -0.122299  \n",
              "1         -0.203666  \n",
              "2         -0.284900  \n",
              "3         -0.122299  \n",
              "4         -0.122299  \n",
              "\n",
              "[5 rows x 139 columns]"
            ],
            "text/html": [
              "\n",
              "  <div id=\"df-57772c06-26a2-4ebf-9982-2122c2aef0ce\" class=\"colab-df-container\">\n",
              "    <div>\n",
              "<style scoped>\n",
              "    .dataframe tbody tr th:only-of-type {\n",
              "        vertical-align: middle;\n",
              "    }\n",
              "\n",
              "    .dataframe tbody tr th {\n",
              "        vertical-align: top;\n",
              "    }\n",
              "\n",
              "    .dataframe thead th {\n",
              "        text-align: right;\n",
              "    }\n",
              "</style>\n",
              "<table border=\"1\" class=\"dataframe\">\n",
              "  <thead>\n",
              "    <tr style=\"text-align: right;\">\n",
              "      <th></th>\n",
              "      <th>open_time</th>\n",
              "      <th>open</th>\n",
              "      <th>high</th>\n",
              "      <th>low</th>\n",
              "      <th>close</th>\n",
              "      <th>volume</th>\n",
              "      <th>time</th>\n",
              "      <th>atr_5</th>\n",
              "      <th>atr_10</th>\n",
              "      <th>atr_14</th>\n",
              "      <th>...</th>\n",
              "      <th>price_ma_20</th>\n",
              "      <th>volume_ma_20</th>\n",
              "      <th>price_ma_50</th>\n",
              "      <th>volume_ma_50</th>\n",
              "      <th>price_ma_100</th>\n",
              "      <th>volume_ma_100</th>\n",
              "      <th>price_ma_200</th>\n",
              "      <th>volume_ma_200</th>\n",
              "      <th>max_return_60min</th>\n",
              "      <th>min_return_60min</th>\n",
              "    </tr>\n",
              "  </thead>\n",
              "  <tbody>\n",
              "    <tr>\n",
              "      <th>0</th>\n",
              "      <td>2023-07-26 15:00:00</td>\n",
              "      <td>24.49</td>\n",
              "      <td>24.53</td>\n",
              "      <td>24.49</td>\n",
              "      <td>24.53</td>\n",
              "      <td>4241.87</td>\n",
              "      <td>15:00</td>\n",
              "      <td>0.000</td>\n",
              "      <td>0.0</td>\n",
              "      <td>0.0</td>\n",
              "      <td>...</td>\n",
              "      <td>NaN</td>\n",
              "      <td>NaN</td>\n",
              "      <td>NaN</td>\n",
              "      <td>NaN</td>\n",
              "      <td>NaN</td>\n",
              "      <td>NaN</td>\n",
              "      <td>NaN</td>\n",
              "      <td>NaN</td>\n",
              "      <td>1.916021</td>\n",
              "      <td>-0.122299</td>\n",
              "    </tr>\n",
              "    <tr>\n",
              "      <th>1</th>\n",
              "      <td>2023-07-26 15:01:00</td>\n",
              "      <td>24.53</td>\n",
              "      <td>24.57</td>\n",
              "      <td>24.53</td>\n",
              "      <td>24.55</td>\n",
              "      <td>5665.44</td>\n",
              "      <td>15:01</td>\n",
              "      <td>0.000</td>\n",
              "      <td>0.0</td>\n",
              "      <td>0.0</td>\n",
              "      <td>...</td>\n",
              "      <td>NaN</td>\n",
              "      <td>NaN</td>\n",
              "      <td>NaN</td>\n",
              "      <td>NaN</td>\n",
              "      <td>NaN</td>\n",
              "      <td>NaN</td>\n",
              "      <td>NaN</td>\n",
              "      <td>NaN</td>\n",
              "      <td>1.832994</td>\n",
              "      <td>-0.203666</td>\n",
              "    </tr>\n",
              "    <tr>\n",
              "      <th>2</th>\n",
              "      <td>2023-07-26 15:02:00</td>\n",
              "      <td>24.55</td>\n",
              "      <td>24.59</td>\n",
              "      <td>24.54</td>\n",
              "      <td>24.57</td>\n",
              "      <td>3515.11</td>\n",
              "      <td>15:02</td>\n",
              "      <td>0.000</td>\n",
              "      <td>0.0</td>\n",
              "      <td>0.0</td>\n",
              "      <td>...</td>\n",
              "      <td>NaN</td>\n",
              "      <td>NaN</td>\n",
              "      <td>NaN</td>\n",
              "      <td>NaN</td>\n",
              "      <td>NaN</td>\n",
              "      <td>NaN</td>\n",
              "      <td>NaN</td>\n",
              "      <td>NaN</td>\n",
              "      <td>1.750102</td>\n",
              "      <td>-0.284900</td>\n",
              "    </tr>\n",
              "    <tr>\n",
              "      <th>3</th>\n",
              "      <td>2023-07-26 15:03:00</td>\n",
              "      <td>24.58</td>\n",
              "      <td>24.58</td>\n",
              "      <td>24.53</td>\n",
              "      <td>24.53</td>\n",
              "      <td>2160.81</td>\n",
              "      <td>15:03</td>\n",
              "      <td>0.000</td>\n",
              "      <td>0.0</td>\n",
              "      <td>0.0</td>\n",
              "      <td>...</td>\n",
              "      <td>NaN</td>\n",
              "      <td>NaN</td>\n",
              "      <td>NaN</td>\n",
              "      <td>NaN</td>\n",
              "      <td>NaN</td>\n",
              "      <td>NaN</td>\n",
              "      <td>NaN</td>\n",
              "      <td>NaN</td>\n",
              "      <td>1.916021</td>\n",
              "      <td>-0.122299</td>\n",
              "    </tr>\n",
              "    <tr>\n",
              "      <th>4</th>\n",
              "      <td>2023-07-26 15:04:00</td>\n",
              "      <td>24.53</td>\n",
              "      <td>24.55</td>\n",
              "      <td>24.52</td>\n",
              "      <td>24.53</td>\n",
              "      <td>2068.28</td>\n",
              "      <td>15:04</td>\n",
              "      <td>0.042</td>\n",
              "      <td>0.0</td>\n",
              "      <td>0.0</td>\n",
              "      <td>...</td>\n",
              "      <td>NaN</td>\n",
              "      <td>NaN</td>\n",
              "      <td>NaN</td>\n",
              "      <td>NaN</td>\n",
              "      <td>NaN</td>\n",
              "      <td>NaN</td>\n",
              "      <td>NaN</td>\n",
              "      <td>NaN</td>\n",
              "      <td>1.916021</td>\n",
              "      <td>-0.122299</td>\n",
              "    </tr>\n",
              "  </tbody>\n",
              "</table>\n",
              "<p>5 rows × 139 columns</p>\n",
              "</div>\n",
              "    <div class=\"colab-df-buttons\">\n",
              "\n",
              "  <div class=\"colab-df-container\">\n",
              "    <button class=\"colab-df-convert\" onclick=\"convertToInteractive('df-57772c06-26a2-4ebf-9982-2122c2aef0ce')\"\n",
              "            title=\"Convert this dataframe to an interactive table.\"\n",
              "            style=\"display:none;\">\n",
              "\n",
              "  <svg xmlns=\"http://www.w3.org/2000/svg\" height=\"24px\" viewBox=\"0 -960 960 960\">\n",
              "    <path d=\"M120-120v-720h720v720H120Zm60-500h600v-160H180v160Zm220 220h160v-160H400v160Zm0 220h160v-160H400v160ZM180-400h160v-160H180v160Zm440 0h160v-160H620v160ZM180-180h160v-160H180v160Zm440 0h160v-160H620v160Z\"/>\n",
              "  </svg>\n",
              "    </button>\n",
              "\n",
              "  <style>\n",
              "    .colab-df-container {\n",
              "      display:flex;\n",
              "      gap: 12px;\n",
              "    }\n",
              "\n",
              "    .colab-df-convert {\n",
              "      background-color: #E8F0FE;\n",
              "      border: none;\n",
              "      border-radius: 50%;\n",
              "      cursor: pointer;\n",
              "      display: none;\n",
              "      fill: #1967D2;\n",
              "      height: 32px;\n",
              "      padding: 0 0 0 0;\n",
              "      width: 32px;\n",
              "    }\n",
              "\n",
              "    .colab-df-convert:hover {\n",
              "      background-color: #E2EBFA;\n",
              "      box-shadow: 0px 1px 2px rgba(60, 64, 67, 0.3), 0px 1px 3px 1px rgba(60, 64, 67, 0.15);\n",
              "      fill: #174EA6;\n",
              "    }\n",
              "\n",
              "    .colab-df-buttons div {\n",
              "      margin-bottom: 4px;\n",
              "    }\n",
              "\n",
              "    [theme=dark] .colab-df-convert {\n",
              "      background-color: #3B4455;\n",
              "      fill: #D2E3FC;\n",
              "    }\n",
              "\n",
              "    [theme=dark] .colab-df-convert:hover {\n",
              "      background-color: #434B5C;\n",
              "      box-shadow: 0px 1px 3px 1px rgba(0, 0, 0, 0.15);\n",
              "      filter: drop-shadow(0px 1px 2px rgba(0, 0, 0, 0.3));\n",
              "      fill: #FFFFFF;\n",
              "    }\n",
              "  </style>\n",
              "\n",
              "    <script>\n",
              "      const buttonEl =\n",
              "        document.querySelector('#df-57772c06-26a2-4ebf-9982-2122c2aef0ce button.colab-df-convert');\n",
              "      buttonEl.style.display =\n",
              "        google.colab.kernel.accessAllowed ? 'block' : 'none';\n",
              "\n",
              "      async function convertToInteractive(key) {\n",
              "        const element = document.querySelector('#df-57772c06-26a2-4ebf-9982-2122c2aef0ce');\n",
              "        const dataTable =\n",
              "          await google.colab.kernel.invokeFunction('convertToInteractive',\n",
              "                                                    [key], {});\n",
              "        if (!dataTable) return;\n",
              "\n",
              "        const docLinkHtml = 'Like what you see? Visit the ' +\n",
              "          '<a target=\"_blank\" href=https://colab.research.google.com/notebooks/data_table.ipynb>data table notebook</a>'\n",
              "          + ' to learn more about interactive tables.';\n",
              "        element.innerHTML = '';\n",
              "        dataTable['output_type'] = 'display_data';\n",
              "        await google.colab.output.renderOutput(dataTable, element);\n",
              "        const docLink = document.createElement('div');\n",
              "        docLink.innerHTML = docLinkHtml;\n",
              "        element.appendChild(docLink);\n",
              "      }\n",
              "    </script>\n",
              "  </div>\n",
              "\n",
              "\n",
              "<div id=\"df-f1591ec8-8f14-4cc0-9f79-34f7da4b947a\">\n",
              "  <button class=\"colab-df-quickchart\" onclick=\"quickchart('df-f1591ec8-8f14-4cc0-9f79-34f7da4b947a')\"\n",
              "            title=\"Suggest charts\"\n",
              "            style=\"display:none;\">\n",
              "\n",
              "<svg xmlns=\"http://www.w3.org/2000/svg\" height=\"24px\"viewBox=\"0 0 24 24\"\n",
              "     width=\"24px\">\n",
              "    <g>\n",
              "        <path d=\"M19 3H5c-1.1 0-2 .9-2 2v14c0 1.1.9 2 2 2h14c1.1 0 2-.9 2-2V5c0-1.1-.9-2-2-2zM9 17H7v-7h2v7zm4 0h-2V7h2v10zm4 0h-2v-4h2v4z\"/>\n",
              "    </g>\n",
              "</svg>\n",
              "  </button>\n",
              "\n",
              "<style>\n",
              "  .colab-df-quickchart {\n",
              "      --bg-color: #E8F0FE;\n",
              "      --fill-color: #1967D2;\n",
              "      --hover-bg-color: #E2EBFA;\n",
              "      --hover-fill-color: #174EA6;\n",
              "      --disabled-fill-color: #AAA;\n",
              "      --disabled-bg-color: #DDD;\n",
              "  }\n",
              "\n",
              "  [theme=dark] .colab-df-quickchart {\n",
              "      --bg-color: #3B4455;\n",
              "      --fill-color: #D2E3FC;\n",
              "      --hover-bg-color: #434B5C;\n",
              "      --hover-fill-color: #FFFFFF;\n",
              "      --disabled-bg-color: #3B4455;\n",
              "      --disabled-fill-color: #666;\n",
              "  }\n",
              "\n",
              "  .colab-df-quickchart {\n",
              "    background-color: var(--bg-color);\n",
              "    border: none;\n",
              "    border-radius: 50%;\n",
              "    cursor: pointer;\n",
              "    display: none;\n",
              "    fill: var(--fill-color);\n",
              "    height: 32px;\n",
              "    padding: 0;\n",
              "    width: 32px;\n",
              "  }\n",
              "\n",
              "  .colab-df-quickchart:hover {\n",
              "    background-color: var(--hover-bg-color);\n",
              "    box-shadow: 0 1px 2px rgba(60, 64, 67, 0.3), 0 1px 3px 1px rgba(60, 64, 67, 0.15);\n",
              "    fill: var(--button-hover-fill-color);\n",
              "  }\n",
              "\n",
              "  .colab-df-quickchart-complete:disabled,\n",
              "  .colab-df-quickchart-complete:disabled:hover {\n",
              "    background-color: var(--disabled-bg-color);\n",
              "    fill: var(--disabled-fill-color);\n",
              "    box-shadow: none;\n",
              "  }\n",
              "\n",
              "  .colab-df-spinner {\n",
              "    border: 2px solid var(--fill-color);\n",
              "    border-color: transparent;\n",
              "    border-bottom-color: var(--fill-color);\n",
              "    animation:\n",
              "      spin 1s steps(1) infinite;\n",
              "  }\n",
              "\n",
              "  @keyframes spin {\n",
              "    0% {\n",
              "      border-color: transparent;\n",
              "      border-bottom-color: var(--fill-color);\n",
              "      border-left-color: var(--fill-color);\n",
              "    }\n",
              "    20% {\n",
              "      border-color: transparent;\n",
              "      border-left-color: var(--fill-color);\n",
              "      border-top-color: var(--fill-color);\n",
              "    }\n",
              "    30% {\n",
              "      border-color: transparent;\n",
              "      border-left-color: var(--fill-color);\n",
              "      border-top-color: var(--fill-color);\n",
              "      border-right-color: var(--fill-color);\n",
              "    }\n",
              "    40% {\n",
              "      border-color: transparent;\n",
              "      border-right-color: var(--fill-color);\n",
              "      border-top-color: var(--fill-color);\n",
              "    }\n",
              "    60% {\n",
              "      border-color: transparent;\n",
              "      border-right-color: var(--fill-color);\n",
              "    }\n",
              "    80% {\n",
              "      border-color: transparent;\n",
              "      border-right-color: var(--fill-color);\n",
              "      border-bottom-color: var(--fill-color);\n",
              "    }\n",
              "    90% {\n",
              "      border-color: transparent;\n",
              "      border-bottom-color: var(--fill-color);\n",
              "    }\n",
              "  }\n",
              "</style>\n",
              "\n",
              "  <script>\n",
              "    async function quickchart(key) {\n",
              "      const quickchartButtonEl =\n",
              "        document.querySelector('#' + key + ' button');\n",
              "      quickchartButtonEl.disabled = true;  // To prevent multiple clicks.\n",
              "      quickchartButtonEl.classList.add('colab-df-spinner');\n",
              "      try {\n",
              "        const charts = await google.colab.kernel.invokeFunction(\n",
              "            'suggestCharts', [key], {});\n",
              "      } catch (error) {\n",
              "        console.error('Error during call to suggestCharts:', error);\n",
              "      }\n",
              "      quickchartButtonEl.classList.remove('colab-df-spinner');\n",
              "      quickchartButtonEl.classList.add('colab-df-quickchart-complete');\n",
              "    }\n",
              "    (() => {\n",
              "      let quickchartButtonEl =\n",
              "        document.querySelector('#df-f1591ec8-8f14-4cc0-9f79-34f7da4b947a button');\n",
              "      quickchartButtonEl.style.display =\n",
              "        google.colab.kernel.accessAllowed ? 'block' : 'none';\n",
              "    })();\n",
              "  </script>\n",
              "</div>\n",
              "\n",
              "    </div>\n",
              "  </div>\n"
            ],
            "application/vnd.google.colaboratory.intrinsic+json": {
              "type": "dataframe",
              "variable_name": "data_test"
            }
          },
          "metadata": {},
          "execution_count": 9
        }
      ]
    },
    {
      "cell_type": "code",
      "source": [
        "# open_time 열을 datetime 형식으로 변환\n",
        "if not np.issubdtype(data_test['open_time'].dtype, np.datetime64):\n",
        "    data_test['open_time'] = pd.to_datetime(data_test['open_time'])\n",
        "\n",
        "# time 열을 분 단위로 변환\n",
        "data_test['time'] = data_test['open_time'].dt.hour * 60 + data_test['open_time'].dt.minute"
      ],
      "metadata": {
        "id": "ILMj7CdF0f9f"
      },
      "execution_count": 10,
      "outputs": []
    },
    {
      "cell_type": "code",
      "source": [
        "indicators_list = [\n",
        "    \"volume_ma_100\", \"volume_ma_5\", \"volume\", \"volume_ma_50\", \"obv\", \"volume_ma_20\", \"volume_ma_200\", \"atr_14\", \"disparity_index_50\", \"disparity_index_5\",\n",
        "    \"atr_10\", \"bollinger_hband_100\", \"disparity_index_10\", \"supertrend_lower_14_2_10\", \"bollinger_lband_10\", \"bollinger_hband_200\", \"atr_5\", \"bollinger_lband_100\", \"bollinger_lband_200\", \"price_ma_100\",\n",
        "    \"ichimoku_conversion_52\", \"disparity_index_20\", \"lowerband\", \"atr_50\", \"price_ma_200\", \"ichimoku_conversion_200\", \"atr_20\", \"ichimoku_conversion_100\", \"volume_ma_10\", \"supertrend_lower_20_4_50\",\n",
        "    \"ichimoku_base_9\", \"supertrend_upper_10_3_20\", \"Accumulation_Distribution_Line\", \"bollinger_lband_50\", \"bollinger_hband_50\", \"bollinger_lband_20\", \"bollinger_hband_20\", \"disparity_index_200\", \"upperband\", \"price_ma_50\",\n",
        "    \"low\", \"time\", \"disparity_index_100\", \"Parabolic_SAR_0.06\", \"supertrend_upper_20_4_50\", \"supertrend_upper_7_3_14\", \"supertrend_lower_10_3_20\", \"ichimoku_conversion_9\", \"price_ma_10\", \"supertrend_upper_14_2_10\",\n",
        "    \"vwap\", \"Parabolic_SAR_0.1\", \"ROC_50\", \"supertrend_in_uptrend_10_3_20\", \"MFI_50\", \"supertrend_lower_7_3_14\", \"supertrend_in_uptrend_20_4_50\", \"close\", \"bollinger_hband_10\", \"Momentum_50\",\n",
        "    \"VR_50\", \"Elder_Force_Index_25\", \"price_ma_20\", \"in_uptrend\", \"price_ma_5\", \"open\", \"supertrend_in_uptrend_7_3_14\", \"VR_40\", \"Momentum_30\", \"MFI_40\",\n",
        "    \"stoch_%k_20_7\", \"high\", \"stoch_%k_9_3\", \"CMO_40\", \"ROC_30\", \"CMO_50\", \"Parabolic_SAR_0.02\", \"stoch_%d_21_5\", \"Williams_%R_40\", \"Parabolic_SAR_0.04\",\n",
        "    \"CMO_20\", \"Williams_%R_50\", \"CMO_10\", \"ROC_20\", \"ROC_40\", \"MFI_30\", \"VR_30\", \"CCI_50\", \"Momentum_40\", \"Williams_%R_30\",\n",
        "    \"MFI_20\", \"Momentum_10\", \"ROC_10\", \"MFI_10\", \"stoch_%d_20_7\", \"Elder_Force_Index_10\", \"Elder_Force_Index_13\", \"CCI_30\", \"VR_20\", \"CMO_30\",\n",
        "    \"VR_10\", \"CCI_40\", \"CCI_10\", \"supertrend_in_uptrend_14_2_10\", \"Momentum_20\", \"stoch_%k_21_5\", \"stoch_%d_9_3\", \"stoch_%d_14_3\", \"CCI_20\", \"stoch_%k_14_3\",\n",
        "    \"Elder_Force_Index_2\", \"Elder_Force_Index_5\", \"stoch_%d_5_2\", \"stoch_%k_5_2\", \"Parabolic_SAR_0.08\", \"Williams_%R_20\", \"supertrend_lower_50_5_5\", \"supertrend_in_uptrend_50_5_5\", \"Williams_%R_10\", \"supertrend_upper_50_5_5\",\n",
        "    \"RSI_40\", \"RSI_30\", \"RSI_20\", \"RSI_10\", \"atr\", \"RSI_50\", \"Relative_Vigor_Index_10\", \"ichimoku_base_200\", \"Relative_Vigor_Index_50\", \"Relative_Vigor_Index_20\",\n",
        "    \"Relative_Vigor_Index_30\", \"Relative_Vigor_Index_40\", \"ichimoku_base_52\", \"ichimoku_conversion_26\", \"ichimoku_base_26\", \"ichimoku_base_100\"\n",
        "]"
      ],
      "metadata": {
        "id": "25WuKIwohnEx"
      },
      "execution_count": 11,
      "outputs": []
    },
    {
      "cell_type": "code",
      "source": [
        "# 시퀀스 길이 설정\n",
        "sequence_length = 60\n",
        "\n",
        "for idx in range(81, len(indicators_list)) :\n",
        "\n",
        "  indicator_tmp = indicators_list[idx:idx+1]\n",
        "\n",
        "  print(f\"---------START({idx}/{indicator_tmp[len(indicator_tmp) - 1]})------------\")\n",
        "\n",
        "  # 특성과 목표 변수 분리\n",
        "  X = data[indicator_tmp].copy()\n",
        "  y = data['target']\n",
        "\n",
        "  # 무한대 값을 NaN으로 대체\n",
        "  X.replace([np.inf, -np.inf], np.nan, inplace=True)\n",
        "\n",
        "  # NaN 값을 평균으로 대체\n",
        "  imputer = SimpleImputer(strategy='mean')\n",
        "  X_imputed = imputer.fit_transform(X)\n",
        "\n",
        "  # 데이터 정규화\n",
        "  scaler = MinMaxScaler()\n",
        "  X_scaled = scaler.fit_transform(X_imputed)\n",
        "\n",
        "  # 예측 데이터를 시퀀스 형태로 변환\n",
        "  def create_sequences(data, target, sequence_length):\n",
        "    sequences = []\n",
        "    targets = []\n",
        "    for i in range(len(data) - sequence_length + 1):\n",
        "        seq = data[i:i + sequence_length]\n",
        "        label = target[i + sequence_length - 1]\n",
        "        sequences.append(seq)\n",
        "        targets.append(label)\n",
        "    return np.array(sequences), np.array(targets)\n",
        "\n",
        "  # 시퀀스 데이터 생성\n",
        "  y_array = y.values\n",
        "  X_seq, y_seq = create_sequences(X_scaled, y_array, sequence_length)\n",
        "\n",
        "  # 피처들만 남기기\n",
        "  data_test_predict = data_test[indicator_tmp].copy()\n",
        "\n",
        "  # 무한대 값을 NaN으로 대체\n",
        "  data_test_predict.replace([np.inf, -np.inf], np.nan, inplace=True)\n",
        "\n",
        "  # NaN 값을 평균으로 대체\n",
        "  imputer = SimpleImputer(strategy='mean')\n",
        "  data_test_predict_imputed = imputer.fit_transform(data_test_predict)  # 같은 imputer 사용\n",
        "\n",
        "  # 데이터 정규화\n",
        "  scaler = MinMaxScaler()\n",
        "  data_test_predict_scaled = scaler.fit_transform(data_test_predict_imputed)  # 같은 scaler 사용\n",
        "\n",
        "  # 예측 데이터를 시퀀스 형태로 변환 (LSTM용)\n",
        "  def create_sequences_for_prediction(data, sequence_length):\n",
        "      sequences = []\n",
        "      for i in range(len(data) - sequence_length + 1):\n",
        "          seq = data[i:i + sequence_length]\n",
        "          sequences.append(seq)\n",
        "      return np.array(sequences)\n",
        "\n",
        "  # 예측용 시퀀스 데이터 생성\n",
        "  X_test_seq = create_sequences_for_prediction(data_test_predict_scaled, sequence_length)\n",
        "\n",
        "  # 학습 데이터와 검증 데이터 분리\n",
        "  X_train, X_test, y_train, y_test = train_test_split(X_seq, y_seq, test_size=0.2, random_state=42)\n",
        "\n",
        "  # 데이터를 텐서로 변환\n",
        "  X_train_tensor = torch.tensor(X_train, dtype=torch.float32)\n",
        "  y_train_tensor = torch.tensor(y_train, dtype=torch.float32).unsqueeze(1)\n",
        "  X_test_tensor = torch.tensor(X_test, dtype=torch.float32)\n",
        "  y_test_tensor = torch.tensor(y_test, dtype=torch.float32).unsqueeze(1)\n",
        "\n",
        "  # 데이터 로더 생성\n",
        "  train_dataset = TensorDataset(X_train_tensor, y_train_tensor)\n",
        "  test_dataset = TensorDataset(X_test_tensor, y_test_tensor)\n",
        "  train_loader = DataLoader(train_dataset, batch_size=64, shuffle=True)\n",
        "  test_loader = DataLoader(test_dataset, batch_size=64, shuffle=False)\n",
        "\n",
        "  # 모델 설정\n",
        "  input_size = X_train.shape[2]\n",
        "  num_channels = 64\n",
        "  model = TCNModel(input_size, num_channels)\n",
        "\n",
        "  # 손실 함수 및 옵티마이저 설정\n",
        "  criterion = nn.BCEWithLogitsLoss()\n",
        "  optimizer = optim.Adam(model.parameters(), lr=0.001)\n",
        "\n",
        "  # 조기 종료 설정\n",
        "  patience = 5\n",
        "  best_loss = float('inf')\n",
        "  patience_counter = 0\n",
        "\n",
        "  # 학습 및 검증 손실을 저장할 리스트\n",
        "  train_losses = []\n",
        "  val_losses = []\n",
        "\n",
        "  # 학습\n",
        "  num_epochs = 5  # 최대 에포크 수\n",
        "  for epoch in range(num_epochs):\n",
        "      # 학습 단계\n",
        "      model.train()\n",
        "      running_loss = 0.0\n",
        "      for X_batch, y_batch in train_loader:\n",
        "          optimizer.zero_grad()\n",
        "          output = model(X_batch)\n",
        "          loss = criterion(output, y_batch)\n",
        "          loss.backward()\n",
        "          optimizer.step()\n",
        "          running_loss += loss.item()\n",
        "\n",
        "      avg_train_loss = running_loss / len(train_loader)\n",
        "      train_losses.append(avg_train_loss)\n",
        "\n",
        "      # 검증 단계\n",
        "      model.eval()\n",
        "      val_loss = 0.0\n",
        "      with torch.no_grad():\n",
        "          for X_batch, y_batch in test_loader:\n",
        "              output = model(X_batch)\n",
        "              loss = criterion(output, y_batch)\n",
        "              val_loss += loss.item()\n",
        "\n",
        "      avg_val_loss = val_loss / len(test_loader)\n",
        "      val_losses.append(avg_val_loss)\n",
        "\n",
        "      # 조기 종료 조건 체크\n",
        "      if avg_val_loss < best_loss:\n",
        "          best_loss = avg_val_loss\n",
        "          patience_counter = 0\n",
        "      else:\n",
        "          patience_counter += 1\n",
        "\n",
        "      if patience_counter >= patience:\n",
        "          print(\"조기 종료 조건 충족. 학습을 중지합니다.\")\n",
        "          break\n",
        "\n",
        "  # 슬라이딩 윈도우로 데이터 범위 추출\n",
        "  num_rows = data_test_predict_scaled.shape[0]\n",
        "\n",
        "  # 시퀀스 데이터를 텐서로 변환\n",
        "  X_test_tensor = torch.tensor(X_test_seq, dtype=torch.float32)\n",
        "\n",
        "  # 모델을 GPU로 이동 (가능한 경우)\n",
        "  device = torch.device('cuda' if torch.cuda.is_available() else 'cpu')\n",
        "  model.to(device)\n",
        "  X_test_tensor = X_test_tensor.to(device)\n",
        "\n",
        "  #prediction 결과 저장\n",
        "  results = []\n",
        "\n",
        "  # 배치 크기 설정\n",
        "  batch_size = 63\n",
        "\n",
        "  #\n",
        "  data_test_tmp = data_test\n",
        "\n",
        "  #prediction 결과 저장\n",
        "  results = []\n",
        "\n",
        "  for end in tqdm(range(num_rows, 259200 - 1, -batch_size)):\n",
        "      start = max(end - batch_size + 1, 0)\n",
        "\n",
        "      # 해당 범위에 대한 시퀀스 텐서 추출\n",
        "      X_test_tensor_tmp = X_test_tensor[start:end]\n",
        "\n",
        "      # 예측 수행\n",
        "      model.eval()\n",
        "      with torch.no_grad():\n",
        "          predictions = torch.sigmoid(model(X_test_tensor_tmp)).squeeze().cpu().numpy()\n",
        "\n",
        "      # 예측 결과를 이진 분류로 변환 (0 또는 1)\n",
        "      predictions = (predictions > 0.5).astype(int)\n",
        "\n",
        "      # 예측 결과의 마지막 값을 추가\n",
        "      if len(predictions.shape) > 0:\n",
        "              results.append(predictions[-1])\n",
        "      else:\n",
        "          results.append(predictions)\n",
        "\n",
        "  # 원래 순서대로 변경\n",
        "  results = results[::-1]  # 원래 순서대로 변경\n",
        "\n",
        "  data_test_tmp['Predictions'] = np.nan\n",
        "  data_test_tmp.loc[data_test_tmp.index[-len(results):], 'Predictions'] = results\n",
        "  data_test_tmp = data_test_tmp.dropna(subset=['Predictions'])\n",
        "\n",
        "  # 'max_return_60min' 값이 1 이상이고 'prediction' 값이 0인 데이터의 개수\n",
        "  count_max_return_ge_1_prediction_0 = len(data_test_tmp[(data_test_tmp['max_return_60min'] >= 1.1) & (data_test_tmp['Predictions'] == 1)])\n",
        "\n",
        "  # 'max_return_60min' 값이 1 미만이고 'prediction' 값이 1인 데이터의 개수\n",
        "  count_max_return_lt_1_prediction_1 = len(data_test_tmp[(data_test_tmp['max_return_60min'] < 1.1) & (data_test_tmp['Predictions'] == 0)])\n",
        "\n",
        "  #\n",
        "  tmp1 = count_max_return_ge_1_prediction_0/len(data_test_tmp)*100\n",
        "  tmp2 = count_max_return_lt_1_prediction_1/len(data_test_tmp)*100\n",
        "\n",
        "  #\n",
        "  print(f\"[max_return_60min/{indicator_tmp[len(indicator_tmp) - 1]}/1.1이상/1/{259200}] : {tmp1}\")\n",
        "  print(f\"[max_return_60min/{indicator_tmp[len(indicator_tmp) - 1]}/1.1미만/0/{259200}] : {tmp2}\")\n",
        "  print(f\"[확률/{indicator_tmp[len(indicator_tmp) - 1]}/1.1/{259200}] : {tmp1 + tmp2}\")\n",
        "\n",
        "  print(f\"---------END({idx}/{indicator_tmp[len(indicator_tmp) - 1]})------------\")"
      ],
      "metadata": {
        "id": "8WqvtMcokplC",
        "colab": {
          "base_uri": "https://localhost:8080/"
        },
        "outputId": "971d9206-8a95-4791-b6e5-6d9003d56bd2"
      },
      "execution_count": 12,
      "outputs": [
        {
          "output_type": "stream",
          "name": "stdout",
          "text": [
            "---------START(81/Williams_%R_50)------------\n"
          ]
        },
        {
          "output_type": "stream",
          "name": "stderr",
          "text": [
            "100%|██████████| 4252/4252 [00:04<00:00, 888.90it/s] \n"
          ]
        },
        {
          "output_type": "stream",
          "name": "stdout",
          "text": [
            "[max_return_60min/Williams_%R_50/1.1이상/1/259200] : 0.0\n",
            "[max_return_60min/Williams_%R_50/1.1미만/0/259200] : 79.35089369708372\n",
            "[확률/Williams_%R_50/1.1/259200] : 79.35089369708372\n",
            "---------END(81/Williams_%R_50)------------\n",
            "---------START(82/CMO_10)------------\n"
          ]
        },
        {
          "output_type": "stream",
          "name": "stderr",
          "text": [
            "100%|██████████| 4252/4252 [00:03<00:00, 1302.29it/s]\n"
          ]
        },
        {
          "output_type": "stream",
          "name": "stdout",
          "text": [
            "[max_return_60min/CMO_10/1.1이상/1/259200] : 0.0\n",
            "[max_return_60min/CMO_10/1.1미만/0/259200] : 79.35089369708372\n",
            "[확률/CMO_10/1.1/259200] : 79.35089369708372\n",
            "---------END(82/CMO_10)------------\n",
            "---------START(83/ROC_20)------------\n"
          ]
        },
        {
          "output_type": "stream",
          "name": "stderr",
          "text": [
            "100%|██████████| 4252/4252 [00:03<00:00, 1281.31it/s]\n"
          ]
        },
        {
          "output_type": "stream",
          "name": "stdout",
          "text": [
            "[max_return_60min/ROC_20/1.1이상/1/259200] : 0.11759172154280338\n",
            "[max_return_60min/ROC_20/1.1미만/0/259200] : 79.11571025399812\n",
            "[확률/ROC_20/1.1/259200] : 79.23330197554093\n",
            "---------END(83/ROC_20)------------\n",
            "---------START(84/ROC_40)------------\n"
          ]
        },
        {
          "output_type": "stream",
          "name": "stderr",
          "text": [
            "100%|██████████| 4252/4252 [00:03<00:00, 1277.04it/s]\n"
          ]
        },
        {
          "output_type": "stream",
          "name": "stdout",
          "text": [
            "[max_return_60min/ROC_40/1.1이상/1/259200] : 0.37629350893697083\n",
            "[max_return_60min/ROC_40/1.1미만/0/259200] : 78.0573847601129\n",
            "[확률/ROC_40/1.1/259200] : 78.43367826904986\n",
            "---------END(84/ROC_40)------------\n",
            "---------START(85/MFI_30)------------\n"
          ]
        },
        {
          "output_type": "stream",
          "name": "stderr",
          "text": [
            "100%|██████████| 4252/4252 [00:04<00:00, 896.91it/s]\n"
          ]
        },
        {
          "output_type": "stream",
          "name": "stdout",
          "text": [
            "[max_return_60min/MFI_30/1.1이상/1/259200] : 0.0\n",
            "[max_return_60min/MFI_30/1.1미만/0/259200] : 79.35089369708372\n",
            "[확률/MFI_30/1.1/259200] : 79.35089369708372\n",
            "---------END(85/MFI_30)------------\n",
            "---------START(86/VR_30)------------\n"
          ]
        },
        {
          "output_type": "stream",
          "name": "stderr",
          "text": [
            "100%|██████████| 4252/4252 [00:03<00:00, 1305.43it/s]\n"
          ]
        },
        {
          "output_type": "stream",
          "name": "stdout",
          "text": [
            "[max_return_60min/VR_30/1.1이상/1/259200] : 0.0\n",
            "[max_return_60min/VR_30/1.1미만/0/259200] : 79.35089369708372\n",
            "[확률/VR_30/1.1/259200] : 79.35089369708372\n",
            "---------END(86/VR_30)------------\n",
            "---------START(87/CCI_50)------------\n"
          ]
        },
        {
          "output_type": "stream",
          "name": "stderr",
          "text": [
            "100%|██████████| 4252/4252 [00:03<00:00, 1301.12it/s]\n"
          ]
        },
        {
          "output_type": "stream",
          "name": "stdout",
          "text": [
            "[max_return_60min/CCI_50/1.1이상/1/259200] : 0.0\n",
            "[max_return_60min/CCI_50/1.1미만/0/259200] : 79.35089369708372\n",
            "[확률/CCI_50/1.1/259200] : 79.35089369708372\n",
            "---------END(87/CCI_50)------------\n",
            "---------START(88/Momentum_40)------------\n"
          ]
        },
        {
          "output_type": "stream",
          "name": "stderr",
          "text": [
            "100%|██████████| 4252/4252 [00:03<00:00, 1258.84it/s]\n"
          ]
        },
        {
          "output_type": "stream",
          "name": "stdout",
          "text": [
            "[max_return_60min/Momentum_40/1.1이상/1/259200] : 19.873000940733775\n",
            "[max_return_60min/Momentum_40/1.1미만/0/259200] : 1.904985888993415\n",
            "[확률/Momentum_40/1.1/259200] : 21.77798682972719\n",
            "---------END(88/Momentum_40)------------\n",
            "---------START(89/Williams_%R_30)------------\n"
          ]
        },
        {
          "output_type": "stream",
          "name": "stderr",
          "text": [
            "100%|██████████| 4252/4252 [00:03<00:00, 1271.43it/s]\n"
          ]
        },
        {
          "output_type": "stream",
          "name": "stdout",
          "text": [
            "[max_return_60min/Williams_%R_30/1.1이상/1/259200] : 0.0\n",
            "[max_return_60min/Williams_%R_30/1.1미만/0/259200] : 79.35089369708372\n",
            "[확률/Williams_%R_30/1.1/259200] : 79.35089369708372\n",
            "---------END(89/Williams_%R_30)------------\n",
            "---------START(90/MFI_20)------------\n"
          ]
        },
        {
          "output_type": "stream",
          "name": "stderr",
          "text": [
            "100%|██████████| 4252/4252 [00:03<00:00, 1255.62it/s]\n"
          ]
        },
        {
          "output_type": "stream",
          "name": "stdout",
          "text": [
            "[max_return_60min/MFI_20/1.1이상/1/259200] : 0.0\n",
            "[max_return_60min/MFI_20/1.1미만/0/259200] : 79.35089369708372\n",
            "[확률/MFI_20/1.1/259200] : 79.35089369708372\n",
            "---------END(90/MFI_20)------------\n",
            "---------START(91/Momentum_10)------------\n"
          ]
        },
        {
          "output_type": "stream",
          "name": "stderr",
          "text": [
            "100%|██████████| 4252/4252 [00:03<00:00, 1258.39it/s]\n"
          ]
        },
        {
          "output_type": "stream",
          "name": "stdout",
          "text": [
            "[max_return_60min/Momentum_10/1.1이상/1/259200] : 15.498588899341486\n",
            "[max_return_60min/Momentum_10/1.1미만/0/259200] : 19.35559736594544\n",
            "[확률/Momentum_10/1.1/259200] : 34.85418626528693\n",
            "---------END(91/Momentum_10)------------\n",
            "---------START(92/ROC_10)------------\n"
          ]
        },
        {
          "output_type": "stream",
          "name": "stderr",
          "text": [
            "100%|██████████| 4252/4252 [00:03<00:00, 1283.20it/s]\n"
          ]
        },
        {
          "output_type": "stream",
          "name": "stdout",
          "text": [
            "[max_return_60min/ROC_10/1.1이상/1/259200] : 0.7055503292568204\n",
            "[max_return_60min/ROC_10/1.1미만/0/259200] : 76.95202257761053\n",
            "[확률/ROC_10/1.1/259200] : 77.65757290686736\n",
            "---------END(92/ROC_10)------------\n",
            "---------START(93/MFI_10)------------\n"
          ]
        },
        {
          "output_type": "stream",
          "name": "stderr",
          "text": [
            "100%|██████████| 4252/4252 [00:03<00:00, 1109.20it/s]\n"
          ]
        },
        {
          "output_type": "stream",
          "name": "stdout",
          "text": [
            "[max_return_60min/MFI_10/1.1이상/1/259200] : 0.0\n",
            "[max_return_60min/MFI_10/1.1미만/0/259200] : 79.35089369708372\n",
            "[확률/MFI_10/1.1/259200] : 79.35089369708372\n",
            "---------END(93/MFI_10)------------\n",
            "---------START(94/stoch_%d_20_7)------------\n"
          ]
        },
        {
          "output_type": "stream",
          "name": "stderr",
          "text": [
            "100%|██████████| 4252/4252 [00:04<00:00, 935.72it/s]\n"
          ]
        },
        {
          "output_type": "stream",
          "name": "stdout",
          "text": [
            "[max_return_60min/stoch_%d_20_7/1.1이상/1/259200] : 0.0\n",
            "[max_return_60min/stoch_%d_20_7/1.1미만/0/259200] : 79.35089369708372\n",
            "[확률/stoch_%d_20_7/1.1/259200] : 79.35089369708372\n",
            "---------END(94/stoch_%d_20_7)------------\n",
            "---------START(95/Elder_Force_Index_10)------------\n"
          ]
        },
        {
          "output_type": "stream",
          "name": "stderr",
          "text": [
            "100%|██████████| 4252/4252 [00:03<00:00, 1177.49it/s]\n"
          ]
        },
        {
          "output_type": "stream",
          "name": "stdout",
          "text": [
            "[max_return_60min/Elder_Force_Index_10/1.1이상/1/259200] : 0.0\n",
            "[max_return_60min/Elder_Force_Index_10/1.1미만/0/259200] : 79.35089369708372\n",
            "[확률/Elder_Force_Index_10/1.1/259200] : 79.35089369708372\n",
            "---------END(95/Elder_Force_Index_10)------------\n",
            "---------START(96/Elder_Force_Index_13)------------\n"
          ]
        },
        {
          "output_type": "stream",
          "name": "stderr",
          "text": [
            "100%|██████████| 4252/4252 [00:03<00:00, 1286.36it/s]\n"
          ]
        },
        {
          "output_type": "stream",
          "name": "stdout",
          "text": [
            "[max_return_60min/Elder_Force_Index_13/1.1이상/1/259200] : 20.649106302916277\n",
            "[max_return_60min/Elder_Force_Index_13/1.1미만/0/259200] : 0.0\n",
            "[확률/Elder_Force_Index_13/1.1/259200] : 20.649106302916277\n",
            "---------END(96/Elder_Force_Index_13)------------\n",
            "---------START(97/CCI_30)------------\n"
          ]
        },
        {
          "output_type": "stream",
          "name": "stderr",
          "text": [
            "100%|██████████| 4252/4252 [00:03<00:00, 1278.07it/s]\n"
          ]
        },
        {
          "output_type": "stream",
          "name": "stdout",
          "text": [
            "[max_return_60min/CCI_30/1.1이상/1/259200] : 0.0\n",
            "[max_return_60min/CCI_30/1.1미만/0/259200] : 79.35089369708372\n",
            "[확률/CCI_30/1.1/259200] : 79.35089369708372\n",
            "---------END(97/CCI_30)------------\n",
            "---------START(98/VR_20)------------\n"
          ]
        },
        {
          "output_type": "stream",
          "name": "stderr",
          "text": [
            "100%|██████████| 4252/4252 [00:04<00:00, 923.48it/s]\n"
          ]
        },
        {
          "output_type": "stream",
          "name": "stdout",
          "text": [
            "[max_return_60min/VR_20/1.1이상/1/259200] : 0.0\n",
            "[max_return_60min/VR_20/1.1미만/0/259200] : 79.35089369708372\n",
            "[확률/VR_20/1.1/259200] : 79.35089369708372\n",
            "---------END(98/VR_20)------------\n",
            "---------START(99/CMO_30)------------\n"
          ]
        },
        {
          "output_type": "stream",
          "name": "stderr",
          "text": [
            "100%|██████████| 4252/4252 [00:03<00:00, 1203.45it/s]\n"
          ]
        },
        {
          "output_type": "stream",
          "name": "stdout",
          "text": [
            "[max_return_60min/CMO_30/1.1이상/1/259200] : 0.0\n",
            "[max_return_60min/CMO_30/1.1미만/0/259200] : 79.35089369708372\n",
            "[확률/CMO_30/1.1/259200] : 79.35089369708372\n",
            "---------END(99/CMO_30)------------\n",
            "---------START(100/VR_10)------------\n"
          ]
        },
        {
          "output_type": "stream",
          "name": "stderr",
          "text": [
            "100%|██████████| 4252/4252 [00:03<00:00, 1294.13it/s]\n"
          ]
        },
        {
          "output_type": "stream",
          "name": "stdout",
          "text": [
            "[max_return_60min/VR_10/1.1이상/1/259200] : 0.0\n",
            "[max_return_60min/VR_10/1.1미만/0/259200] : 79.35089369708372\n",
            "[확률/VR_10/1.1/259200] : 79.35089369708372\n",
            "---------END(100/VR_10)------------\n",
            "---------START(101/CCI_40)------------\n"
          ]
        },
        {
          "output_type": "stream",
          "name": "stderr",
          "text": [
            "100%|██████████| 4252/4252 [00:03<00:00, 1299.27it/s]\n"
          ]
        },
        {
          "output_type": "stream",
          "name": "stdout",
          "text": [
            "[max_return_60min/CCI_40/1.1이상/1/259200] : 0.0\n",
            "[max_return_60min/CCI_40/1.1미만/0/259200] : 79.35089369708372\n",
            "[확률/CCI_40/1.1/259200] : 79.35089369708372\n",
            "---------END(101/CCI_40)------------\n",
            "---------START(102/CCI_10)------------\n"
          ]
        },
        {
          "output_type": "stream",
          "name": "stderr",
          "text": [
            "100%|██████████| 4252/4252 [00:03<00:00, 1170.46it/s]\n"
          ]
        },
        {
          "output_type": "stream",
          "name": "stdout",
          "text": [
            "[max_return_60min/CCI_10/1.1이상/1/259200] : 0.0\n",
            "[max_return_60min/CCI_10/1.1미만/0/259200] : 79.35089369708372\n",
            "[확률/CCI_10/1.1/259200] : 79.35089369708372\n",
            "---------END(102/CCI_10)------------\n",
            "---------START(103/supertrend_in_uptrend_14_2_10)------------\n"
          ]
        },
        {
          "output_type": "stream",
          "name": "stderr",
          "text": [
            "100%|██████████| 4252/4252 [00:03<00:00, 1297.00it/s]\n"
          ]
        },
        {
          "output_type": "stream",
          "name": "stdout",
          "text": [
            "[max_return_60min/supertrend_in_uptrend_14_2_10/1.1이상/1/259200] : 0.0\n",
            "[max_return_60min/supertrend_in_uptrend_14_2_10/1.1미만/0/259200] : 79.35089369708372\n",
            "[확률/supertrend_in_uptrend_14_2_10/1.1/259200] : 79.35089369708372\n",
            "---------END(103/supertrend_in_uptrend_14_2_10)------------\n",
            "---------START(104/Momentum_20)------------\n"
          ]
        },
        {
          "output_type": "stream",
          "name": "stderr",
          "text": [
            "100%|██████████| 4252/4252 [00:03<00:00, 1208.70it/s]\n"
          ]
        },
        {
          "output_type": "stream",
          "name": "stdout",
          "text": [
            "[max_return_60min/Momentum_20/1.1이상/1/259200] : 18.650047036688616\n",
            "[max_return_60min/Momentum_20/1.1미만/0/259200] : 5.338664158043273\n",
            "[확률/Momentum_20/1.1/259200] : 23.988711194731888\n",
            "---------END(104/Momentum_20)------------\n",
            "---------START(105/stoch_%k_21_5)------------\n"
          ]
        },
        {
          "output_type": "stream",
          "name": "stderr",
          "text": [
            "100%|██████████| 4252/4252 [00:03<00:00, 1303.08it/s]\n"
          ]
        },
        {
          "output_type": "stream",
          "name": "stdout",
          "text": [
            "[max_return_60min/stoch_%k_21_5/1.1이상/1/259200] : 0.0\n",
            "[max_return_60min/stoch_%k_21_5/1.1미만/0/259200] : 79.35089369708372\n",
            "[확률/stoch_%k_21_5/1.1/259200] : 79.35089369708372\n",
            "---------END(105/stoch_%k_21_5)------------\n",
            "---------START(106/stoch_%d_9_3)------------\n"
          ]
        },
        {
          "output_type": "stream",
          "name": "stderr",
          "text": [
            "100%|██████████| 4252/4252 [00:04<00:00, 1002.01it/s]\n"
          ]
        },
        {
          "output_type": "stream",
          "name": "stdout",
          "text": [
            "[max_return_60min/stoch_%d_9_3/1.1이상/1/259200] : 0.0\n",
            "[max_return_60min/stoch_%d_9_3/1.1미만/0/259200] : 79.35089369708372\n",
            "[확률/stoch_%d_9_3/1.1/259200] : 79.35089369708372\n",
            "---------END(106/stoch_%d_9_3)------------\n",
            "---------START(107/stoch_%d_14_3)------------\n"
          ]
        },
        {
          "output_type": "stream",
          "name": "stderr",
          "text": [
            "100%|██████████| 4252/4252 [00:03<00:00, 1289.29it/s]\n"
          ]
        },
        {
          "output_type": "stream",
          "name": "stdout",
          "text": [
            "[max_return_60min/stoch_%d_14_3/1.1이상/1/259200] : 0.0\n",
            "[max_return_60min/stoch_%d_14_3/1.1미만/0/259200] : 79.35089369708372\n",
            "[확률/stoch_%d_14_3/1.1/259200] : 79.35089369708372\n",
            "---------END(107/stoch_%d_14_3)------------\n",
            "---------START(108/CCI_20)------------\n"
          ]
        },
        {
          "output_type": "stream",
          "name": "stderr",
          "text": [
            "100%|██████████| 4252/4252 [00:03<00:00, 1309.79it/s]\n"
          ]
        },
        {
          "output_type": "stream",
          "name": "stdout",
          "text": [
            "[max_return_60min/CCI_20/1.1이상/1/259200] : 0.0\n",
            "[max_return_60min/CCI_20/1.1미만/0/259200] : 79.35089369708372\n",
            "[확률/CCI_20/1.1/259200] : 79.35089369708372\n",
            "---------END(108/CCI_20)------------\n",
            "---------START(109/stoch_%k_14_3)------------\n"
          ]
        },
        {
          "output_type": "stream",
          "name": "stderr",
          "text": [
            "100%|██████████| 4252/4252 [00:03<00:00, 1204.80it/s]\n"
          ]
        },
        {
          "output_type": "stream",
          "name": "stdout",
          "text": [
            "[max_return_60min/stoch_%k_14_3/1.1이상/1/259200] : 0.0\n",
            "[max_return_60min/stoch_%k_14_3/1.1미만/0/259200] : 79.35089369708372\n",
            "[확률/stoch_%k_14_3/1.1/259200] : 79.35089369708372\n",
            "---------END(109/stoch_%k_14_3)------------\n",
            "---------START(110/Elder_Force_Index_2)------------\n"
          ]
        },
        {
          "output_type": "stream",
          "name": "stderr",
          "text": [
            "100%|██████████| 4252/4252 [00:04<00:00, 944.52it/s]\n"
          ]
        },
        {
          "output_type": "stream",
          "name": "stdout",
          "text": [
            "[max_return_60min/Elder_Force_Index_2/1.1이상/1/259200] : 0.0\n",
            "[max_return_60min/Elder_Force_Index_2/1.1미만/0/259200] : 79.35089369708372\n",
            "[확률/Elder_Force_Index_2/1.1/259200] : 79.35089369708372\n",
            "---------END(110/Elder_Force_Index_2)------------\n",
            "---------START(111/Elder_Force_Index_5)------------\n"
          ]
        },
        {
          "output_type": "stream",
          "name": "stderr",
          "text": [
            "100%|██████████| 4252/4252 [00:03<00:00, 1298.86it/s]\n"
          ]
        },
        {
          "output_type": "stream",
          "name": "stdout",
          "text": [
            "[max_return_60min/Elder_Force_Index_5/1.1이상/1/259200] : 0.0\n",
            "[max_return_60min/Elder_Force_Index_5/1.1미만/0/259200] : 79.35089369708372\n",
            "[확률/Elder_Force_Index_5/1.1/259200] : 79.35089369708372\n",
            "---------END(111/Elder_Force_Index_5)------------\n",
            "---------START(112/stoch_%d_5_2)------------\n"
          ]
        },
        {
          "output_type": "stream",
          "name": "stderr",
          "text": [
            "100%|██████████| 4252/4252 [00:03<00:00, 1189.42it/s]\n"
          ]
        },
        {
          "output_type": "stream",
          "name": "stdout",
          "text": [
            "[max_return_60min/stoch_%d_5_2/1.1이상/1/259200] : 0.0\n",
            "[max_return_60min/stoch_%d_5_2/1.1미만/0/259200] : 79.35089369708372\n",
            "[확률/stoch_%d_5_2/1.1/259200] : 79.35089369708372\n",
            "---------END(112/stoch_%d_5_2)------------\n",
            "---------START(113/stoch_%k_5_2)------------\n"
          ]
        },
        {
          "output_type": "stream",
          "name": "stderr",
          "text": [
            "100%|██████████| 4252/4252 [00:03<00:00, 1275.33it/s]\n"
          ]
        },
        {
          "output_type": "stream",
          "name": "stdout",
          "text": [
            "[max_return_60min/stoch_%k_5_2/1.1이상/1/259200] : 0.0\n",
            "[max_return_60min/stoch_%k_5_2/1.1미만/0/259200] : 79.35089369708372\n",
            "[확률/stoch_%k_5_2/1.1/259200] : 79.35089369708372\n",
            "---------END(113/stoch_%k_5_2)------------\n",
            "---------START(114/Parabolic_SAR_0.08)------------\n"
          ]
        },
        {
          "output_type": "stream",
          "name": "stderr",
          "text": [
            "100%|██████████| 4252/4252 [00:04<00:00, 994.76it/s]\n"
          ]
        },
        {
          "output_type": "stream",
          "name": "stdout",
          "text": [
            "[max_return_60min/Parabolic_SAR_0.08/1.1이상/1/259200] : 0.0\n",
            "[max_return_60min/Parabolic_SAR_0.08/1.1미만/0/259200] : 79.35089369708372\n",
            "[확률/Parabolic_SAR_0.08/1.1/259200] : 79.35089369708372\n",
            "---------END(114/Parabolic_SAR_0.08)------------\n",
            "---------START(115/Williams_%R_20)------------\n"
          ]
        },
        {
          "output_type": "stream",
          "name": "stderr",
          "text": [
            "100%|██████████| 4252/4252 [00:03<00:00, 1279.31it/s]\n"
          ]
        },
        {
          "output_type": "stream",
          "name": "stdout",
          "text": [
            "[max_return_60min/Williams_%R_20/1.1이상/1/259200] : 0.0\n",
            "[max_return_60min/Williams_%R_20/1.1미만/0/259200] : 79.35089369708372\n",
            "[확률/Williams_%R_20/1.1/259200] : 79.35089369708372\n",
            "---------END(115/Williams_%R_20)------------\n",
            "---------START(116/supertrend_lower_50_5_5)------------\n"
          ]
        },
        {
          "output_type": "stream",
          "name": "stderr",
          "text": [
            "100%|██████████| 4252/4252 [00:03<00:00, 1275.46it/s]\n"
          ]
        },
        {
          "output_type": "stream",
          "name": "stdout",
          "text": [
            "[max_return_60min/supertrend_lower_50_5_5/1.1이상/1/259200] : 0.0\n",
            "[max_return_60min/supertrend_lower_50_5_5/1.1미만/0/259200] : 79.35089369708372\n",
            "[확률/supertrend_lower_50_5_5/1.1/259200] : 79.35089369708372\n",
            "---------END(116/supertrend_lower_50_5_5)------------\n",
            "---------START(117/supertrend_in_uptrend_50_5_5)------------\n"
          ]
        },
        {
          "output_type": "stream",
          "name": "stderr",
          "text": [
            "100%|██████████| 4252/4252 [00:03<00:00, 1304.77it/s]\n"
          ]
        },
        {
          "output_type": "stream",
          "name": "stdout",
          "text": [
            "[max_return_60min/supertrend_in_uptrend_50_5_5/1.1이상/1/259200] : 0.0\n",
            "[max_return_60min/supertrend_in_uptrend_50_5_5/1.1미만/0/259200] : 79.35089369708372\n",
            "[확률/supertrend_in_uptrend_50_5_5/1.1/259200] : 79.35089369708372\n",
            "---------END(117/supertrend_in_uptrend_50_5_5)------------\n",
            "---------START(118/Williams_%R_10)------------\n"
          ]
        },
        {
          "output_type": "stream",
          "name": "stderr",
          "text": [
            "100%|██████████| 4252/4252 [00:04<00:00, 933.29it/s]\n"
          ]
        },
        {
          "output_type": "stream",
          "name": "stdout",
          "text": [
            "[max_return_60min/Williams_%R_10/1.1이상/1/259200] : 0.0\n",
            "[max_return_60min/Williams_%R_10/1.1미만/0/259200] : 79.35089369708372\n",
            "[확률/Williams_%R_10/1.1/259200] : 79.35089369708372\n",
            "---------END(118/Williams_%R_10)------------\n",
            "---------START(119/supertrend_upper_50_5_5)------------\n"
          ]
        },
        {
          "output_type": "stream",
          "name": "stderr",
          "text": [
            "100%|██████████| 4252/4252 [00:03<00:00, 1304.19it/s]\n"
          ]
        },
        {
          "output_type": "stream",
          "name": "stdout",
          "text": [
            "[max_return_60min/supertrend_upper_50_5_5/1.1이상/1/259200] : 0.0\n",
            "[max_return_60min/supertrend_upper_50_5_5/1.1미만/0/259200] : 79.35089369708372\n",
            "[확률/supertrend_upper_50_5_5/1.1/259200] : 79.35089369708372\n",
            "---------END(119/supertrend_upper_50_5_5)------------\n",
            "---------START(120/RSI_40)------------\n"
          ]
        },
        {
          "output_type": "stream",
          "name": "stderr",
          "text": [
            "100%|██████████| 4252/4252 [00:04<00:00, 928.00it/s]\n"
          ]
        },
        {
          "output_type": "stream",
          "name": "stdout",
          "text": [
            "[max_return_60min/RSI_40/1.1이상/1/259200] : 0.023518344308560677\n",
            "[max_return_60min/RSI_40/1.1미만/0/259200] : 79.28033866415805\n",
            "[확률/RSI_40/1.1/259200] : 79.30385700846661\n",
            "---------END(120/RSI_40)------------\n",
            "---------START(121/RSI_30)------------\n"
          ]
        },
        {
          "output_type": "stream",
          "name": "stderr",
          "text": [
            "100%|██████████| 4252/4252 [00:03<00:00, 1235.78it/s]\n"
          ]
        },
        {
          "output_type": "stream",
          "name": "stdout",
          "text": [
            "[max_return_60min/RSI_30/1.1이상/1/259200] : 0.0\n",
            "[max_return_60min/RSI_30/1.1미만/0/259200] : 79.35089369708372\n",
            "[확률/RSI_30/1.1/259200] : 79.35089369708372\n",
            "---------END(121/RSI_30)------------\n",
            "---------START(122/RSI_20)------------\n"
          ]
        },
        {
          "output_type": "stream",
          "name": "stderr",
          "text": [
            "100%|██████████| 4252/4252 [00:04<00:00, 997.91it/s]\n"
          ]
        },
        {
          "output_type": "stream",
          "name": "stdout",
          "text": [
            "[max_return_60min/RSI_20/1.1이상/1/259200] : 0.0\n",
            "[max_return_60min/RSI_20/1.1미만/0/259200] : 79.35089369708372\n",
            "[확률/RSI_20/1.1/259200] : 79.35089369708372\n",
            "---------END(122/RSI_20)------------\n",
            "---------START(123/RSI_10)------------\n"
          ]
        },
        {
          "output_type": "stream",
          "name": "stderr",
          "text": [
            "100%|██████████| 4252/4252 [00:03<00:00, 1253.06it/s]\n"
          ]
        },
        {
          "output_type": "stream",
          "name": "stdout",
          "text": [
            "[max_return_60min/RSI_10/1.1이상/1/259200] : 0.0\n",
            "[max_return_60min/RSI_10/1.1미만/0/259200] : 79.35089369708372\n",
            "[확률/RSI_10/1.1/259200] : 79.35089369708372\n",
            "---------END(123/RSI_10)------------\n",
            "---------START(124/atr)------------\n"
          ]
        },
        {
          "output_type": "stream",
          "name": "stderr",
          "text": [
            "100%|██████████| 4252/4252 [00:03<00:00, 1272.43it/s]\n"
          ]
        },
        {
          "output_type": "stream",
          "name": "stdout",
          "text": [
            "[max_return_60min/atr/1.1이상/1/259200] : 3.5042333019755407\n",
            "[max_return_60min/atr/1.1미만/0/259200] : 71.49576669802445\n",
            "[확률/atr/1.1/259200] : 75.0\n",
            "---------END(124/atr)------------\n",
            "---------START(125/RSI_50)------------\n"
          ]
        },
        {
          "output_type": "stream",
          "name": "stderr",
          "text": [
            "100%|██████████| 4252/4252 [00:03<00:00, 1301.72it/s]\n"
          ]
        },
        {
          "output_type": "stream",
          "name": "stdout",
          "text": [
            "[max_return_60min/RSI_50/1.1이상/1/259200] : 0.023518344308560677\n",
            "[max_return_60min/RSI_50/1.1미만/0/259200] : 79.28033866415805\n",
            "[확률/RSI_50/1.1/259200] : 79.30385700846661\n",
            "---------END(125/RSI_50)------------\n",
            "---------START(126/Relative_Vigor_Index_10)------------\n"
          ]
        },
        {
          "output_type": "stream",
          "name": "stderr",
          "text": [
            "100%|██████████| 4252/4252 [00:04<00:00, 959.60it/s]\n"
          ]
        },
        {
          "output_type": "stream",
          "name": "stdout",
          "text": [
            "[max_return_60min/Relative_Vigor_Index_10/1.1이상/1/259200] : 0.0\n",
            "[max_return_60min/Relative_Vigor_Index_10/1.1미만/0/259200] : 79.35089369708372\n",
            "[확률/Relative_Vigor_Index_10/1.1/259200] : 79.35089369708372\n",
            "---------END(126/Relative_Vigor_Index_10)------------\n",
            "---------START(127/ichimoku_base_200)------------\n"
          ]
        },
        {
          "output_type": "stream",
          "name": "stderr",
          "text": [
            "100%|██████████| 4252/4252 [00:03<00:00, 1312.64it/s]\n"
          ]
        },
        {
          "output_type": "stream",
          "name": "stdout",
          "text": [
            "[max_return_60min/ichimoku_base_200/1.1이상/1/259200] : 0.0\n",
            "[max_return_60min/ichimoku_base_200/1.1미만/0/259200] : 79.35089369708372\n",
            "[확률/ichimoku_base_200/1.1/259200] : 79.35089369708372\n",
            "---------END(127/ichimoku_base_200)------------\n",
            "---------START(128/Relative_Vigor_Index_50)------------\n"
          ]
        },
        {
          "output_type": "stream",
          "name": "stderr",
          "text": [
            "100%|██████████| 4252/4252 [00:03<00:00, 1159.24it/s]\n"
          ]
        },
        {
          "output_type": "stream",
          "name": "stdout",
          "text": [
            "[max_return_60min/Relative_Vigor_Index_50/1.1이상/1/259200] : 0.07055503292568203\n",
            "[max_return_60min/Relative_Vigor_Index_50/1.1미만/0/259200] : 79.25682031984948\n",
            "[확률/Relative_Vigor_Index_50/1.1/259200] : 79.32737535277516\n",
            "---------END(128/Relative_Vigor_Index_50)------------\n",
            "---------START(129/Relative_Vigor_Index_20)------------\n"
          ]
        },
        {
          "output_type": "stream",
          "name": "stderr",
          "text": [
            "100%|██████████| 4252/4252 [00:03<00:00, 1304.61it/s]\n"
          ]
        },
        {
          "output_type": "stream",
          "name": "stdout",
          "text": [
            "[max_return_60min/Relative_Vigor_Index_20/1.1이상/1/259200] : 0.0\n",
            "[max_return_60min/Relative_Vigor_Index_20/1.1미만/0/259200] : 79.35089369708372\n",
            "[확률/Relative_Vigor_Index_20/1.1/259200] : 79.35089369708372\n",
            "---------END(129/Relative_Vigor_Index_20)------------\n",
            "---------START(130/Relative_Vigor_Index_30)------------\n"
          ]
        },
        {
          "output_type": "stream",
          "name": "stderr",
          "text": [
            "100%|██████████| 4252/4252 [00:04<00:00, 971.41it/s] \n"
          ]
        },
        {
          "output_type": "stream",
          "name": "stdout",
          "text": [
            "[max_return_60min/Relative_Vigor_Index_30/1.1이상/1/259200] : 0.0\n",
            "[max_return_60min/Relative_Vigor_Index_30/1.1미만/0/259200] : 79.35089369708372\n",
            "[확률/Relative_Vigor_Index_30/1.1/259200] : 79.35089369708372\n",
            "---------END(130/Relative_Vigor_Index_30)------------\n",
            "---------START(131/Relative_Vigor_Index_40)------------\n"
          ]
        },
        {
          "output_type": "stream",
          "name": "stderr",
          "text": [
            "100%|██████████| 4252/4252 [00:03<00:00, 1308.61it/s]\n"
          ]
        },
        {
          "output_type": "stream",
          "name": "stdout",
          "text": [
            "[max_return_60min/Relative_Vigor_Index_40/1.1이상/1/259200] : 0.023518344308560677\n",
            "[max_return_60min/Relative_Vigor_Index_40/1.1미만/0/259200] : 79.28033866415805\n",
            "[확률/Relative_Vigor_Index_40/1.1/259200] : 79.30385700846661\n",
            "---------END(131/Relative_Vigor_Index_40)------------\n",
            "---------START(132/ichimoku_base_52)------------\n"
          ]
        },
        {
          "output_type": "stream",
          "name": "stderr",
          "text": [
            "100%|██████████| 4252/4252 [00:03<00:00, 1139.55it/s]\n"
          ]
        },
        {
          "output_type": "stream",
          "name": "stdout",
          "text": [
            "[max_return_60min/ichimoku_base_52/1.1이상/1/259200] : 0.0\n",
            "[max_return_60min/ichimoku_base_52/1.1미만/0/259200] : 79.35089369708372\n",
            "[확률/ichimoku_base_52/1.1/259200] : 79.35089369708372\n",
            "---------END(132/ichimoku_base_52)------------\n",
            "---------START(133/ichimoku_conversion_26)------------\n"
          ]
        },
        {
          "output_type": "stream",
          "name": "stderr",
          "text": [
            "100%|██████████| 4252/4252 [00:04<00:00, 945.54it/s]\n"
          ]
        },
        {
          "output_type": "stream",
          "name": "stdout",
          "text": [
            "[max_return_60min/ichimoku_conversion_26/1.1이상/1/259200] : 0.0\n",
            "[max_return_60min/ichimoku_conversion_26/1.1미만/0/259200] : 79.35089369708372\n",
            "[확률/ichimoku_conversion_26/1.1/259200] : 79.35089369708372\n",
            "---------END(133/ichimoku_conversion_26)------------\n",
            "---------START(134/ichimoku_base_26)------------\n"
          ]
        },
        {
          "output_type": "stream",
          "name": "stderr",
          "text": [
            "100%|██████████| 4252/4252 [00:05<00:00, 837.55it/s]\n"
          ]
        },
        {
          "output_type": "stream",
          "name": "stdout",
          "text": [
            "[max_return_60min/ichimoku_base_26/1.1이상/1/259200] : 0.0\n",
            "[max_return_60min/ichimoku_base_26/1.1미만/0/259200] : 79.35089369708372\n",
            "[확률/ichimoku_base_26/1.1/259200] : 79.35089369708372\n",
            "---------END(134/ichimoku_base_26)------------\n",
            "---------START(135/ichimoku_base_100)------------\n"
          ]
        },
        {
          "output_type": "stream",
          "name": "stderr",
          "text": [
            "100%|██████████| 4252/4252 [00:04<00:00, 965.20it/s]"
          ]
        },
        {
          "output_type": "stream",
          "name": "stdout",
          "text": [
            "[max_return_60min/ichimoku_base_100/1.1이상/1/259200] : 0.0\n",
            "[max_return_60min/ichimoku_base_100/1.1미만/0/259200] : 79.35089369708372\n",
            "[확률/ichimoku_base_100/1.1/259200] : 79.35089369708372\n",
            "---------END(135/ichimoku_base_100)------------\n"
          ]
        },
        {
          "output_type": "stream",
          "name": "stderr",
          "text": [
            "\n"
          ]
        }
      ]
    }
  ]
}