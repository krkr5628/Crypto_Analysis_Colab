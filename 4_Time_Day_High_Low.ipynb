{
  "nbformat": 4,
  "nbformat_minor": 0,
  "metadata": {
    "colab": {
      "provenance": [],
      "authorship_tag": "ABX9TyMZqyhtdsVJCvGisj/0pOjb"
    },
    "kernelspec": {
      "name": "python3",
      "display_name": "Python 3"
    },
    "language_info": {
      "name": "python"
    }
  },
  "cells": [
    {
      "cell_type": "markdown",
      "source": [
        "######################\n",
        "\n",
        "**시간대 분석**\n",
        "######################"
      ],
      "metadata": {
        "id": "v4nb7WfM8AY4"
      }
    },
    {
      "cell_type": "code",
      "execution_count": null,
      "metadata": {
        "id": "Xwc6PVzm7alR"
      },
      "outputs": [],
      "source": [
        "import numpy as np\n",
        "import pandas as pd\n",
        "import matplotlib.pyplot as plt\n",
        "from sklearn.impute import SimpleImputer"
      ]
    },
    {
      "cell_type": "code",
      "source": [
        "from google.colab import drive\n",
        "drive.mount('/content/drive')"
      ],
      "metadata": {
        "id": "7O1zOYe_87Ll"
      },
      "execution_count": null,
      "outputs": []
    },
    {
      "cell_type": "code",
      "source": [
        "# Load the dataset from Kaggle\n",
        "file_path1 = '/content/drive/MyDrive/Data/SOL60_INDICATOR3'\n",
        "data = pd.read_csv(file_path1)\n",
        "\n",
        "# Display the first few rows of the dataset to ensure it is loaded correctly\n",
        "data.head()"
      ],
      "metadata": {
        "id": "WOnfSEUF8KEK"
      },
      "execution_count": null,
      "outputs": []
    },
    {
      "cell_type": "code",
      "source": [
        "data.columns"
      ],
      "metadata": {
        "id": "oV2AfFsi8V8H"
      },
      "execution_count": null,
      "outputs": []
    },
    {
      "cell_type": "code",
      "source": [
        "# 사용하지 않을 열 제외\n",
        "data = data.drop(columns=['Unnamed: 0', 'Unnamed: 0.1'])"
      ],
      "metadata": {
        "id": "5mfRR0BA8YSN"
      },
      "execution_count": null,
      "outputs": []
    },
    {
      "cell_type": "code",
      "source": [
        "# 시간 관련 열 변환 함수\n",
        "def convert_time_features(data):\n",
        "    # open_time 열이 datetime 형식이 아닌 경우 변환\n",
        "    if not np.issubdtype(data['open_time'].dtype, np.datetime64):\n",
        "        data['open_time'] = pd.to_datetime(data['open_time'])\n",
        "\n",
        "    # time 열을 분 단위로 변환\n",
        "    data['time'] = data['open_time'].dt.hour * 60 + data['open_time'].dt.minute\n",
        "\n",
        "    # 사용하지 않을 열 제외\n",
        "    data = data.drop(columns=['open_time'])\n",
        "\n",
        "    return data\n",
        "# 시간 관련 열 변환\n",
        "data = convert_time_features(data)\n",
        "data.head()"
      ],
      "metadata": {
        "id": "W3PN3WaE8Rx9"
      },
      "execution_count": null,
      "outputs": []
    },
    {
      "cell_type": "code",
      "source": [
        "# 무한대 값을 NaN으로 대체\n",
        "data.replace([np.inf, -np.inf], np.nan, inplace=True)\n",
        "\n",
        "# NaN 값을 평균으로 대체\n",
        "imputer = SimpleImputer(strategy='mean')\n",
        "data_imputed = imputer.fit_transform(data)\n",
        "\n",
        "# numpy 배열을 다시 DataFrame으로 변환\n",
        "data = pd.DataFrame(data_imputed, columns=data.columns)\n",
        "\n",
        "data.head()"
      ],
      "metadata": {
        "id": "X0noY8Ry8SUd"
      },
      "execution_count": null,
      "outputs": []
    },
    {
      "cell_type": "code",
      "source": [
        "# time 열을 기준으로 그룹화하여 필요한 계산 수행\n",
        "results = data.groupby('time').agg(\n",
        "    total_rows=('max_return_60min', 'size'),\n",
        "    count_above_1_1=('max_return_60min', lambda x: (x >= 1.1).sum())\n",
        ")\n",
        "\n",
        "# 비율 계산\n",
        "results['percentage_above_1_1'] = (results['count_above_1_1'] / results['total_rows']) * 100\n",
        "\n",
        "# 결과 출력\n",
        "results = results.reset_index()"
      ],
      "metadata": {
        "id": "ufhP79H38URn"
      },
      "execution_count": null,
      "outputs": []
    },
    {
      "cell_type": "code",
      "source": [
        "# 시각화\n",
        "plt.figure(figsize=(10, 6))\n",
        "plt.plot(results['time'], results['percentage_above_1_1'], marker='o', linestyle='-')\n",
        "plt.title('Percentage of max_return_60min >= 1.1 over Time')\n",
        "plt.xlabel('Time')\n",
        "plt.ylabel('Percentage of max_return_60min >= 1.1')\n",
        "plt.xticks(rotation=45)\n",
        "plt.grid(True)\n",
        "plt.tight_layout()\n",
        "plt.show()"
      ],
      "metadata": {
        "id": "ldiFs7qe8ewA"
      },
      "execution_count": null,
      "outputs": []
    },
    {
      "cell_type": "code",
      "source": [
        "# time 값을 시-분 형식으로 변환하는 함수\n",
        "def convert_minutes_to_time(minutes):\n",
        "    hours = minutes // 60\n",
        "    mins = minutes % 60\n",
        "    return f\"{int(hours):02}:{int(mins):02}\"\n",
        "\n",
        "# time 열을 기준으로 그룹화하여 필요한 계산 수행\n",
        "results = data.groupby('time').agg(\n",
        "    total_rows=('max_return_60min', 'size'),\n",
        "    count_above_1_1=('max_return_60min', lambda x: (x >= 1.1).sum())\n",
        ")\n",
        "\n",
        "# 비율 계산\n",
        "results['percentage_above_1_1'] = (results['count_above_1_1'] / results['total_rows']) * 100\n",
        "\n",
        "# time 값을 시-분 형식으로 변환\n",
        "results = results.reset_index()\n",
        "results['time'] = results['time'].apply(convert_minutes_to_time)"
      ],
      "metadata": {
        "id": "32BxA_zk8i8A"
      },
      "execution_count": null,
      "outputs": []
    },
    {
      "cell_type": "code",
      "source": [
        "# time 열을 기준으로 그룹화하여 필요한 계산 수행\n",
        "results = data.groupby('time').agg(\n",
        "    total_rows=('max_return_60min', 'size'),\n",
        "    count_above_1_1=('max_return_60min', lambda x: (x >= 1.1).sum())\n",
        ")\n",
        "\n",
        "# 비율 계산\n",
        "results['percentage_above_1_1'] = (results['count_above_1_1'] / results['total_rows']) * 100\n",
        "\n",
        "# 결과 출력\n",
        "results = results.reset_index()\n",
        "\n",
        "# 슬라이딩 윈도우의 크기 설정 (예: 60분)\n",
        "window_size = 60\n",
        "\n",
        "# 슬라이딩 윈도우 평균 계산\n",
        "results['rolling_mean'] = results['percentage_above_1_1'].rolling(window=window_size // 10, min_periods=1).mean()\n",
        "\n",
        "# 임계값 설정\n",
        "threshold = 33  # 여기서 임계값을 설정하세요\n",
        "\n",
        "# 임계값 이상의 구간 필터링\n",
        "high_prob_zones = results[results['rolling_mean'] >= threshold]\n",
        "\n",
        "# 연속된 구간의 시작과 끝을 식별\n",
        "high_prob_zones['group'] = (high_prob_zones['time'].diff() > 10).cumsum()\n",
        "\n",
        "# 각 그룹의 시작과 끝 시간 구하기\n",
        "grouped_zones = high_prob_zones.groupby('group').agg(\n",
        "    start_time=('time', 'first'),\n",
        "    end_time=('time', 'last')\n",
        ").reset_index()\n",
        "\n",
        "# 시간축 이동\n",
        "shift_point = 200\n",
        "before_shift = results[results['time'] < shift_point].copy()\n",
        "after_shift = results[results['time'] >= shift_point].copy()\n",
        "\n",
        "before_shift['shifted_time'] = before_shift['time'] + 1440\n",
        "after_shift['shifted_time'] = after_shift['time']\n",
        "\n",
        "results_shifted = pd.concat([after_shift, before_shift]).reset_index(drop=True)\n",
        "\n",
        "# 시각화\n",
        "plt.figure(figsize=(12, 6))\n",
        "plt.plot(results_shifted['shifted_time'], results_shifted['percentage_above_1_1'], marker='o', linestyle='-', label='Percentage over Time')\n",
        "plt.plot(results_shifted['shifted_time'], results_shifted['rolling_mean'], linestyle='-', color='orange', label='Rolling Mean')\n",
        "\n",
        "# 임계값 선 추가\n",
        "plt.axhline(y=threshold, color='purple', linestyle='-', label=f'Threshold {threshold}%')\n",
        "\n",
        "# 영역 색칠\n",
        "plt.fill_between(results_shifted['shifted_time'], threshold, results_shifted['percentage_above_1_1'], where=(results_shifted['percentage_above_1_1'] >= threshold), interpolate=True, color='purple', alpha=0.3)\n",
        "\n",
        "# 높은 확률 구간에서 시작과 끝 구간만 표시\n",
        "for _, row in grouped_zones.iterrows():\n",
        "    if row['start_time'] < shift_point:\n",
        "        shifted_start_time = row['start_time'] + 1440\n",
        "    else:\n",
        "        shifted_start_time = row['start_time']\n",
        "    if row['end_time'] < shift_point:\n",
        "        shifted_end_time = row['end_time'] + 1440\n",
        "    else:\n",
        "        shifted_end_time = row['end_time']\n",
        "    plt.axvline(x=shifted_start_time, color='red', linestyle='--', label='Start Time' if row['start_time'] == grouped_zones['start_time'].iloc[0] else \"\")\n",
        "    plt.axvline(x=shifted_end_time, color='green', linestyle='--', label='End Time' if row['end_time'] == grouped_zones['end_time'].iloc[0] else \"\")\n",
        "\n",
        "# 0 지점을 나타내는 세로선 추가\n",
        "plt.axvline(x=shift_point, color='blue', linestyle=':', label='Midnight Transition')\n",
        "\n",
        "plt.title('Percentage of max_return_60min >= 1.1 over Time')\n",
        "plt.xlabel('Time (minutes)')\n",
        "plt.ylabel('Percentage of max_return_60min >= 1.1')\n",
        "plt.xticks(rotation=45)\n",
        "plt.xlim(shift_point, 1440 + shift_point)\n",
        "plt.xticks(np.arange(shift_point, 1440 + shift_point + 1, 100), labels=[str(x % 1440) for x in np.arange(shift_point, 1440 + shift_point + 1, 100)])\n",
        "plt.xticks(list(plt.xticks()[0]) + [0], labels=list(plt.xticks()[1]) + ['0'])  # 0을 x축에 추가\n",
        "plt.grid(True)\n",
        "plt.legend()\n",
        "plt.tight_layout()\n",
        "plt.show()\n",
        "\n",
        "# 분을 시-분 형식으로 변환하는 함수\n",
        "def convert_minutes_to_time(minutes):\n",
        "    hours = minutes // 60\n",
        "    mins = minutes % 60\n",
        "    return f\"{int(hours):02}:{int(mins):02}\"\n",
        "\n",
        "# 한국 시간으로 변환하는 함수\n",
        "def convert_to_kst(utc_minutes):\n",
        "    kst_minutes = (utc_minutes + 540) % 1440  # 한국 시간은 UTC+9 (540분)\n",
        "    return convert_minutes_to_time(kst_minutes)\n",
        "\n",
        "# 높은 확률 구간 시작과 끝 값 출력\n",
        "print(f\"High probability zones above {threshold}% (start_time, end_time):\")\n",
        "for _, row in grouped_zones.iterrows():\n",
        "    start_time_utc = convert_minutes_to_time(row['start_time'])\n",
        "    end_time_utc = convert_minutes_to_time(row['end_time'])\n",
        "    start_time_kst = convert_to_kst(row['start_time'])\n",
        "    end_time_kst = convert_to_kst(row['end_time'])\n",
        "    print(f\"Start: {start_time_utc} (KST: {start_time_kst}), End: {end_time_utc} (KST: {end_time_kst})\")"
      ],
      "metadata": {
        "id": "qLirzV1v8jnu"
      },
      "execution_count": null,
      "outputs": []
    },
    {
      "cell_type": "markdown",
      "source": [
        "######################\n",
        "\n",
        "**요일분석**\n",
        "######################"
      ],
      "metadata": {
        "id": "YOYHb5wV8Dta"
      }
    },
    {
      "cell_type": "code",
      "source": [
        "import numpy as np\n",
        "import pandas as pd\n",
        "import matplotlib.pyplot as plt\n",
        "from sklearn.impute import SimpleImputer"
      ],
      "metadata": {
        "id": "t1KnZsSI8Ego"
      },
      "execution_count": null,
      "outputs": []
    },
    {
      "cell_type": "code",
      "source": [
        "from google.colab import drive\n",
        "drive.mount('/content/drive')"
      ],
      "metadata": {
        "id": "T2J7gA2v88tU"
      },
      "execution_count": null,
      "outputs": []
    },
    {
      "cell_type": "code",
      "source": [
        "# Load the dataset from Kaggle\n",
        "file_path1 = '/content/drive/MyDrive/Data/SOL60_INDICATOR3'\n",
        "data = pd.read_csv(file_path1)\n",
        "\n",
        "# Display the first few rows of the dataset to ensure it is loaded correctly\n",
        "data.head()"
      ],
      "metadata": {
        "id": "lbSsHuGE8vHM"
      },
      "execution_count": null,
      "outputs": []
    },
    {
      "cell_type": "code",
      "source": [
        "data.columns"
      ],
      "metadata": {
        "id": "Ra2rlzTf8xYm"
      },
      "execution_count": null,
      "outputs": []
    },
    {
      "cell_type": "code",
      "source": [
        "# 사용하지 않을 열 제외\n",
        "data = data.drop(columns=['Unnamed: 0', 'Unnamed: 0.1'])"
      ],
      "metadata": {
        "id": "2o4r8wSo8ywD"
      },
      "execution_count": null,
      "outputs": []
    },
    {
      "cell_type": "code",
      "source": [
        "# 시간 관련 열 변환 함수\n",
        "def convert_time_features(data):\n",
        "    # open_time 열이 datetime 형식이 아닌 경우 변환\n",
        "    if not np.issubdtype(data['open_time'].dtype, np.datetime64):\n",
        "        data['open_time'] = pd.to_datetime(data['open_time'])\n",
        "\n",
        "    # 요일 추출하여 data_day 변수에 저장\n",
        "    data_day = data['open_time'].dt.day_name()\n",
        "\n",
        "    # time 열을 분 단위로 변환\n",
        "    data['time'] = data['open_time'].dt.hour * 60 + data['open_time'].dt.minute\n",
        "\n",
        "    # 사용하지 않을 열 제외\n",
        "    data = data.drop(columns=['open_time'])\n",
        "\n",
        "    # 무한대 값을 NaN으로 대체\n",
        "    data.replace([np.inf, -np.inf], np.nan, inplace=True)\n",
        "\n",
        "    # NaN 값을 평균으로 대체\n",
        "    imputer = SimpleImputer(strategy='mean')\n",
        "    data_imputed = imputer.fit_transform(data)\n",
        "\n",
        "    # numpy 배열을 다시 DataFrame으로 변환\n",
        "    data = pd.DataFrame(data_imputed, columns=data.columns)\n",
        "\n",
        "    data['day'] = data_day\n",
        "\n",
        "    return data\n",
        "# 시간 관련 열 변환\n",
        "data = convert_time_features(data)\n",
        "data.head()"
      ],
      "metadata": {
        "id": "kHKxYe6E9DfH"
      },
      "execution_count": null,
      "outputs": []
    },
    {
      "cell_type": "code",
      "source": [
        "# 그룹화하여 집계 계산\n",
        "results = data.groupby('day').agg(\n",
        "    total_rows=('max_return_60min', 'size'),\n",
        "    count_above_1_1=('max_return_60min', lambda x: (x >= 1.1).sum())\n",
        ")\n",
        "\n",
        "# 비율 계산\n",
        "results['percentage_above_1_1'] = (results['count_above_1_1'] / results['total_rows']) * 100\n",
        "\n",
        "# 결과 출력\n",
        "print(results)"
      ],
      "metadata": {
        "id": "54wjxMBq9I7E"
      },
      "execution_count": null,
      "outputs": []
    },
    {
      "cell_type": "code",
      "source": [
        "# 요일 순서 정렬\n",
        "ordered_days = [\"Monday\", \"Tuesday\", \"Wednesday\", \"Thursday\", \"Friday\", \"Saturday\", \"Sunday\"]\n",
        "results = results.reindex(ordered_days)\n",
        "\n",
        "# 결과 출력\n",
        "print(results)\n",
        "\n",
        "# 시각화\n",
        "fig, ax = plt.subplots(figsize=(10, 6))\n",
        "\n",
        "# 막대 그래프 생성\n",
        "results['percentage_above_1_1'].plot(kind='bar', ax=ax, color='skyblue', edgecolor='black')\n",
        "\n",
        "# 그래프 제목 및 축 레이블 설정\n",
        "ax.set_title('Percentage of max_return_60min >= 1.1 by Day of Week')\n",
        "ax.set_xlabel('Day of Week')\n",
        "ax.set_ylabel('Percentage (%)')\n",
        "ax.set_xticklabels(ordered_days, rotation=45, ha='right')\n",
        "\n",
        "# 값 레이블 추가\n",
        "for i in ax.containers:\n",
        "    ax.bar_label(i, fmt='%.1f%%')\n",
        "\n",
        "# 그래프 출력\n",
        "plt.tight_layout()\n",
        "plt.show()"
      ],
      "metadata": {
        "id": "ue1ihdM59QKr"
      },
      "execution_count": null,
      "outputs": []
    },
    {
      "cell_type": "code",
      "source": [],
      "metadata": {
        "id": "rld245vu9R5v"
      },
      "execution_count": null,
      "outputs": []
    },
    {
      "cell_type": "markdown",
      "source": [
        "######################\n",
        "\n",
        "**변동에 대한 최대 하락 구간의 분포**\n",
        "######################"
      ],
      "metadata": {
        "id": "FYZe8Mhj8EFj"
      }
    },
    {
      "cell_type": "code",
      "source": [
        "pip install mplfinance"
      ],
      "metadata": {
        "id": "UIbihd7Q9W34"
      },
      "execution_count": null,
      "outputs": []
    },
    {
      "cell_type": "code",
      "source": [
        "import numpy as np\n",
        "import pandas as pd\n",
        "import matplotlib.pyplot as plt\n",
        "from sklearn.impute import SimpleImputer\n",
        "import mplfinance as mpf"
      ],
      "metadata": {
        "id": "1y6LFqox80h-"
      },
      "execution_count": null,
      "outputs": []
    },
    {
      "cell_type": "code",
      "source": [
        "from google.colab import drive\n",
        "drive.mount('/content/drive')"
      ],
      "metadata": {
        "id": "BTSPvHs389R2"
      },
      "execution_count": null,
      "outputs": []
    },
    {
      "cell_type": "code",
      "source": [
        "# Load the dataset from Kaggle\n",
        "file_path1 = '/content/drive/MyDrive/Data/SOL60_INDICATOR3'\n",
        "data = pd.read_csv(file_path1)\n",
        "\n",
        "# Display the first few rows of the dataset to ensure it is loaded correctly\n",
        "data.head()"
      ],
      "metadata": {
        "id": "mteCD054818a"
      },
      "execution_count": null,
      "outputs": []
    },
    {
      "cell_type": "code",
      "source": [
        "data.columns"
      ],
      "metadata": {
        "id": "02MmVENu83H5"
      },
      "execution_count": null,
      "outputs": []
    },
    {
      "cell_type": "code",
      "source": [
        "# 사용하지 않을 열 제외\n",
        "data = data.drop(columns=['Unnamed: 0', 'Unnamed: 0.1'])"
      ],
      "metadata": {
        "id": "dRVQ5FTK84KF"
      },
      "execution_count": null,
      "outputs": []
    },
    {
      "cell_type": "code",
      "source": [
        "# 시간 관련 열 변환 함수\n",
        "def convert_time_features(data):\n",
        "    # open_time 열이 datetime 형식이 아닌 경우 변환\n",
        "    if not np.issubdtype(data['open_time'].dtype, np.datetime64):\n",
        "        data['open_time'] = pd.to_datetime(data['open_time'])\n",
        "\n",
        "    # 요일 추출하여 data_day 변수에 저장\n",
        "    data_day = data['open_time'].dt.day_name()\n",
        "\n",
        "    # time 열을 분 단위로 변환\n",
        "    data['time'] = data['open_time'].dt.hour * 60 + data['open_time'].dt.minute\n",
        "\n",
        "    # 사용하지 않을 열 제외\n",
        "    data = data.drop(columns=['open_time'])\n",
        "\n",
        "    # 무한대 값을 NaN으로 대체\n",
        "    data.replace([np.inf, -np.inf], np.nan, inplace=True)\n",
        "\n",
        "    # NaN 값을 평균으로 대체\n",
        "    imputer = SimpleImputer(strategy='mean')\n",
        "    data_imputed = imputer.fit_transform(data)\n",
        "\n",
        "    # numpy 배열을 다시 DataFrame으로 변환\n",
        "    data = pd.DataFrame(data_imputed, columns=data.columns)\n",
        "\n",
        "    data['day'] = data_day\n",
        "\n",
        "    return data\n",
        "# 시간 관련 열 변환\n",
        "data = convert_time_features(data)\n",
        "\n",
        "# 시간 변환 함수\n",
        "def convert_time_to_hhmm(df, time_col='time'):\n",
        "    # 분 단위를 시-분 형식으로 변환\n",
        "    df['hhmm_time'] = pd.to_datetime(df[time_col], unit='m').dt.strftime('%H:%M')\n",
        "    return df\n",
        "\n",
        "# 시간 변환 함수 적용\n",
        "data = convert_time_to_hhmm(data)\n",
        "\n",
        "data.head()"
      ],
      "metadata": {
        "id": "hCUvtNI49EB7"
      },
      "execution_count": null,
      "outputs": []
    },
    {
      "cell_type": "code",
      "source": [
        "# max_return_60min이 1.1 이상인 데이터 필터링\n",
        "filtered_data = data[data['max_return_60min'] >= 1.5]\n",
        "\n",
        "# hhmm_time을 datetime 형식으로 변환\n",
        "filtered_data['hhmm_time'] = pd.to_datetime(filtered_data['hhmm_time'], format='%H:%M')\n",
        "\n",
        "# hhmm_time 열을 기준으로 그룹화하여 min_return_60min의 분포를 캔들 스틱으로 표시\n",
        "candlestick_data = filtered_data.groupby(filtered_data['hhmm_time']).agg(\n",
        "    Open=('min_return_60min', 'first'),\n",
        "    High=('min_return_60min', 'max'),\n",
        "    Low=('min_return_60min', 'min'),\n",
        "    Close=('min_return_60min', 'last')\n",
        ")\n",
        "\n",
        "# 인덱스를 DatetimeIndex로 설정\n",
        "candlestick_data.index = pd.to_datetime(candlestick_data.index)\n",
        "\n",
        "# 캔들 스틱 차트 시각화\n",
        "mpf.plot(candlestick_data, type='candle', style='charles', title='Candlestick chart of min_return_60min', ylabel='min_return_60min')\n",
        "\n",
        "plt.show()"
      ],
      "metadata": {
        "id": "QBZbzALX9fqw"
      },
      "execution_count": null,
      "outputs": []
    },
    {
      "cell_type": "code",
      "source": [
        "# max_return_60min과 min_return_60min 열을 마지막 부분으로 이동\n",
        "columns = list(data.columns)\n",
        "columns.remove('max_return_60min')\n",
        "columns.remove('min_return_60min')\n",
        "columns.extend(['max_return_60min', 'min_return_60min'])\n",
        "data = data[columns]"
      ],
      "metadata": {
        "id": "gY-lvjx49iv8"
      },
      "execution_count": null,
      "outputs": []
    },
    {
      "cell_type": "code",
      "source": [
        "# max_return_60min이 1.1 이상이면서 min_return_60min이 1 이하인 데이터 필터링\n",
        "filtered_data2 = data[(data['max_return_60min'] >= 1.5) & (data['min_return_60min'] <= -10)]\n",
        "\n",
        "# 결과 출력\n",
        "filtered_data2"
      ],
      "metadata": {
        "id": "qVQXCWEI9kZF"
      },
      "execution_count": null,
      "outputs": []
    }
  ]
}